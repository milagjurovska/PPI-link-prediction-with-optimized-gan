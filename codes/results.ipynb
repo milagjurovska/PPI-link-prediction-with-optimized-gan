{
 "cells": [
  {
   "metadata": {
    "ExecuteTime": {
     "end_time": "2025-05-12T20:24:44.439407Z",
     "start_time": "2025-05-12T20:24:44.232829Z"
    }
   },
   "cell_type": "code",
   "source": [
    "%load_ext autoreload\n",
    "%autoreload 2"
   ],
   "id": "b00af415018bebcf",
   "outputs": [
    {
     "name": "stdout",
     "output_type": "stream",
     "text": [
      "The autoreload extension is already loaded. To reload it, use:\n",
      "  %reload_ext autoreload\n"
     ]
    }
   ],
   "execution_count": 43
  },
  {
   "metadata": {
    "ExecuteTime": {
     "end_time": "2025-05-12T20:58:20.957075Z",
     "start_time": "2025-05-12T20:58:20.782002Z"
    }
   },
   "cell_type": "code",
   "source": "%reload_ext autoreload",
   "id": "b3f4f8ebea519f2e",
   "outputs": [],
   "execution_count": 66
  },
  {
   "metadata": {
    "collapsed": true,
    "ExecuteTime": {
     "end_time": "2025-05-12T20:58:33.398567Z",
     "start_time": "2025-05-12T20:58:33.224996Z"
    }
   },
   "cell_type": "code",
   "source": [
    "from gcn import *\n",
    "from gan import *"
   ],
   "id": "initial_id",
   "outputs": [],
   "execution_count": 68
  },
  {
   "metadata": {},
   "cell_type": "markdown",
   "source": "# GCN results",
   "id": "2af644a26bfde8cc"
  },
  {
   "metadata": {
    "ExecuteTime": {
     "end_time": "2025-05-12T20:59:21.529554Z",
     "start_time": "2025-05-12T20:58:39.871878Z"
    }
   },
   "cell_type": "code",
   "source": [
    "print(\"\\n=== Before training ===\")\n",
    "test_probs = GCNtest(test_data)\n",
    "print(f\"Sample test predictions (first 5):\\n{test_probs[:5]}\")\n",
    "\n",
    "print(\"\\n=== After training ===\")\n",
    "for epoch in range(1, 7):\n",
    "  loss = GCNtrain()\n",
    "  test_probs = GCNtest(test_data)\n",
    "  auc_gcn, f1_gcn, threshold = evaluate_model(test_probs, test_data.edge_label)\n",
    "  print(f\"Epoch {epoch}, Loss: {loss:.4f}, AUC score: {auc_gcn:.4f}, F1 score: {f1_gcn:.4f}\")\n",
    "  print(f\"Sample predictions: {test_probs[:5].tolist()}...\")\n"
   ],
   "id": "87c4fd79af333fad",
   "outputs": [
    {
     "name": "stdout",
     "output_type": "stream",
     "text": [
      "\n",
      "=== Before training ===\n",
      "Sample test predictions (first 5):\n",
      "[0.60994947 0.5130086  0.6081474  0.52647436 0.53961223]\n",
      "\n",
      "=== After training ===\n",
      "Epoch 1, Loss: 1.3561, AUC score: 0.7792, F1 score: 0.7396\n",
      "Sample predictions: [0.9818738698959351, 0.63303142786026, 0.978988766670227, 0.7182592153549194, 0.8231585025787354]...\n",
      "Epoch 2, Loss: 1.5310, AUC score: 0.7844, F1 score: 0.7413\n",
      "Sample predictions: [0.8057428598403931, 0.5467485785484314, 0.7961256504058838, 0.5818135142326355, 0.6335729360580444]...\n",
      "Epoch 3, Loss: 1.3359, AUC score: 0.8208, F1 score: 0.7674\n",
      "Sample predictions: [0.6187767386436462, 0.514245331287384, 0.6103458404541016, 0.5278788208961487, 0.5451622605323792]...\n",
      "Epoch 4, Loss: 1.3418, AUC score: 0.8293, F1 score: 0.7739\n",
      "Sample predictions: [0.6054483652114868, 0.5146610736846924, 0.5992947816848755, 0.5270640254020691, 0.5396625995635986]...\n",
      "Epoch 5, Loss: 1.3455, AUC score: 0.8180, F1 score: 0.7627\n",
      "Sample predictions: [0.6993740200996399, 0.5333213210105896, 0.6933602094650269, 0.5557832717895508, 0.5800268054008484]...\n",
      "Epoch 6, Loss: 1.3266, AUC score: 0.8237, F1 score: 0.7653\n",
      "Sample predictions: [0.8592259883880615, 0.571474015712738, 0.850724995136261, 0.6165502071380615, 0.668058454990387]...\n"
     ]
    }
   ],
   "execution_count": 70
  },
  {
   "metadata": {},
   "cell_type": "markdown",
   "source": "# GAN results",
   "id": "13bf75e3c1042076"
  },
  {
   "metadata": {
    "ExecuteTime": {
     "end_time": "2025-05-12T21:10:12.810392Z",
     "start_time": "2025-05-12T21:03:55.527195Z"
    }
   },
   "cell_type": "code",
   "source": [
    "print(\"\\n=== Before training ===\")\n",
    "test_probs = GANtest(test_data)\n",
    "print(f\"Sample test predictions (first 5):\\n{test_probs[:5]}\")\n",
    "\n",
    "print(\"\\n=== After training ===\")\n",
    "for epoch in range(1, 7):\n",
    "    d_loss, g_loss = GANtrain()\n",
    "    test_probs = GANtest(test_data)\n",
    "    auc_gan, f1_gan, threshold = evaluate_model(test_probs, test_data.edge_label)\n",
    "    print(f\"Epoch {epoch}, D Loss: {d_loss:.4f}, G Loss: {g_loss:.4f}, AUC score: {auc_gan:.4f}, F1 score: {f1_gan:.4f}\")\n",
    "    print(f\"Sample predictions: {test_probs[:5].tolist()}...\")\n"
   ],
   "id": "c2168319882ef643",
   "outputs": [
    {
     "name": "stdout",
     "output_type": "stream",
     "text": [
      "\n",
      "=== Before training ===\n",
      "Sample test predictions (first 5):\n",
      "[[0.4751596 ]\n",
      " [0.48654005]\n",
      " [0.47895917]\n",
      " [0.48328245]\n",
      " [0.4762724 ]]\n",
      "\n",
      "=== After training ===\n",
      "Epoch 1, D Loss: 12.1183, G Loss: 0.0886, AUC score: 0.5025, F1 score: 0.6667\n",
      "Sample predictions: [[0.47546154260635376], [0.4687345325946808], [0.48227402567863464], [0.4829081892967224], [0.47707879543304443]]...\n",
      "Epoch 2, D Loss: 11.0827, G Loss: 0.0866, AUC score: 0.4997, F1 score: 0.6667\n",
      "Sample predictions: [[0.4699113965034485], [0.4804832935333252], [0.4828427731990814], [0.48518723249435425], [0.48484233021736145]]...\n",
      "Epoch 3, D Loss: 10.5219, G Loss: 0.0861, AUC score: 0.4998, F1 score: 0.6667\n",
      "Sample predictions: [[0.46950551867485046], [0.4812872111797333], [0.4789196848869324], [0.47638532519340515], [0.47891882061958313]]...\n",
      "Epoch 4, D Loss: 10.2114, G Loss: 0.0861, AUC score: 0.4988, F1 score: 0.6667\n",
      "Sample predictions: [[0.47363969683647156], [0.4772372841835022], [0.4800473153591156], [0.481595516204834], [0.48599082231521606]]...\n",
      "Epoch 5, D Loss: 10.0600, G Loss: 0.0856, AUC score: 0.4988, F1 score: 0.6667\n",
      "Sample predictions: [[0.4708212912082672], [0.4772132933139801], [0.47920334339141846], [0.4876382052898407], [0.4815160036087036]]...\n",
      "Epoch 6, D Loss: 9.9637, G Loss: 0.0849, AUC score: 0.4995, F1 score: 0.6667\n",
      "Sample predictions: [[0.4771537482738495], [0.48181387782096863], [0.4763205051422119], [0.47782665491104126], [0.4785669147968292]]...\n"
     ]
    }
   ],
   "execution_count": 72
  }
 ],
 "metadata": {
  "kernelspec": {
   "display_name": "Python 3",
   "language": "python",
   "name": "python3"
  },
  "language_info": {
   "codemirror_mode": {
    "name": "ipython",
    "version": 2
   },
   "file_extension": ".py",
   "mimetype": "text/x-python",
   "name": "python",
   "nbconvert_exporter": "python",
   "pygments_lexer": "ipython2",
   "version": "2.7.6"
  }
 },
 "nbformat": 4,
 "nbformat_minor": 5
}
