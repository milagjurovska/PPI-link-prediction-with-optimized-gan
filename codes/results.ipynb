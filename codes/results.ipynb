{
 "cells": [
  {
   "metadata": {
    "ExecuteTime": {
     "end_time": "2025-06-11T10:59:19.808536Z",
     "start_time": "2025-06-11T10:59:19.770008Z"
    }
   },
   "cell_type": "code",
   "source": [
    "%load_ext autoreload\n",
    "%autoreload 2"
   ],
   "id": "b00af415018bebcf",
   "outputs": [],
   "execution_count": 1
  },
  {
   "metadata": {
    "ExecuteTime": {
     "end_time": "2025-06-11T11:00:32.126736Z",
     "start_time": "2025-06-11T11:00:31.766947Z"
    }
   },
   "cell_type": "code",
   "source": "%reload_ext autoreload",
   "id": "b3f4f8ebea519f2e",
   "outputs": [],
   "execution_count": 2
  },
  {
   "metadata": {
    "collapsed": true,
    "ExecuteTime": {
     "end_time": "2025-06-11T11:00:57.419825Z",
     "start_time": "2025-06-11T11:00:32.763734Z"
    }
   },
   "cell_type": "code",
   "source": "from optimizers import *",
   "id": "initial_id",
   "outputs": [
    {
     "name": "stdout",
     "output_type": "stream",
     "text": [
      "Nodes: 21557, Edges: 342353\n"
     ]
    }
   ],
   "execution_count": 3
  },
  {
   "metadata": {},
   "cell_type": "markdown",
   "source": "# GCN results",
   "id": "2af644a26bfde8cc"
  },
  {
   "metadata": {
    "ExecuteTime": {
     "end_time": "2025-06-06T16:48:01.619042Z",
     "start_time": "2025-06-06T16:46:30.149423Z"
    }
   },
   "cell_type": "code",
   "source": [
    "print(\"\\n=== Before training ===\")\n",
    "test_probs = GCNtest(test_data)\n",
    "print(f\"Sample test predictions (first 5):\\n{test_probs[:5]}\")\n",
    "\n",
    "print(\"\\n=== After training ===\")\n",
    "for epoch in range(1, 7):\n",
    "  loss = GCNtrain()\n",
    "  test_probs = GCNtest(test_data)\n",
    "  auc_gcn, f1_gcn, threshold = evaluate_model(test_probs, test_data.edge_label)\n",
    "  print(f\"Epoch {epoch}, Loss: {loss:.4f}, AUC score: {auc_gcn:.4f}, F1 score: {f1_gcn:.4f}\")\n",
    "  print(f\"Sample predictions: {test_probs[:5].tolist()}...\")\n"
   ],
   "id": "87c4fd79af333fad",
   "outputs": [
    {
     "name": "stdout",
     "output_type": "stream",
     "text": [
      "\n",
      "=== Before training ===\n",
      "Sample test predictions (first 5):\n",
      "[0.52669513 0.5079812  0.5114555  0.5060205  0.5151084 ]\n",
      "\n",
      "=== After training ===\n",
      "Epoch 1, Loss: 1.3794, AUC score: 0.7138, F1 score: 0.7117\n",
      "Sample predictions: [0.6533562541007996, 0.5742816925048828, 0.5738202333450317, 0.5693365931510925, 0.585483729839325]...\n",
      "Epoch 2, Loss: 1.4429, AUC score: 0.7730, F1 score: 0.7248\n",
      "Sample predictions: [0.5268257856369019, 0.5107012987136841, 0.5146665573120117, 0.5169265270233154, 0.5147409439086914]...\n",
      "Epoch 3, Loss: 1.3598, AUC score: 0.7745, F1 score: 0.7382\n",
      "Sample predictions: [0.7236695289611816, 0.6123666167259216, 0.6401826739311218, 0.6087967753410339, 0.618206262588501]...\n",
      "Epoch 4, Loss: 1.4717, AUC score: 0.7757, F1 score: 0.7380\n",
      "Sample predictions: [0.6059471964836121, 0.5497739315032959, 0.5638862252235413, 0.5500574707984924, 0.5542542934417725]...\n",
      "Epoch 5, Loss: 1.3474, AUC score: 0.8039, F1 score: 0.7464\n",
      "Sample predictions: [0.5413625240325928, 0.5190430283546448, 0.5263428688049316, 0.5238518714904785, 0.5209195017814636]...\n",
      "Epoch 6, Loss: 1.3395, AUC score: 0.8301, F1 score: 0.7673\n",
      "Sample predictions: [0.5319851636886597, 0.515849232673645, 0.5218704342842102, 0.5234914422035217, 0.5162211656570435]...\n"
     ]
    }
   ],
   "execution_count": 4
  },
  {
   "metadata": {},
   "cell_type": "markdown",
   "source": "# GAN results",
   "id": "13bf75e3c1042076"
  },
  {
   "metadata": {
    "ExecuteTime": {
     "end_time": "2025-06-06T17:27:02.586188Z",
     "start_time": "2025-06-06T17:19:09.396875Z"
    }
   },
   "cell_type": "code",
   "source": [
    "print(\"\\n=== Before training ===\")\n",
    "test_probs = GANtest(test_data)\n",
    "print(f\"Sample test predictions (first 5):\\n{test_probs[:5]}\")\n",
    "\n",
    "print(\"\\n=== After training ===\")\n",
    "for epoch in range(1, 7):\n",
    "    d_loss, g_loss = GANtrain()\n",
    "    test_probs = GANtest(test_data)\n",
    "    auc_gan, f1_gan, threshold = evaluate_model(test_probs, test_data.edge_label)\n",
    "    print(f\"Epoch {epoch}, D Loss: {d_loss:.4f}, G Loss: {g_loss:.4f}, AUC score: {auc_gan:.4f}, F1 score: {f1_gan:.4f}\")\n",
    "    print(f\"Sample predictions: {test_probs[:5].tolist()}...\")\n"
   ],
   "id": "c2168319882ef643",
   "outputs": [
    {
     "name": "stdout",
     "output_type": "stream",
     "text": [
      "\n",
      "=== Before training ===\n",
      "Sample test predictions (first 5):\n",
      "[[0.5500396 ]\n",
      " [0.4581731 ]\n",
      " [0.5114905 ]\n",
      " [0.46558258]\n",
      " [0.4642037 ]]\n",
      "\n",
      "=== After training ===\n",
      "Epoch 1, D Loss: 0.7785, G Loss: 0.0006, AUC score: 0.5053, F1 score: 0.6667\n",
      "Sample predictions: [[0.5472835302352905], [0.4675036668777466], [0.5151628851890564], [0.47208327054977417], [0.4706752598285675]]...\n",
      "Epoch 2, D Loss: 0.4838, G Loss: -0.0165, AUC score: 0.5058, F1 score: 0.6667\n",
      "Sample predictions: [[0.5446469783782959], [0.47500020265579224], [0.5178864598274231], [0.476769357919693], [0.47607240080833435]]...\n",
      "Epoch 3, D Loss: 0.3200, G Loss: -0.0295, AUC score: 0.5063, F1 score: 0.6667\n",
      "Sample predictions: [[0.5436295866966248], [0.4795844256877899], [0.5203239321708679], [0.48019737005233765], [0.47955191135406494]]...\n",
      "Epoch 4, D Loss: 0.2235, G Loss: -0.0416, AUC score: 0.5071, F1 score: 0.6667\n",
      "Sample predictions: [[0.5433065295219421], [0.48325660824775696], [0.5223309397697449], [0.48367345333099365], [0.48208966851234436]]...\n",
      "Epoch 5, D Loss: 0.1646, G Loss: -0.0498, AUC score: 0.5081, F1 score: 0.6667\n",
      "Sample predictions: [[0.5430874228477478], [0.48655906319618225], [0.5237516164779663], [0.48624497652053833], [0.48418092727661133]]...\n",
      "Epoch 6, D Loss: 0.1329, G Loss: -0.0586, AUC score: 0.5091, F1 score: 0.6667\n",
      "Sample predictions: [[0.543538510799408], [0.4897739291191101], [0.5250416398048401], [0.48868829011917114], [0.4860377907752991]]...\n"
     ]
    }
   ],
   "execution_count": 4
  },
  {
   "metadata": {},
   "cell_type": "markdown",
   "source": "# Results after optimization with Genetic Algorithm",
   "id": "d3c5868a95638507"
  },
  {
   "metadata": {},
   "cell_type": "markdown",
   "source": "## GCN",
   "id": "f03a5025f05c562d"
  },
  {
   "metadata": {
    "ExecuteTime": {
     "end_time": "2025-06-09T09:39:12.624703Z",
     "start_time": "2025-06-09T09:28:25.967079Z"
    }
   },
   "cell_type": "code",
   "source": [
    "result = run_gcn_ga()\n",
    "\n",
    "print(\"\\nBest Hyperparameters Found:\")\n",
    "print(f\"  Hidden Channels : {result['best_params']['hidden_channels']}\")\n",
    "print(f\"  Learning Rate   : {result['best_params']['lr']:.5f}\")\n",
    "print(f\"  Num Layers      : {result['best_params']['num_layers']}\")\n",
    "print(f\"  Dropout         : {result['best_params']['dropout']:.2f}\")\n",
    "\n",
    "print(\"\\nPerformance Metrics:\")\n",
    "print(f\"  F1 Score        : {result['f1']:.4f}\")\n",
    "print(f\"  AUC             : {result['auc']:.4f}\")\n",
    "print(f\"  Average Loss    : {result['loss']:.4f}\")"
   ],
   "id": "9d69d5c9f9d6fb8c",
   "outputs": [
    {
     "name": "stdout",
     "output_type": "stream",
     "text": [
      "\n",
      "Best Hyperparameters Found:\n",
      "  Hidden Channels : 35\n",
      "  Learning Rate   : 0.01466\n",
      "  Num Layers      : 3\n",
      "  Dropout         : 0.21\n",
      "\n",
      "Performance Metrics:\n",
      "  F1 Score        : 0.8471\n",
      "  AUC             : 0.9044\n",
      "  Average Loss    : 1.2605\n"
     ]
    }
   ],
   "execution_count": 12
  },
  {
   "metadata": {},
   "cell_type": "markdown",
   "source": "## GAN",
   "id": "ddcf1955cdc81503"
  },
  {
   "metadata": {},
   "cell_type": "code",
   "outputs": [],
   "execution_count": null,
   "source": [
    "result = run_gan_ga()\n",
    "\n",
    "print(\"\\nBest Hyperparameters Found:\")\n",
    "print(f\"  Hidden Channels : {result['best_params']['hidden_channels']}\")\n",
    "print(f\"  Learning Rate   : {result['best_params']['lr']:.5f}\")\n",
    "print(f\"  Dropout         : {result['best_params']['dropout']:.2f}\")\n",
    "\n",
    "print(\"\\nPerformance Metrics:\")\n",
    "print(f\"  F1 Score        : {result['f1']:.4f}\")\n",
    "print(f\"  AUC             : {result['auc']:.4f}\")\n",
    "print(f\"  Average Loss    : {result['loss']:.4f}\")"
   ],
   "id": "f6f5350983471294"
  },
  {
   "metadata": {},
   "cell_type": "markdown",
   "source": "# Results after optimization with Particle Swarm Optimization",
   "id": "b391a2e7cc9e3c8b"
  },
  {
   "metadata": {},
   "cell_type": "markdown",
   "source": "## GCN",
   "id": "21300a69e07f8049"
  },
  {
   "metadata": {
    "ExecuteTime": {
     "end_time": "2025-06-10T18:53:17.335184Z",
     "start_time": "2025-06-10T18:42:59.638651Z"
    }
   },
   "cell_type": "code",
   "source": [
    "result = run_gcn_pso()\n",
    "\n",
    "print(\"\\nBest Hyperparameters Found:\")\n",
    "print(f\"  Hidden Channels : {result['best_params']['hidden_channels']}\")\n",
    "print(f\"  Learning Rate   : {result['best_params']['lr']:.5f}\")\n",
    "print(f\"  Num Layers      : {result['best_params']['num_layers']}\")\n",
    "print(f\"  Dropout         : {result['best_params']['dropout']:.2f}\")\n",
    "\n",
    "print(\"\\nPerformance Metrics:\")\n",
    "print(f\"  F1 Score        : {result['f1']:.4f}\")\n",
    "print(f\"  AUC             : {result['auc']:.4f}\")\n",
    "print(f\"  Average Loss    : {result['loss']:.4f}\")"
   ],
   "id": "32dfaf51b70af8ce",
   "outputs": [
    {
     "name": "stdout",
     "output_type": "stream",
     "text": [
      "\n",
      "Best Hyperparameters Found:\n",
      "  Hidden Channels : 32\n",
      "  Learning Rate   : 0.01579\n",
      "  Num Layers      : 4\n",
      "  Dropout         : 0.00\n",
      "\n",
      "Performance Metrics:\n",
      "  F1 Score        : 0.8498\n",
      "  AUC             : 0.8287\n",
      "  Average Loss    : 1.3822\n"
     ]
    }
   ],
   "execution_count": 5
  },
  {
   "metadata": {},
   "cell_type": "markdown",
   "source": "# Results after optimization with Simulated Annealing",
   "id": "2a65448e09728642"
  },
  {
   "metadata": {},
   "cell_type": "markdown",
   "source": "## GCN",
   "id": "9a212d425e6d6700"
  },
  {
   "metadata": {
    "ExecuteTime": {
     "end_time": "2025-06-10T19:15:19.770409Z",
     "start_time": "2025-06-10T19:02:21.546197Z"
    }
   },
   "cell_type": "code",
   "source": [
    "result = run_gcn_sa()\n",
    "\n",
    "print(\"\\nBest Hyperparameters Found:\")\n",
    "print(f\"  Hidden Channels : {result['best_params']['hidden_channels']}\")\n",
    "print(f\"  Learning Rate   : {result['best_params']['lr']:.5f}\")\n",
    "print(f\"  Num Layers      : {result['best_params']['num_layers']}\")\n",
    "print(f\"  Dropout         : {result['best_params']['dropout']:.2f}\")\n",
    "\n",
    "print(\"\\nPerformance Metrics:\")\n",
    "print(f\"  F1 Score        : {result['f1']:.4f}\")\n",
    "print(f\"  AUC             : {result['auc']:.4f}\")\n",
    "print(f\"  Average Loss    : {result['loss']:.4f}\")"
   ],
   "id": "ec4c277fd3fc03b7",
   "outputs": [
    {
     "name": "stdout",
     "output_type": "stream",
     "text": [
      "\n",
      "Best Hyperparameters Found:\n",
      "  Hidden Channels : 112\n",
      "  Learning Rate   : 0.03100\n",
      "  Num Layers      : 3\n",
      "  Dropout         : 0.55\n",
      "\n",
      "Performance Metrics:\n",
      "  F1 Score        : 0.8393\n",
      "  AUC             : 0.8354\n",
      "  Average Loss    : 1.3810\n"
     ]
    }
   ],
   "execution_count": 9
  },
  {
   "metadata": {},
   "cell_type": "markdown",
   "source": "# Results after optimization with Artificial Bee Colony",
   "id": "274dd73b5140e0d6"
  },
  {
   "metadata": {},
   "cell_type": "markdown",
   "source": "## GCN",
   "id": "e999c2bb65b1135a"
  },
  {
   "metadata": {
    "ExecuteTime": {
     "end_time": "2025-06-10T19:27:59.226041Z",
     "start_time": "2025-06-10T19:15:39.070763Z"
    }
   },
   "cell_type": "code",
   "source": [
    "result = run_gcn_abc()\n",
    "\n",
    "print(\"\\nBest Hyperparameters Found:\")\n",
    "print(f\"  Hidden Channels : {result['best_params']['hidden_channels']}\")\n",
    "print(f\"  Learning Rate   : {result['best_params']['lr']:.5f}\")\n",
    "print(f\"  Num Layers      : {result['best_params']['num_layers']}\")\n",
    "print(f\"  Dropout         : {result['best_params']['dropout']:.2f}\")\n",
    "\n",
    "print(\"\\nPerformance Metrics:\")\n",
    "print(f\"  F1 Score        : {result['f1']:.4f}\")\n",
    "print(f\"  AUC             : {result['auc']:.4f}\")\n",
    "print(f\"  Average Loss    : {result['loss']:.4f}\")"
   ],
   "id": "b253c16cf5abad7e",
   "outputs": [
    {
     "name": "stdout",
     "output_type": "stream",
     "text": [
      "\n",
      "Best Hyperparameters Found:\n",
      "  Hidden Channels : 32\n",
      "  Learning Rate   : 0.02367\n",
      "  Num Layers      : 3\n",
      "  Dropout         : 0.48\n",
      "\n",
      "Performance Metrics:\n",
      "  F1 Score        : 0.8490\n",
      "  AUC             : 0.5000\n",
      "  Average Loss    : 31.2235\n"
     ]
    }
   ],
   "execution_count": 12
  },
  {
   "metadata": {},
   "cell_type": "markdown",
   "source": "# Results after optimization with Hill Climbing",
   "id": "fd93d20cec426be4"
  },
  {
   "metadata": {},
   "cell_type": "markdown",
   "source": "## GCN",
   "id": "fc39556c84ced5b2"
  },
  {
   "metadata": {
    "ExecuteTime": {
     "end_time": "2025-06-11T11:12:50.315809Z",
     "start_time": "2025-06-11T11:05:34.280898Z"
    }
   },
   "cell_type": "code",
   "source": [
    "result = run_gcn_hc()\n",
    "\n",
    "print(\"\\nBest Hyperparameters Found:\")\n",
    "print(f\"  Hidden Channels : {result['best_params']['hidden_channels']}\")\n",
    "print(f\"  Learning Rate   : {result['best_params']['lr']:.5f}\")\n",
    "print(f\"  Num Layers      : {result['best_params']['num_layers']}\")\n",
    "print(f\"  Dropout         : {result['best_params']['dropout']:.2f}\")\n",
    "\n",
    "print(\"\\nPerformance Metrics:\")\n",
    "print(f\"  F1 Score        : {result['f1']:.4f}\")\n",
    "print(f\"  AUC             : {result['auc']:.4f}\")\n",
    "print(f\"  Average Loss    : {result['loss']:.4f}\")"
   ],
   "id": "1a9b469bd6fd05c1",
   "outputs": [
    {
     "name": "stdout",
     "output_type": "stream",
     "text": [
      "\n",
      "Best Hyperparameters Found:\n",
      "  Hidden Channels : 58\n",
      "  Learning Rate   : 0.02508\n",
      "  Num Layers      : 3\n",
      "  Dropout         : 0.54\n",
      "\n",
      "Performance Metrics:\n",
      "  F1 Score        : 0.8491\n",
      "  AUC             : 0.7861\n",
      "  Average Loss    : 1.3760\n"
     ]
    }
   ],
   "execution_count": 6
  },
  {
   "metadata": {},
   "cell_type": "markdown",
   "source": "# Results after optimization with Random Search",
   "id": "3d79ed570c7e5e2c"
  },
  {
   "metadata": {},
   "cell_type": "markdown",
   "source": "## GCN",
   "id": "b6c2e87484641f9f"
  },
  {
   "metadata": {
    "ExecuteTime": {
     "end_time": "2025-06-11T11:20:07.182565Z",
     "start_time": "2025-06-11T11:12:50.501504Z"
    }
   },
   "cell_type": "code",
   "source": [
    "result = run_gcn_ra()\n",
    "\n",
    "print(\"\\nBest Hyperparameters Found:\")\n",
    "print(f\"  Hidden Channels : {result['best_params']['hidden_channels']}\")\n",
    "print(f\"  Learning Rate   : {result['best_params']['lr']:.5f}\")\n",
    "print(f\"  Num Layers      : {result['best_params']['num_layers']}\")\n",
    "print(f\"  Dropout         : {result['best_params']['dropout']:.2f}\")\n",
    "\n",
    "print(\"\\nPerformance Metrics:\")\n",
    "print(f\"  F1 Score        : {result['f1']:.4f}\")\n",
    "print(f\"  AUC             : {result['auc']:.4f}\")\n",
    "print(f\"  Average Loss    : {result['loss']:.4f}\")"
   ],
   "id": "6e30c6234911c49",
   "outputs": [
    {
     "name": "stdout",
     "output_type": "stream",
     "text": [
      "\n",
      "Best Hyperparameters Found:\n",
      "  Hidden Channels : 125\n",
      "  Learning Rate   : 0.01720\n",
      "  Num Layers      : 3\n",
      "  Dropout         : 0.50\n",
      "\n",
      "Performance Metrics:\n",
      "  F1 Score        : 0.8411\n",
      "  AUC             : 0.9035\n",
      "  Average Loss    : 1.2390\n"
     ]
    }
   ],
   "execution_count": 7
  }
 ],
 "metadata": {
  "kernelspec": {
   "display_name": "Python 3",
   "language": "python",
   "name": "python3"
  },
  "language_info": {
   "codemirror_mode": {
    "name": "ipython",
    "version": 2
   },
   "file_extension": ".py",
   "mimetype": "text/x-python",
   "name": "python",
   "nbconvert_exporter": "python",
   "pygments_lexer": "ipython2",
   "version": "2.7.6"
  }
 },
 "nbformat": 4,
 "nbformat_minor": 5
}
