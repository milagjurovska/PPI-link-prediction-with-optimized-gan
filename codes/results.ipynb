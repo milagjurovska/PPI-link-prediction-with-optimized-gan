{
 "cells": [
  {
   "metadata": {
    "ExecuteTime": {
     "end_time": "2025-05-24T17:39:12.410681Z",
     "start_time": "2025-05-24T17:39:12.385416Z"
    }
   },
   "cell_type": "code",
   "source": [
    "%load_ext autoreload\n",
    "%autoreload 2"
   ],
   "id": "b00af415018bebcf",
   "outputs": [],
   "execution_count": 1
  },
  {
   "metadata": {
    "ExecuteTime": {
     "end_time": "2025-05-24T17:41:41.356495Z",
     "start_time": "2025-05-24T17:41:41.071080Z"
    }
   },
   "cell_type": "code",
   "source": "%reload_ext autoreload",
   "id": "b3f4f8ebea519f2e",
   "outputs": [],
   "execution_count": 6
  },
  {
   "metadata": {
    "collapsed": true,
    "ExecuteTime": {
     "end_time": "2025-05-24T17:39:36.918964Z",
     "start_time": "2025-05-24T17:39:12.902345Z"
    }
   },
   "cell_type": "code",
   "source": [
    "from gcn import *\n",
    "from gan import *"
   ],
   "id": "initial_id",
   "outputs": [
    {
     "name": "stdout",
     "output_type": "stream",
     "text": [
      "Nodes: 21557, Edges: 342353\n"
     ]
    }
   ],
   "execution_count": 3
  },
  {
   "metadata": {},
   "cell_type": "markdown",
   "source": "# GCN results",
   "id": "2af644a26bfde8cc"
  },
  {
   "metadata": {
    "ExecuteTime": {
     "end_time": "2025-05-24T17:40:15.750416Z",
     "start_time": "2025-05-24T17:39:37.423102Z"
    }
   },
   "cell_type": "code",
   "source": [
    "print(\"\\n=== Before training ===\")\n",
    "test_probs = GCNtest(test_data)\n",
    "print(f\"Sample test predictions (first 5):\\n{test_probs[:5]}\")\n",
    "\n",
    "print(\"\\n=== After training ===\")\n",
    "for epoch in range(1, 7):\n",
    "  loss = GCNtrain()\n",
    "  test_probs = GCNtest(test_data)\n",
    "  auc_gcn, f1_gcn, threshold = evaluate_model(test_probs, test_data.edge_label)\n",
    "  print(f\"Epoch {epoch}, Loss: {loss:.4f}, AUC score: {auc_gcn:.4f}, F1 score: {f1_gcn:.4f}\")\n",
    "  print(f\"Sample predictions: {test_probs[:5].tolist()}...\")\n"
   ],
   "id": "87c4fd79af333fad",
   "outputs": [
    {
     "name": "stdout",
     "output_type": "stream",
     "text": [
      "\n",
      "=== Before training ===\n",
      "Sample test predictions (first 5):\n",
      "[0.508669   0.52617455 0.52246225 0.5043687  0.50583947]\n",
      "\n",
      "=== After training ===\n",
      "Epoch 1, Loss: 1.3800, AUC score: 0.7201, F1 score: 0.7181\n",
      "Sample predictions: [0.5740606188774109, 0.700497031211853, 0.6931028962135315, 0.5440300703048706, 0.5807310938835144]...\n",
      "Epoch 2, Loss: 1.4586, AUC score: 0.7364, F1 score: 0.7007\n",
      "Sample predictions: [0.5123364329338074, 0.5388011336326599, 0.5273520350456238, 0.5084500312805176, 0.5118750929832458]...\n",
      "Epoch 3, Loss: 1.3691, AUC score: 0.7525, F1 score: 0.7273\n",
      "Sample predictions: [0.6035999655723572, 0.777664303779602, 0.7110123038291931, 0.5811549425125122, 0.6008046269416809]...\n",
      "Epoch 4, Loss: 1.4594, AUC score: 0.7563, F1 score: 0.7294\n",
      "Sample predictions: [0.5566285848617554, 0.6630180478096008, 0.6196463108062744, 0.5444080233573914, 0.5554032921791077]...\n",
      "Epoch 5, Loss: 1.3660, AUC score: 0.7854, F1 score: 0.7449\n",
      "Sample predictions: [0.5302538275718689, 0.5902528166770935, 0.5680936574935913, 0.5240145921707153, 0.5329350233078003]...\n",
      "Epoch 6, Loss: 1.3402, AUC score: 0.8148, F1 score: 0.7595\n",
      "Sample predictions: [0.5323544144630432, 0.5957693457603455, 0.5780817866325378, 0.5256376266479492, 0.5400166511535645]...\n"
     ]
    }
   ],
   "execution_count": 4
  },
  {
   "metadata": {},
   "cell_type": "markdown",
   "source": "# GAN results",
   "id": "13bf75e3c1042076"
  },
  {
   "metadata": {
    "ExecuteTime": {
     "end_time": "2025-05-24T17:46:36.492653Z",
     "start_time": "2025-05-24T17:41:43.970183Z"
    }
   },
   "cell_type": "code",
   "source": [
    "print(\"\\n=== Before training ===\")\n",
    "test_probs = GANtest(test_data)\n",
    "print(f\"Sample test predictions (first 5):\\n{test_probs[:5][0]}\")\n",
    "\n",
    "print(\"\\n=== After training ===\")\n",
    "for epoch in range(1, 7):\n",
    "    d_loss, g_loss = GANtrain()\n",
    "    test_probs = GANtest(test_data)\n",
    "    auc_gan, f1_gan, threshold = evaluate_model(test_probs, test_data.edge_label)\n",
    "    print(f\"Epoch {epoch}, D Loss: {d_loss:.4f}, G Loss: {g_loss:.4f}, AUC score: {auc_gan:.4f}, F1 score: {f1_gan:.4f}\")\n",
    "    print(f\"Sample predictions: {test_probs[:5][0].tolist()}...\")\n"
   ],
   "id": "c2168319882ef643",
   "outputs": [
    {
     "name": "stdout",
     "output_type": "stream",
     "text": [
      "\n",
      "=== Before training ===\n",
      "Sample test predictions (first 5):\n",
      "[[0.46222332]\n",
      " [0.45066112]\n",
      " [0.44908395]\n",
      " [0.4318089 ]\n",
      " [0.43197188]]\n",
      "\n",
      "=== After training ===\n",
      "Epoch 1, D Loss: 0.2855, G Loss: 0.2967, AUC score: 0.5052, F1 score: 0.6667\n",
      "Sample predictions: [[0.46496811509132385], [0.45869219303131104], [0.45661160349845886], [0.4412725567817688], [0.4384584426879883]]...\n",
      "Epoch 2, D Loss: 0.1570, G Loss: 0.2732, AUC score: 0.5060, F1 score: 0.6667\n",
      "Sample predictions: [[0.4671212434768677], [0.4629126191139221], [0.4629296660423279], [0.44668954610824585], [0.44254645705223083]]...\n",
      "Epoch 3, D Loss: 0.1108, G Loss: 0.2553, AUC score: 0.5072, F1 score: 0.6667\n",
      "Sample predictions: [[0.4691438376903534], [0.4649304449558258], [0.46896156668663025], [0.45034167170524597], [0.4447591304779053]]...\n",
      "Epoch 4, D Loss: 0.0946, G Loss: 0.2438, AUC score: 0.5086, F1 score: 0.6667\n",
      "Sample predictions: [[0.4708743691444397], [0.46540340781211853], [0.4746894836425781], [0.4515184760093689], [0.44569408893585205]]...\n",
      "Epoch 5, D Loss: 0.0881, G Loss: 0.2350, AUC score: 0.5099, F1 score: 0.6667\n",
      "Sample predictions: [[0.4717023968696594], [0.4648783504962921], [0.4800317585468292], [0.45181170105934143], [0.4452626705169678]]...\n",
      "Epoch 6, D Loss: 0.0829, G Loss: 0.2288, AUC score: 0.5112, F1 score: 0.6667\n",
      "Sample predictions: [[0.47200825810432434], [0.4641951620578766], [0.4838730990886688], [0.45129528641700745], [0.44391191005706787]]...\n"
     ]
    }
   ],
   "execution_count": 7
  }
 ],
 "metadata": {
  "kernelspec": {
   "display_name": "Python 3",
   "language": "python",
   "name": "python3"
  },
  "language_info": {
   "codemirror_mode": {
    "name": "ipython",
    "version": 2
   },
   "file_extension": ".py",
   "mimetype": "text/x-python",
   "name": "python",
   "nbconvert_exporter": "python",
   "pygments_lexer": "ipython2",
   "version": "2.7.6"
  }
 },
 "nbformat": 4,
 "nbformat_minor": 5
}
