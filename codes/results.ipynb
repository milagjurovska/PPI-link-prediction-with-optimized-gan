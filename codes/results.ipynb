{
 "cells": [
  {
   "metadata": {
    "ExecuteTime": {
     "end_time": "2025-06-11T21:33:47.125784Z",
     "start_time": "2025-06-11T21:33:47.077804Z"
    }
   },
   "cell_type": "code",
   "source": [
    "%load_ext autoreload\n",
    "%autoreload 2"
   ],
   "id": "b00af415018bebcf",
   "outputs": [],
   "execution_count": 1
  },
  {
   "metadata": {
    "ExecuteTime": {
     "end_time": "2025-06-11T21:50:08.192383Z",
     "start_time": "2025-06-11T21:50:07.848650Z"
    }
   },
   "cell_type": "code",
   "source": "%reload_ext autoreload",
   "id": "b3f4f8ebea519f2e",
   "outputs": [],
   "execution_count": 12
  },
  {
   "metadata": {
    "collapsed": true,
    "ExecuteTime": {
     "end_time": "2025-06-11T21:50:09.348389Z",
     "start_time": "2025-06-11T21:50:09.192626Z"
    }
   },
   "cell_type": "code",
   "source": [
    "from optimizers_niapy import *\n",
    "from other_optimizers import *"
   ],
   "id": "initial_id",
   "outputs": [],
   "execution_count": 13
  },
  {
   "metadata": {},
   "cell_type": "markdown",
   "source": "# GCN results",
   "id": "2af644a26bfde8cc"
  },
  {
   "metadata": {
    "ExecuteTime": {
     "end_time": "2025-06-11T20:43:51.096605Z",
     "start_time": "2025-06-11T20:42:52.255919Z"
    }
   },
   "cell_type": "code",
   "source": [
    "model = GCNLinkPredictor(in_channels=5, hidden_channels=256)\n",
    "optimizer = optim.Adam(model.parameters(), lr=0.01)\n",
    "\n",
    "print(\"\\n=== Before training ===\")\n",
    "test_probs = GCNtest(model, test_data)\n",
    "print(f\"Sample test predictions (first 5):\\n{test_probs[:5]}\")\n",
    "\n",
    "print(\"\\n=== After training ===\")\n",
    "for epoch in range(1, 10):\n",
    "  loss = GCNtrain(model, optimizer, train_data)\n",
    "  test_probs = GCNtest(model, test_data)\n",
    "  auc_gcn, f1_gcn, threshold = evaluate_model(test_probs, test_data.edge_label)\n",
    "  print(f\"Epoch {epoch}, Loss: {loss:.4f}, AUC score: {auc_gcn:.4f}, F1 score: {f1_gcn:.4f}\")\n",
    "  print(f\"Sample predictions: {test_probs[:5].tolist()}...\")\n"
   ],
   "id": "87c4fd79af333fad",
   "outputs": [
    {
     "name": "stdout",
     "output_type": "stream",
     "text": [
      "\n",
      "=== Before training ===\n",
      "Sample test predictions (first 5):\n",
      "[0.530487   0.5121068  0.5320257  0.51800746 0.51751906]\n",
      "\n",
      "=== After training ===\n",
      "Epoch 1, Loss: 1.3755, AUC score: 0.7529, F1 score: 0.7278\n",
      "Sample predictions: [0.756817102432251, 0.6171451210975647, 0.8041971921920776, 0.6594882011413574, 0.6854455471038818]...\n",
      "Epoch 2, Loss: 1.4892, AUC score: 0.7374, F1 score: 0.7105\n",
      "Sample predictions: [0.5396678447723389, 0.5136833786964417, 0.5454912185668945, 0.5203129053115845, 0.5249595046043396]...\n",
      "Epoch 3, Loss: 1.3677, AUC score: 0.7192, F1 score: 0.7125\n",
      "Sample predictions: [0.6969800591468811, 0.5894076824188232, 0.7471961975097656, 0.6259374618530273, 0.6321976780891418]...\n",
      "Epoch 4, Loss: 1.4305, AUC score: 0.7214, F1 score: 0.7140\n",
      "Sample predictions: [0.6559635996818542, 0.5706409811973572, 0.7004437446594238, 0.6001905798912048, 0.6043412089347839]...\n",
      "Epoch 5, Loss: 1.3966, AUC score: 0.7446, F1 score: 0.7234\n",
      "Sample predictions: [0.6085211038589478, 0.5484013557434082, 0.639589786529541, 0.569541871547699, 0.5737779140472412]...\n",
      "Epoch 6, Loss: 1.3603, AUC score: 0.7833, F1 score: 0.7444\n",
      "Sample predictions: [0.6111394166946411, 0.5495867133140564, 0.6396906971931458, 0.5713983774185181, 0.5790494084358215]...\n",
      "Epoch 7, Loss: 1.3376, AUC score: 0.8180, F1 score: 0.7642\n",
      "Sample predictions: [0.6613973379135132, 0.5725058913230896, 0.6962538957595825, 0.604087769985199, 0.6194931268692017]...\n",
      "Epoch 8, Loss: 1.3128, AUC score: 0.8478, F1 score: 0.7834\n",
      "Sample predictions: [0.7486963272094727, 0.6143982410430908, 0.7866237759590149, 0.6631689071655273, 0.6908938884735107]...\n",
      "Epoch 9, Loss: 1.2882, AUC score: 0.8738, F1 score: 0.8024\n",
      "Sample predictions: [0.8154688477516174, 0.6488262414932251, 0.8433018922805786, 0.7117280960083008, 0.748948872089386]...\n"
     ]
    }
   ],
   "execution_count": 6
  },
  {
   "metadata": {},
   "cell_type": "markdown",
   "source": "# GAN results",
   "id": "13bf75e3c1042076"
  },
  {
   "metadata": {
    "ExecuteTime": {
     "end_time": "2025-06-11T21:39:21.305504Z",
     "start_time": "2025-06-11T21:38:00.073962Z"
    }
   },
   "cell_type": "code",
   "source": [
    "generator = Generator(in_channels=5, hidden_channels=256).to(device)\n",
    "discriminator = Discriminator(hidden_channels=256).to(device)\n",
    "\n",
    "generator.apply(init_weights)\n",
    "discriminator.apply(init_weights)\n",
    "\n",
    "optimizer_G = optim.Adam(generator.parameters(), lr=1e-4, betas=(0.5, 0.999))\n",
    "optimizer_D = optim.Adam(discriminator.parameters(), lr=1e-4, betas=(0.5, 0.999))\n",
    "\n",
    "print(\"\\n=== Before training ===\")\n",
    "test_probs = GANtest(generator, discriminator, test_data)\n",
    "print(f\"Sample test predictions (first 5):\\n{test_probs[:5]}\")\n",
    "\n",
    "print(\"\\n=== After training ===\")\n",
    "for epoch in range(1, 10):\n",
    "    d_loss, g_loss = GANtrain(generator, discriminator, optimizer_G, optimizer_D, train_data)\n",
    "    test_probs = GANtest(generator, discriminator, test_data)\n",
    "    auc_gan, f1_gan, threshold = evaluate_model(test_probs, test_data.edge_label)\n",
    "    print(f\"Epoch {epoch}, D Loss: {d_loss:.4f}, G Loss: {g_loss:.4f}, AUC score: {auc_gan:.4f}, F1 score: {f1_gan:.4f}\")\n",
    "    print(f\"Sample predictions: {test_probs[:5].tolist()}...\")\n"
   ],
   "id": "c2168319882ef643",
   "outputs": [
    {
     "name": "stdout",
     "output_type": "stream",
     "text": [
      "\n",
      "=== Before training ===\n",
      "Sample test predictions (first 5):\n",
      "[[0.4967758 ]\n",
      " [0.51241285]\n",
      " [0.5010973 ]\n",
      " [0.49302885]\n",
      " [0.49735793]]\n",
      "\n",
      "=== After training ===\n",
      "Epoch 1, D Loss: 0.0077, G Loss: 0.0016, AUC score: 0.5059, F1 score: 0.6809\n",
      "Sample predictions: [[0.49454465508461], [0.5098069310188293], [0.4993833899497986], [0.49015289545059204], [0.4931155741214752]]...\n",
      "Epoch 2, D Loss: -0.0004, G Loss: 0.0192, AUC score: 0.5488, F1 score: 0.6845\n",
      "Sample predictions: [[0.49249210953712463], [0.5075169801712036], [0.4976271390914917], [0.48761773109436035], [0.48919180035591125]]...\n",
      "Epoch 3, D Loss: -0.0148, G Loss: 0.0415, AUC score: 0.5904, F1 score: 0.6886\n",
      "Sample predictions: [[0.49038979411125183], [0.5052443742752075], [0.4957611560821533], [0.4850482642650604], [0.4851073920726776]]...\n",
      "Epoch 4, D Loss: -0.0157, G Loss: 0.0549, AUC score: 0.6278, F1 score: 0.6972\n",
      "Sample predictions: [[0.4884045422077179], [0.5030146241188049], [0.4941975474357605], [0.48277002573013306], [0.4815029799938202]]...\n",
      "Epoch 5, D Loss: -0.0371, G Loss: 0.0876, AUC score: 0.6604, F1 score: 0.7051\n",
      "Sample predictions: [[0.48606911301612854], [0.5004355907440186], [0.49249833822250366], [0.4802733361721039], [0.4771744906902313]]...\n",
      "Epoch 6, D Loss: -0.0437, G Loss: 0.1028, AUC score: 0.6862, F1 score: 0.7096\n",
      "Sample predictions: [[0.4833638668060303], [0.4979737102985382], [0.4907740354537964], [0.47753962874412537], [0.47260135412216187]]...\n",
      "Epoch 7, D Loss: -0.0532, G Loss: 0.1213, AUC score: 0.7078, F1 score: 0.7145\n",
      "Sample predictions: [[0.48109006881713867], [0.4952053427696228], [0.48916953802108765], [0.47518810629844666], [0.46857109665870667]]...\n",
      "Epoch 8, D Loss: -0.0638, G Loss: 0.1470, AUC score: 0.7238, F1 score: 0.7234\n",
      "Sample predictions: [[0.47860613465309143], [0.49242258071899414], [0.4873824417591095], [0.47279831767082214], [0.4645359516143799]]...\n",
      "Epoch 9, D Loss: -0.0749, G Loss: 0.1681, AUC score: 0.7345, F1 score: 0.7277\n",
      "Sample predictions: [[0.4762526750564575], [0.489783376455307], [0.485941618680954], [0.4701932668685913], [0.4608660340309143]]...\n"
     ]
    }
   ],
   "execution_count": 8
  },
  {
   "metadata": {},
   "cell_type": "markdown",
   "source": "# Results after optimization with Genetic Algorithm",
   "id": "d3c5868a95638507"
  },
  {
   "metadata": {},
   "cell_type": "markdown",
   "source": "## GCN",
   "id": "f03a5025f05c562d"
  },
  {
   "metadata": {
    "ExecuteTime": {
     "end_time": "2025-06-11T21:08:44.002164Z",
     "start_time": "2025-06-11T20:59:15.003902Z"
    }
   },
   "cell_type": "code",
   "source": [
    "result = run_gcn_ga()\n",
    "\n",
    "print(\"\\nBest Hyperparameters Found:\")\n",
    "print(f\"  Hidden Channels : {result['best_params']['hidden_channels']}\")\n",
    "print(f\"  Learning Rate   : {result['best_params']['lr']:.5f}\")\n",
    "print(f\"  Num Layers      : {result['best_params']['num_layers']}\")\n",
    "print(f\"  Dropout         : {result['best_params']['dropout']:.2f}\")\n",
    "\n",
    "print(\"\\nPerformance Metrics:\")\n",
    "print(f\"  F1 Score        : {result['f1']:.4f}\")\n",
    "print(f\"  AUC             : {result['auc']:.4f}\")\n",
    "print(f\"  Average Loss    : {result['loss']:.4f}\")"
   ],
   "id": "9d69d5c9f9d6fb8c",
   "outputs": [
    {
     "name": "stdout",
     "output_type": "stream",
     "text": [
      "\n",
      "Best Hyperparameters Found:\n",
      "  Hidden Channels : 143\n",
      "  Learning Rate   : 0.00448\n",
      "  Num Layers      : 3\n",
      "  Dropout         : 0.35\n",
      "\n",
      "Performance Metrics:\n",
      "  F1 Score        : 0.8479\n",
      "  AUC             : 0.9154\n",
      "  Average Loss    : 1.2360\n"
     ]
    }
   ],
   "execution_count": 19
  },
  {
   "metadata": {},
   "cell_type": "markdown",
   "source": "## GAN",
   "id": "ddcf1955cdc81503"
  },
  {
   "metadata": {
    "ExecuteTime": {
     "end_time": "2025-06-11T22:05:02.815018Z",
     "start_time": "2025-06-11T21:50:13.719031Z"
    }
   },
   "cell_type": "code",
   "source": [
    "result = run_gcn_ga()\n",
    "\n",
    "print(\"\\nBest Hyperparameters Found:\")\n",
    "print(f\"  Hidden Channels : {result['best_params']['hidden_channels']}\")\n",
    "print(f\"  Learning Rate   : {result['best_params']['lr']:.5f}\")\n",
    "print(f\"  Dropout         : {result['best_params']['dropout']:.2f}\")\n",
    "\n",
    "print(\"\\nPerformance Metrics:\")\n",
    "print(f\"  F1 Score        : {result['f1']:.4f}\")\n",
    "print(f\"  AUC             : {result['auc']:.4f}\")\n",
    "print(f\"  Average Loss    : {result['loss']:.4f}\")"
   ],
   "id": "f6f5350983471294",
   "outputs": [
    {
     "name": "stdout",
     "output_type": "stream",
     "text": [
      "\n",
      "Best Hyperparameters Found:\n",
      "  Hidden Channels : 210\n",
      "  Learning Rate   : 0.00601\n",
      "  Dropout         : 0.26\n",
      "\n",
      "Performance Metrics:\n",
      "  F1 Score        : 0.8415\n",
      "  AUC             : 0.5000\n",
      "  Average Loss    : 31.2231\n"
     ]
    }
   ],
   "execution_count": 14
  },
  {
   "metadata": {},
   "cell_type": "markdown",
   "source": "# Results after optimization with Particle Swarm Optimization",
   "id": "b391a2e7cc9e3c8b"
  },
  {
   "metadata": {},
   "cell_type": "markdown",
   "source": "## GCN",
   "id": "21300a69e07f8049"
  },
  {
   "metadata": {
    "ExecuteTime": {
     "end_time": "2025-06-10T18:53:17.335184Z",
     "start_time": "2025-06-10T18:42:59.638651Z"
    }
   },
   "cell_type": "code",
   "source": [
    "result = run_gcn_pso()\n",
    "\n",
    "print(\"\\nBest Hyperparameters Found:\")\n",
    "print(f\"  Hidden Channels : {result['best_params']['hidden_channels']}\")\n",
    "print(f\"  Learning Rate   : {result['best_params']['lr']:.5f}\")\n",
    "print(f\"  Num Layers      : {result['best_params']['num_layers']}\")\n",
    "print(f\"  Dropout         : {result['best_params']['dropout']:.2f}\")\n",
    "\n",
    "print(\"\\nPerformance Metrics:\")\n",
    "print(f\"  F1 Score        : {result['f1']:.4f}\")\n",
    "print(f\"  AUC             : {result['auc']:.4f}\")\n",
    "print(f\"  Average Loss    : {result['loss']:.4f}\")"
   ],
   "id": "32dfaf51b70af8ce",
   "outputs": [
    {
     "name": "stdout",
     "output_type": "stream",
     "text": [
      "\n",
      "Best Hyperparameters Found:\n",
      "  Hidden Channels : 32\n",
      "  Learning Rate   : 0.01579\n",
      "  Num Layers      : 4\n",
      "  Dropout         : 0.00\n",
      "\n",
      "Performance Metrics:\n",
      "  F1 Score        : 0.8498\n",
      "  AUC             : 0.8287\n",
      "  Average Loss    : 1.3822\n"
     ]
    }
   ],
   "execution_count": 5
  },
  {
   "metadata": {},
   "cell_type": "markdown",
   "source": "## GAN",
   "id": "a30b2a798bde10ab"
  },
  {
   "metadata": {
    "ExecuteTime": {
     "end_time": "2025-06-11T22:15:40.976055Z",
     "start_time": "2025-06-11T22:05:34.312615Z"
    }
   },
   "cell_type": "code",
   "source": [
    "result = run_gan_pso()\n",
    "\n",
    "print(\"\\nBest Hyperparameters Found:\")\n",
    "print(f\"  Hidden Channels : {result['best_params']['hidden_channels']}\")\n",
    "print(f\"  Learning Rate   : {result['best_params']['lr']:.5f}\")\n",
    "print(f\"  Dropout         : {result['best_params']['dropout']:.2f}\")\n",
    "\n",
    "print(\"\\nPerformance Metrics:\")\n",
    "print(f\"  F1 Score        : {result['f1']:.4f}\")\n",
    "print(f\"  AUC             : {result['auc']:.4f}\")\n",
    "print(f\"  Average Loss    : {result['loss']:.4f}\")"
   ],
   "id": "2c3d48b7e454cca4",
   "outputs": [
    {
     "name": "stdout",
     "output_type": "stream",
     "text": [
      "\n",
      "Best Hyperparameters Found:\n",
      "  Hidden Channels : 277\n",
      "  Learning Rate   : 0.00308\n",
      "  Dropout         : 0.45\n",
      "\n",
      "Performance Metrics:\n",
      "  F1 Score        : 0.7497\n",
      "  AUC             : 0.5540\n",
      "  Average Loss    : 0.0264\n"
     ]
    }
   ],
   "execution_count": 15
  },
  {
   "metadata": {},
   "cell_type": "markdown",
   "source": "# Results after optimization with Simulated Annealing",
   "id": "2a65448e09728642"
  },
  {
   "metadata": {},
   "cell_type": "markdown",
   "source": "## GCN",
   "id": "9a212d425e6d6700"
  },
  {
   "metadata": {
    "ExecuteTime": {
     "end_time": "2025-06-10T19:15:19.770409Z",
     "start_time": "2025-06-10T19:02:21.546197Z"
    }
   },
   "cell_type": "code",
   "source": [
    "result = run_gcn_sa()\n",
    "\n",
    "print(\"\\nBest Hyperparameters Found:\")\n",
    "print(f\"  Hidden Channels : {result['best_params']['hidden_channels']}\")\n",
    "print(f\"  Learning Rate   : {result['best_params']['lr']:.5f}\")\n",
    "print(f\"  Num Layers      : {result['best_params']['num_layers']}\")\n",
    "print(f\"  Dropout         : {result['best_params']['dropout']:.2f}\")\n",
    "\n",
    "print(\"\\nPerformance Metrics:\")\n",
    "print(f\"  F1 Score        : {result['f1']:.4f}\")\n",
    "print(f\"  AUC             : {result['auc']:.4f}\")\n",
    "print(f\"  Average Loss    : {result['loss']:.4f}\")"
   ],
   "id": "ec4c277fd3fc03b7",
   "outputs": [
    {
     "name": "stdout",
     "output_type": "stream",
     "text": [
      "\n",
      "Best Hyperparameters Found:\n",
      "  Hidden Channels : 112\n",
      "  Learning Rate   : 0.03100\n",
      "  Num Layers      : 3\n",
      "  Dropout         : 0.55\n",
      "\n",
      "Performance Metrics:\n",
      "  F1 Score        : 0.8393\n",
      "  AUC             : 0.8354\n",
      "  Average Loss    : 1.3810\n"
     ]
    }
   ],
   "execution_count": 9
  },
  {
   "metadata": {},
   "cell_type": "markdown",
   "source": "## GAN",
   "id": "dbc590298df32d27"
  },
  {
   "metadata": {
    "ExecuteTime": {
     "end_time": "2025-06-11T22:24:59.310776Z",
     "start_time": "2025-06-11T22:15:41.049900Z"
    }
   },
   "cell_type": "code",
   "source": [
    "result = run_gan_sa()\n",
    "\n",
    "print(\"\\nBest Hyperparameters Found:\")\n",
    "print(f\"  Hidden Channels : {result['best_params']['hidden_channels']}\")\n",
    "print(f\"  Learning Rate   : {result['best_params']['lr']:.5f}\")\n",
    "print(f\"  Dropout         : {result['best_params']['dropout']:.2f}\")\n",
    "\n",
    "print(\"\\nPerformance Metrics:\")\n",
    "print(f\"  F1 Score        : {result['f1']:.4f}\")\n",
    "print(f\"  AUC             : {result['auc']:.4f}\")\n",
    "print(f\"  Average Loss    : {result['loss']:.4f}\")"
   ],
   "id": "a41e1a66d18c5bd0",
   "outputs": [
    {
     "name": "stdout",
     "output_type": "stream",
     "text": [
      "\n",
      "Best Hyperparameters Found:\n",
      "  Hidden Channels : 242\n",
      "  Learning Rate   : 0.00001\n",
      "  Dropout         : 0.10\n",
      "\n",
      "Performance Metrics:\n",
      "  F1 Score        : 0.6804\n",
      "  AUC             : 0.5000\n",
      "  Average Loss    : -3.8527\n"
     ]
    }
   ],
   "execution_count": 16
  },
  {
   "metadata": {},
   "cell_type": "markdown",
   "source": "# Results after optimization with Artificial Bee Colony",
   "id": "274dd73b5140e0d6"
  },
  {
   "metadata": {},
   "cell_type": "markdown",
   "source": "## GCN",
   "id": "e999c2bb65b1135a"
  },
  {
   "metadata": {
    "ExecuteTime": {
     "end_time": "2025-06-10T19:27:59.226041Z",
     "start_time": "2025-06-10T19:15:39.070763Z"
    }
   },
   "cell_type": "code",
   "source": [
    "result = run_gcn_abc()\n",
    "\n",
    "print(\"\\nBest Hyperparameters Found:\")\n",
    "print(f\"  Hidden Channels : {result['best_params']['hidden_channels']}\")\n",
    "print(f\"  Learning Rate   : {result['best_params']['lr']:.5f}\")\n",
    "print(f\"  Num Layers      : {result['best_params']['num_layers']}\")\n",
    "print(f\"  Dropout         : {result['best_params']['dropout']:.2f}\")\n",
    "\n",
    "print(\"\\nPerformance Metrics:\")\n",
    "print(f\"  F1 Score        : {result['f1']:.4f}\")\n",
    "print(f\"  AUC             : {result['auc']:.4f}\")\n",
    "print(f\"  Average Loss    : {result['loss']:.4f}\")"
   ],
   "id": "b253c16cf5abad7e",
   "outputs": [
    {
     "name": "stdout",
     "output_type": "stream",
     "text": [
      "\n",
      "Best Hyperparameters Found:\n",
      "  Hidden Channels : 32\n",
      "  Learning Rate   : 0.02367\n",
      "  Num Layers      : 3\n",
      "  Dropout         : 0.48\n",
      "\n",
      "Performance Metrics:\n",
      "  F1 Score        : 0.8490\n",
      "  AUC             : 0.5000\n",
      "  Average Loss    : 31.2235\n"
     ]
    }
   ],
   "execution_count": 12
  },
  {
   "metadata": {},
   "cell_type": "markdown",
   "source": "## GAN",
   "id": "eccb01389a895f45"
  },
  {
   "metadata": {
    "ExecuteTime": {
     "end_time": "2025-06-11T22:36:10.792098Z",
     "start_time": "2025-06-11T22:24:59.428285Z"
    }
   },
   "cell_type": "code",
   "source": [
    "result = run_gan_abc()\n",
    "\n",
    "print(\"\\nBest Hyperparameters Found:\")\n",
    "print(f\"  Hidden Channels : {result['best_params']['hidden_channels']}\")\n",
    "print(f\"  Learning Rate   : {result['best_params']['lr']:.5f}\")\n",
    "print(f\"  Dropout         : {result['best_params']['dropout']:.2f}\")\n",
    "\n",
    "print(\"\\nPerformance Metrics:\")\n",
    "print(f\"  F1 Score        : {result['f1']:.4f}\")\n",
    "print(f\"  AUC             : {result['auc']:.4f}\")\n",
    "print(f\"  Average Loss    : {result['loss']:.4f}\")"
   ],
   "id": "76c78e2bd06ba9bc",
   "outputs": [
    {
     "name": "stdout",
     "output_type": "stream",
     "text": [
      "\n",
      "Best Hyperparameters Found:\n",
      "  Hidden Channels : 405\n",
      "  Learning Rate   : 0.00276\n",
      "  Dropout         : 0.47\n",
      "\n",
      "Performance Metrics:\n",
      "  F1 Score        : 0.7480\n",
      "  AUC             : 0.5756\n",
      "  Average Loss    : 0.0275\n"
     ]
    }
   ],
   "execution_count": 17
  },
  {
   "metadata": {},
   "cell_type": "markdown",
   "source": "# Results after optimization with Ant Colony Optimization",
   "id": "1ad816c2917594e8"
  },
  {
   "metadata": {},
   "cell_type": "markdown",
   "source": "## GCN",
   "id": "42584449c3321bdd"
  },
  {
   "metadata": {},
   "cell_type": "code",
   "outputs": [],
   "execution_count": null,
   "source": "",
   "id": "8c0b7ffdb962db10"
  },
  {
   "metadata": {},
   "cell_type": "markdown",
   "source": "## GAN",
   "id": "74f6e61d1dbfd018"
  },
  {
   "metadata": {},
   "cell_type": "code",
   "outputs": [],
   "execution_count": null,
   "source": "",
   "id": "cc088e931dc89413"
  },
  {
   "metadata": {},
   "cell_type": "markdown",
   "source": "# Results after optimization with Hill Climbing",
   "id": "fd93d20cec426be4"
  },
  {
   "metadata": {},
   "cell_type": "markdown",
   "source": "## GCN",
   "id": "fc39556c84ced5b2"
  },
  {
   "metadata": {
    "ExecuteTime": {
     "end_time": "2025-06-11T23:18:48.199614Z",
     "start_time": "2025-06-11T11:05:34.280898Z"
    }
   },
   "cell_type": "code",
   "outputs": [
    {
     "name": "stdout",
     "output_type": "stream",
     "text": [
      "\n",
      "Best Hyperparameters Found:\n",
      "  Hidden Channels : 58\n",
      "  Learning Rate   : 0.02508\n",
      "  Num Layers      : 3\n",
      "  Dropout         : 0.54\n",
      "\n",
      "Performance Metrics:\n",
      "  F1 Score        : 0.8491\n",
      "  AUC             : 0.7861\n",
      "  Average Loss    : 1.3760\n"
     ]
    }
   ],
   "execution_count": 6,
   "source": [
    "result = run_gcn_hc()\n",
    "\n",
    "print(\"\\nBest Hyperparameters Found:\")\n",
    "print(f\"  Hidden Channels : {result['best_params']['hidden_channels']}\")\n",
    "print(f\"  Learning Rate   : {result['best_params']['lr']:.5f}\")\n",
    "print(f\"  Num Layers      : {result['best_params']['num_layers']}\")\n",
    "print(f\"  Dropout         : {result['best_params']['dropout']:.2f}\")\n",
    "\n",
    "print(\"\\nPerformance Metrics:\")\n",
    "print(f\"  F1 Score        : {result['f1']:.4f}\")\n",
    "print(f\"  AUC             : {result['auc']:.4f}\")\n",
    "print(f\"  Average Loss    : {result['loss']:.4f}\")"
   ],
   "id": "1a9b469bd6fd05c1"
  },
  {
   "metadata": {},
   "cell_type": "markdown",
   "source": "## GAN",
   "id": "acc36610929cdd1d"
  },
  {
   "metadata": {
    "ExecuteTime": {
     "end_time": "2025-06-11T22:47:58.095254Z",
     "start_time": "2025-06-11T22:36:11.029860Z"
    }
   },
   "cell_type": "code",
   "source": [
    "result = run_gan_hc()\n",
    "\n",
    "print(\"\\nBest Hyperparameters Found:\")\n",
    "print(f\"  Hidden Channels : {result['best_params']['hidden_channels']}\")\n",
    "print(f\"  Learning Rate   : {result['best_params']['lr']:.5f}\")\n",
    "print(f\"  Dropout         : {result['best_params']['dropout']:.2f}\")\n",
    "\n",
    "print(\"\\nPerformance Metrics:\")\n",
    "print(f\"  F1 Score        : {result['f1']:.4f}\")\n",
    "print(f\"  AUC             : {result['auc']:.4f}\")\n",
    "print(f\"  Average Loss    : {result['loss']:.4f}\")"
   ],
   "id": "e7e86672f42f9c5e",
   "outputs": [
    {
     "name": "stdout",
     "output_type": "stream",
     "text": [
      "\n",
      "Best Hyperparameters Found:\n",
      "  Hidden Channels : 398\n",
      "  Learning Rate   : 0.00228\n",
      "  Dropout         : 0.16\n",
      "\n",
      "Performance Metrics:\n",
      "  F1 Score        : 0.7494\n",
      "  AUC             : 0.5000\n",
      "  Average Loss    : -4.2903\n"
     ]
    }
   ],
   "execution_count": 18
  },
  {
   "metadata": {},
   "cell_type": "markdown",
   "source": "# Results after optimization with Random Search",
   "id": "3d79ed570c7e5e2c"
  },
  {
   "metadata": {},
   "cell_type": "markdown",
   "source": "## GCN",
   "id": "b6c2e87484641f9f"
  },
  {
   "metadata": {
    "ExecuteTime": {
     "end_time": "2025-06-11T23:18:48.199614Z",
     "start_time": "2025-06-11T11:12:50.501504Z"
    }
   },
   "cell_type": "code",
   "outputs": [
    {
     "name": "stdout",
     "output_type": "stream",
     "text": [
      "\n",
      "Best Hyperparameters Found:\n",
      "  Hidden Channels : 125\n",
      "  Learning Rate   : 0.01720\n",
      "  Num Layers      : 3\n",
      "  Dropout         : 0.50\n",
      "\n",
      "Performance Metrics:\n",
      "  F1 Score        : 0.8411\n",
      "  AUC             : 0.9035\n",
      "  Average Loss    : 1.2390\n"
     ]
    }
   ],
   "execution_count": 7,
   "source": [
    "result = run_gcn_ra()\n",
    "\n",
    "print(\"\\nBest Hyperparameters Found:\")\n",
    "print(f\"  Hidden Channels : {result['best_params']['hidden_channels']}\")\n",
    "print(f\"  Learning Rate   : {result['best_params']['lr']:.5f}\")\n",
    "print(f\"  Num Layers      : {result['best_params']['num_layers']}\")\n",
    "print(f\"  Dropout         : {result['best_params']['dropout']:.2f}\")\n",
    "\n",
    "print(\"\\nPerformance Metrics:\")\n",
    "print(f\"  F1 Score        : {result['f1']:.4f}\")\n",
    "print(f\"  AUC             : {result['auc']:.4f}\")\n",
    "print(f\"  Average Loss    : {result['loss']:.4f}\")"
   ],
   "id": "6e30c6234911c49"
  },
  {
   "metadata": {},
   "cell_type": "markdown",
   "source": "## GAN",
   "id": "1d507b10d273e67a"
  },
  {
   "metadata": {
    "ExecuteTime": {
     "start_time": "2025-06-11T22:47:58.371527Z"
    }
   },
   "cell_type": "code",
   "source": [
    "result = run_gan_ra()\n",
    "\n",
    "print(\"\\nBest Hyperparameters Found:\")\n",
    "print(f\"  Hidden Channels : {result['best_params']['hidden_channels']}\")\n",
    "print(f\"  Learning Rate   : {result['best_params']['lr']:.5f}\")\n",
    "print(f\"  Dropout         : {result['best_params']['dropout']:.2f}\")\n",
    "\n",
    "print(\"\\nPerformance Metrics:\")\n",
    "print(f\"  F1 Score        : {result['f1']:.4f}\")\n",
    "print(f\"  AUC             : {result['auc']:.4f}\")\n",
    "print(f\"  Average Loss    : {result['loss']:.4f}\")"
   ],
   "id": "5a4a0c2da16fc659",
   "outputs": [],
   "execution_count": null
  },
  {
   "metadata": {},
   "cell_type": "markdown",
   "source": "# Results after optimization with Grid Search",
   "id": "9e809cb27617d908"
  },
  {
   "metadata": {},
   "cell_type": "markdown",
   "source": "## GCN",
   "id": "6a449207c1849dfb"
  },
  {
   "metadata": {},
   "cell_type": "code",
   "outputs": [],
   "execution_count": null,
   "source": [
    "result = run_gcn_gs(train_data, test_data)\n",
    "\n",
    "print(\"\\nBest Hyperparameters Found:\")\n",
    "print(f\"  Hidden Channels : {result['best_params']['hidden_channels']}\")\n",
    "print(f\"  Learning Rate   : {result['best_params']['lr']:.5f}\")\n",
    "print(f\"  Num Layers      : {result['best_params']['num_layers']}\")\n",
    "print(f\"  Dropout         : {result['best_params']['dropout']:.2f}\")\n",
    "\n",
    "print(\"\\nPerformance Metrics:\")\n",
    "print(f\"  F1 Score        : {result['f1']:.4f}\")\n",
    "print(f\"  AUC             : {result['auc']:.4f}\")\n",
    "print(f\"  Average Loss    : {result['loss']:.4f}\")"
   ],
   "id": "d6bef86ac0ef460b"
  },
  {
   "metadata": {},
   "cell_type": "markdown",
   "source": "## GAN",
   "id": "42421d64633ad0b1"
  },
  {
   "metadata": {},
   "cell_type": "code",
   "outputs": [],
   "execution_count": null,
   "source": [
    "result = run_gan_gs(train_data, test_data)\n",
    "\n",
    "print(\"\\nBest Hyperparameters Found:\")\n",
    "print(f\"  Hidden Channels : {result['best_params']['hidden_channels']}\")\n",
    "print(f\"  Learning Rate   : {result['best_params']['lr']:.5f}\")\n",
    "print(f\"  Dropout         : {result['best_params']['dropout']:.2f}\")\n",
    "\n",
    "print(\"\\nPerformance Metrics:\")\n",
    "print(f\"  F1 Score        : {result['f1']:.4f}\")\n",
    "print(f\"  AUC             : {result['auc']:.4f}\")\n",
    "print(f\"  Average Loss    : {result['loss']:.4f}\")"
   ],
   "id": "4ab8edfbd8cbfef2"
  },
  {
   "metadata": {},
   "cell_type": "markdown",
   "source": "# Results after optimization with Bayesian Optimization",
   "id": "c8604ff65139c909"
  },
  {
   "metadata": {},
   "cell_type": "markdown",
   "source": "## GCN",
   "id": "4bc1b5985365693f"
  },
  {
   "metadata": {},
   "cell_type": "code",
   "outputs": [],
   "execution_count": null,
   "source": [
    "result = run_gcn_bo(train_data, test_data)\n",
    "\n",
    "print(\"\\nBest Hyperparameters Found:\")\n",
    "print(f\"  Hidden Channels : {result['best_params']['hidden_channels']}\")\n",
    "print(f\"  Learning Rate   : {result['best_params']['lr']:.5f}\")\n",
    "print(f\"  Num Layers      : {result['best_params']['num_layers']}\")\n",
    "print(f\"  Dropout         : {result['best_params']['dropout']:.2f}\")\n",
    "\n",
    "print(\"\\nPerformance Metrics:\")\n",
    "print(f\"  F1 Score        : {result['f1']:.4f}\")\n",
    "print(f\"  AUC             : {result['auc']:.4f}\")\n",
    "print(f\"  Average Loss    : {result['loss']:.4f}\")"
   ],
   "id": "c6e567ca6f1824f6"
  },
  {
   "metadata": {},
   "cell_type": "markdown",
   "source": "## GAN",
   "id": "8e353c8804c4c8b1"
  },
  {
   "metadata": {},
   "cell_type": "code",
   "outputs": [],
   "execution_count": null,
   "source": [
    "result = run_gan_bo(train_data, test_data)\n",
    "\n",
    "print(\"\\nBest Hyperparameters Found:\")\n",
    "print(f\"  Hidden Channels : {result['best_params']['hidden_channels']}\")\n",
    "print(f\"  Learning Rate   : {result['best_params']['lr']:.5f}\")\n",
    "print(f\"  Dropout         : {result['best_params']['dropout']:.2f}\")\n",
    "\n",
    "print(\"\\nPerformance Metrics:\")\n",
    "print(f\"  F1 Score        : {result['f1']:.4f}\")\n",
    "print(f\"  AUC             : {result['auc']:.4f}\")\n",
    "print(f\"  Average Loss    : {result['loss']:.4f}\")"
   ],
   "id": "16b478ba5f11a8d4"
  }
 ],
 "metadata": {
  "kernelspec": {
   "display_name": "Python 3",
   "language": "python",
   "name": "python3"
  },
  "language_info": {
   "codemirror_mode": {
    "name": "ipython",
    "version": 2
   },
   "file_extension": ".py",
   "mimetype": "text/x-python",
   "name": "python",
   "nbconvert_exporter": "python",
   "pygments_lexer": "ipython2",
   "version": "2.7.6"
  }
 },
 "nbformat": 4,
 "nbformat_minor": 5
}
