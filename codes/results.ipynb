{
 "cells": [
  {
   "metadata": {
    "ExecuteTime": {
     "end_time": "2025-06-29T12:56:42.694865Z",
     "start_time": "2025-06-29T12:56:42.612224Z"
    }
   },
   "cell_type": "code",
   "source": [
    "%load_ext autoreload\n",
    "%autoreload 2"
   ],
   "id": "b00af415018bebcf",
   "outputs": [],
   "execution_count": 3
  },
  {
   "metadata": {
    "ExecuteTime": {
     "end_time": "2025-06-29T13:34:13.026827Z",
     "start_time": "2025-06-29T13:34:12.862295Z"
    }
   },
   "cell_type": "code",
   "source": "%reload_ext autoreload",
   "id": "b3f4f8ebea519f2e",
   "outputs": [],
   "execution_count": 12
  },
  {
   "metadata": {
    "collapsed": true,
    "ExecuteTime": {
     "end_time": "2025-06-29T12:56:42.601938Z",
     "start_time": "2025-06-29T12:56:18.162471Z"
    }
   },
   "cell_type": "code",
   "source": [
    "import warnings\n",
    "warnings.filterwarnings('ignore')\n",
    "from optimizers_niapy import *\n",
    "from other_optimizers import *"
   ],
   "id": "initial_id",
   "outputs": [
    {
     "name": "stdout",
     "output_type": "stream",
     "text": [
      "Nodes: 21557, Edges: 342353\n"
     ]
    }
   ],
   "execution_count": 2
  },
  {
   "metadata": {},
   "cell_type": "markdown",
   "source": "# GCN results",
   "id": "2af644a26bfde8cc"
  },
  {
   "metadata": {
    "ExecuteTime": {
     "end_time": "2025-06-29T13:35:35.416475Z",
     "start_time": "2025-06-29T13:34:16.020028Z"
    }
   },
   "cell_type": "code",
   "source": [
    "model = GCNLinkPredictor(in_channels=5, hidden_channels=256)\n",
    "optimizer = optim.Adam(model.parameters(), lr=0.01)\n",
    "\n",
    "print(\"\\nNo optimizing\")\n",
    "epoch, loss, auc_gcn, f1_gcn, ndcg = 0,0,0,0,0\n",
    "for _ in range(1, 10):\n",
    "  loss = GCNtrain(model, optimizer, train_data)\n",
    "  test_probs = GCNtest(model, test_data)\n",
    "  auc_gcn, f1_gcn, ndcg = evaluate_model(test_probs, test_data.edge_label)\n",
    "  epoch=_\n",
    "print(f\"Epoch {epoch+1}, Loss: {loss:.4f}, AUC score: {auc_gcn:.4f}, F1 score: {f1_gcn:.4f}, NDCG: {ndcg:.4f}\")"
   ],
   "id": "87c4fd79af333fad",
   "outputs": [
    {
     "name": "stdout",
     "output_type": "stream",
     "text": [
      "\n",
      "No optimizing\n",
      "Epoch 10, Loss: 1.2861, AUC score: 0.8775, F1 score: 0.8071, NDCG: 0.9875\n"
     ]
    }
   ],
   "execution_count": 13
  },
  {
   "metadata": {},
   "cell_type": "markdown",
   "source": "# GAN results",
   "id": "13bf75e3c1042076"
  },
  {
   "metadata": {
    "ExecuteTime": {
     "end_time": "2025-06-29T13:37:30.084242Z",
     "start_time": "2025-06-29T13:36:09.880187Z"
    }
   },
   "cell_type": "code",
   "source": [
    "generator = Generator(in_channels=5, hidden_channels=256).to(device)\n",
    "discriminator = Discriminator(hidden_channels=256).to(device)\n",
    "\n",
    "generator.apply(init_weights)\n",
    "discriminator.apply(init_weights)\n",
    "\n",
    "optimizer_G = optim.Adam(generator.parameters(), lr=1e-4, betas=(0.5, 0.999))\n",
    "optimizer_D = optim.Adam(discriminator.parameters(), lr=1e-4, betas=(0.5, 0.999))\n",
    "\n",
    "print(\"\\nNo optimizing\")\n",
    "epoch, d_loss, g_loss, auc_gan, f1_gan, ndcg = 0,0,0,0,0,0\n",
    "for _ in range(1, 10):\n",
    "    d_loss, g_loss = GANtrain(generator, discriminator, optimizer_G, optimizer_D, train_data)\n",
    "    test_probs = GANtest(generator, discriminator, test_data)\n",
    "    auc_gan, f1_gan, ndcg = evaluate_model(test_probs, test_data.edge_label)\n",
    "    epoch=_\n",
    "print(f\"Epoch {epoch+1}, Average Loss: {(d_loss-g_loss):.4f}, AUC score: {auc_gan:.4f}, F1 score: {f1_gan:.4f}, NDCG: {ndcg:.4f}\")\n"
   ],
   "id": "c2168319882ef643",
   "outputs": [
    {
     "name": "stdout",
     "output_type": "stream",
     "text": [
      "\n",
      "No optimizing\n",
      "Epoch 10, Average Loss: -0.3044, AUC score: 0.7528, F1 score: 0.7337, NDCG: 0.9699\n"
     ]
    }
   ],
   "execution_count": 14
  },
  {
   "metadata": {},
   "cell_type": "markdown",
   "source": "# Results after optimization with Genetic Algorithm",
   "id": "d3c5868a95638507"
  },
  {
   "metadata": {},
   "cell_type": "markdown",
   "source": "## GCN",
   "id": "f03a5025f05c562d"
  },
  {
   "metadata": {
    "ExecuteTime": {
     "end_time": "2025-06-28T16:46:37.366966Z",
     "start_time": "2025-06-28T16:37:17.000947Z"
    }
   },
   "cell_type": "code",
   "source": [
    "result = run_gcn_ga()\n",
    "\n",
    "print(\"\\nBest Hyperparameters Found:\")\n",
    "print(f\"  Hidden Channels : {result['best_params']['hidden_channels']}\")\n",
    "print(f\"  Learning Rate   : {result['best_params']['lr']:.5f}\")\n",
    "print(f\"  Num Layers      : {result['best_params']['num_layers']}\")\n",
    "print(f\"  Dropout         : {result['best_params']['dropout']:.2f}\")\n",
    "\n",
    "print(\"\\nPerformance Metrics:\")\n",
    "print(f\"  F1 Score        : {result['f1']:.4f}\")\n",
    "print(f\"  AUC             : {result['auc']:.4f}\")\n",
    "print(f\"  Average Loss    : {result['loss']:.4f}\")\n",
    "print(f\"  NDCG            : {result['ndcg']:.4f}\")"
   ],
   "id": "9d69d5c9f9d6fb8c",
   "outputs": [
    {
     "name": "stdout",
     "output_type": "stream",
     "text": [
      "\n",
      "Best Hyperparameters Found:\n",
      "  Hidden Channels : 73\n",
      "  Learning Rate   : 0.01220\n",
      "  Num Layers      : 3\n",
      "  Dropout         : 0.40\n",
      "\n",
      "Performance Metrics:\n",
      "  F1 Score        : 0.8506\n",
      "  AUC             : 0.9125\n",
      "  Average Loss    : 1.2876\n",
      "  NDCG            : 0.9913\n"
     ]
    }
   ],
   "execution_count": 10
  },
  {
   "metadata": {},
   "cell_type": "markdown",
   "source": "## GAN",
   "id": "ddcf1955cdc81503"
  },
  {
   "metadata": {
    "ExecuteTime": {
     "end_time": "2025-06-28T16:28:17.755451Z",
     "start_time": "2025-06-28T16:19:17.825547Z"
    }
   },
   "cell_type": "code",
   "source": [
    "result = run_gan_ga()\n",
    "\n",
    "print(\"\\nBest Hyperparameters Found:\")\n",
    "print(f\"  Hidden Channels : {result['best_params']['hidden_channels']}\")\n",
    "print(f\"  Learning Rate   : {result['best_params']['lr']:.5f}\")\n",
    "print(f\"  Dropout         : {result['best_params']['dropout']:.2f}\")\n",
    "\n",
    "print(\"\\nPerformance Metrics:\")\n",
    "print(f\"  F1 Score        : {result['f1']:.4f}\")\n",
    "print(f\"  AUC             : {result['auc']:.4f}\")\n",
    "print(f\"  Average Loss    : {result['loss']:.4f}\")\n",
    "print(f\"  NDCG            : {result['ndcg']:.4f}\")"
   ],
   "id": "f6f5350983471294",
   "outputs": [
    {
     "name": "stdout",
     "output_type": "stream",
     "text": [
      "\n",
      "Best Hyperparameters Found:\n",
      "  Hidden Channels : 459\n",
      "  Learning Rate   : 0.00190\n",
      "  Dropout         : 0.33\n",
      "\n",
      "Performance Metrics:\n",
      "  F1 Score        : 0.7538\n",
      "  AUC             : 0.7772\n",
      "  Average Loss    : 0.0088\n",
      "  NDCG            : 0.9723\n"
     ]
    }
   ],
   "execution_count": 6
  },
  {
   "metadata": {},
   "cell_type": "markdown",
   "source": "# Results after optimization with Particle Swarm Optimization",
   "id": "b391a2e7cc9e3c8b"
  },
  {
   "metadata": {},
   "cell_type": "markdown",
   "source": "## GCN",
   "id": "21300a69e07f8049"
  },
  {
   "metadata": {
    "ExecuteTime": {
     "end_time": "2025-06-28T17:13:56.713991Z",
     "start_time": "2025-06-28T17:02:00.275253Z"
    }
   },
   "cell_type": "code",
   "source": [
    "result = run_gcn_pso()\n",
    "\n",
    "print(\"\\nBest Hyperparameters Found:\")\n",
    "print(f\"  Hidden Channels : {result['best_params']['hidden_channels']}\")\n",
    "print(f\"  Learning Rate   : {result['best_params']['lr']:.5f}\")\n",
    "print(f\"  Num Layers      : {result['best_params']['num_layers']}\")\n",
    "print(f\"  Dropout         : {result['best_params']['dropout']:.2f}\")\n",
    "\n",
    "print(\"\\nPerformance Metrics:\")\n",
    "print(f\"  F1 Score        : {result['f1']:.4f}\")\n",
    "print(f\"  AUC             : {result['auc']:.4f}\")\n",
    "print(f\"  Average Loss    : {result['loss']:.4f}\")\n",
    "print(f\"  NDCG            : {result['ndcg']:.4f}\")"
   ],
   "id": "32dfaf51b70af8ce",
   "outputs": [
    {
     "name": "stdout",
     "output_type": "stream",
     "text": [
      "\n",
      "Best Hyperparameters Found:\n",
      "  Hidden Channels : 107\n",
      "  Learning Rate   : 0.01339\n",
      "  Num Layers      : 3\n",
      "  Dropout         : 0.55\n",
      "\n",
      "Performance Metrics:\n",
      "  F1 Score        : 0.8506\n",
      "  AUC             : 0.7790\n",
      "  Average Loss    : 1.3920\n",
      "  NDCG            : 0.9680\n"
     ]
    }
   ],
   "execution_count": 12
  },
  {
   "metadata": {},
   "cell_type": "markdown",
   "source": "## GAN",
   "id": "a30b2a798bde10ab"
  },
  {
   "metadata": {
    "ExecuteTime": {
     "end_time": "2025-06-28T17:02:00.147963Z",
     "start_time": "2025-06-28T16:46:37.482893Z"
    }
   },
   "cell_type": "code",
   "source": [
    "result = run_gan_pso()\n",
    "\n",
    "print(\"\\nBest Hyperparameters Found:\")\n",
    "print(f\"  Hidden Channels : {result['best_params']['hidden_channels']}\")\n",
    "print(f\"  Learning Rate   : {result['best_params']['lr']:.5f}\")\n",
    "print(f\"  Dropout         : {result['best_params']['dropout']:.2f}\")\n",
    "\n",
    "print(\"\\nPerformance Metrics:\")\n",
    "print(f\"  F1 Score        : {result['f1']:.4f}\")\n",
    "print(f\"  AUC             : {result['auc']:.4f}\")\n",
    "print(f\"  Average Loss    : {result['loss']:.4f}\")\n",
    "print(f\"  NDCG            : {result['ndcg']:.4f}\")"
   ],
   "id": "2c3d48b7e454cca4",
   "outputs": [
    {
     "name": "stdout",
     "output_type": "stream",
     "text": [
      "\n",
      "Best Hyperparameters Found:\n",
      "  Hidden Channels : 512\n",
      "  Learning Rate   : 0.00200\n",
      "  Dropout         : 0.31\n",
      "\n",
      "Performance Metrics:\n",
      "  F1 Score        : 0.7571\n",
      "  AUC             : 0.7781\n",
      "  Average Loss    : 0.0147\n",
      "  NDCG            : 0.9706\n"
     ]
    }
   ],
   "execution_count": 11
  },
  {
   "metadata": {},
   "cell_type": "markdown",
   "source": "# Results after optimization with Simulated Annealing",
   "id": "2a65448e09728642"
  },
  {
   "metadata": {},
   "cell_type": "markdown",
   "source": "## GCN",
   "id": "9a212d425e6d6700"
  },
  {
   "metadata": {
    "ExecuteTime": {
     "end_time": "2025-06-29T09:57:20.042269Z",
     "start_time": "2025-06-29T09:44:01.999297Z"
    }
   },
   "cell_type": "code",
   "source": [
    "result = run_gcn_sa()\n",
    "\n",
    "print(\"\\nBest Hyperparameters Found:\")\n",
    "print(f\"  Hidden Channels : {result['best_params']['hidden_channels']}\")\n",
    "print(f\"  Learning Rate   : {result['best_params']['lr']:.5f}\")\n",
    "print(f\"  Num Layers      : {result['best_params']['num_layers']}\")\n",
    "print(f\"  Dropout         : {result['best_params']['dropout']:.2f}\")\n",
    "\n",
    "print(\"\\nPerformance Metrics:\")\n",
    "print(f\"  F1 Score        : {result['f1']:.4f}\")\n",
    "print(f\"  AUC             : {result['auc']:.4f}\")\n",
    "print(f\"  Average Loss    : {result['loss']:.4f}\")\n",
    "print(f\"  NDCG            : {result['ndcg']:.4f}\")"
   ],
   "id": "9833e55798e32cee",
   "outputs": [
    {
     "name": "stdout",
     "output_type": "stream",
     "text": [
      "\n",
      "Best Hyperparameters Found:\n",
      "  Hidden Channels : 160\n",
      "  Learning Rate   : 0.00974\n",
      "  Num Layers      : 3\n",
      "  Dropout         : 0.23\n",
      "\n",
      "Performance Metrics:\n",
      "  F1 Score        : 0.8435\n",
      "  AUC             : 0.7841\n",
      "  Average Loss    : 1.3751\n",
      "  NDCG            : 0.9685\n"
     ]
    }
   ],
   "execution_count": 6
  },
  {
   "metadata": {},
   "cell_type": "markdown",
   "source": "## GAN",
   "id": "dbc590298df32d27"
  },
  {
   "metadata": {
    "ExecuteTime": {
     "end_time": "2025-06-29T11:07:27.213227Z",
     "start_time": "2025-06-29T10:49:14.227289Z"
    }
   },
   "cell_type": "code",
   "source": [
    "result = run_gan_sa()\n",
    "\n",
    "print(\"\\nBest Hyperparameters Found:\")\n",
    "print(f\"  Hidden Channels : {result['best_params']['hidden_channels']}\")\n",
    "print(f\"  Learning Rate   : {result['best_params']['lr']:.5f}\")\n",
    "print(f\"  Dropout         : {result['best_params']['dropout']:.2f}\")\n",
    "\n",
    "print(\"\\nPerformance Metrics:\")\n",
    "print(f\"  F1 Score        : {result['f1']:.4f}\")\n",
    "print(f\"  AUC             : {result['auc']:.4f}\")\n",
    "print(f\"  Average Loss    : {result['loss']:.4f}\")\n",
    "print(f\"  NDCG            : {result['ndcg']:.4f}\")"
   ],
   "id": "a41e1a66d18c5bd0",
   "outputs": [
    {
     "name": "stdout",
     "output_type": "stream",
     "text": [
      "\n",
      "Best Hyperparameters Found:\n",
      "  Hidden Channels : 412\n",
      "  Learning Rate   : 0.00200\n",
      "  Dropout         : 0.10\n",
      "\n",
      "Performance Metrics:\n",
      "  F1 Score        : 0.7584\n",
      "  AUC             : 0.7583\n",
      "  Average Loss    : -0.0260\n",
      "  NDCG            : 0.9699\n"
     ]
    }
   ],
   "execution_count": 12
  },
  {
   "metadata": {},
   "cell_type": "markdown",
   "source": "# Results after optimization with Artificial Bee Colony",
   "id": "274dd73b5140e0d6"
  },
  {
   "metadata": {},
   "cell_type": "markdown",
   "source": "## GCN",
   "id": "e999c2bb65b1135a"
  },
  {
   "metadata": {
    "ExecuteTime": {
     "end_time": "2025-06-29T10:11:48.914622Z",
     "start_time": "2025-06-29T09:57:20.265292Z"
    }
   },
   "cell_type": "code",
   "source": [
    "result = run_gcn_abc()\n",
    "\n",
    "print(\"\\nBest Hyperparameters Found:\")\n",
    "print(f\"  Hidden Channels : {result['best_params']['hidden_channels']}\")\n",
    "print(f\"  Learning Rate   : {result['best_params']['lr']:.5f}\")\n",
    "print(f\"  Num Layers      : {result['best_params']['num_layers']}\")\n",
    "print(f\"  Dropout         : {result['best_params']['dropout']:.2f}\")\n",
    "\n",
    "print(\"\\nPerformance Metrics:\")\n",
    "print(f\"  F1 Score        : {result['f1']:.4f}\")\n",
    "print(f\"  AUC             : {result['auc']:.4f}\")\n",
    "print(f\"  Average Loss    : {result['loss']:.4f}\")\n",
    "print(f\"  NDCG            : {result['ndcg']:.4f}\")"
   ],
   "id": "b253c16cf5abad7e",
   "outputs": [
    {
     "name": "stdout",
     "output_type": "stream",
     "text": [
      "\n",
      "Best Hyperparameters Found:\n",
      "  Hidden Channels : 106\n",
      "  Learning Rate   : 0.00691\n",
      "  Num Layers      : 3\n",
      "  Dropout         : 0.15\n",
      "\n",
      "Performance Metrics:\n",
      "  F1 Score        : 0.8496\n",
      "  AUC             : 0.8831\n",
      "  Average Loss    : 1.4161\n",
      "  NDCG            : 0.9885\n"
     ]
    }
   ],
   "execution_count": 7
  },
  {
   "metadata": {},
   "cell_type": "markdown",
   "source": "## GAN",
   "id": "eccb01389a895f45"
  },
  {
   "metadata": {
    "ExecuteTime": {
     "end_time": "2025-06-28T23:46:21.761100Z",
     "start_time": "2025-06-28T23:37:49.077396Z"
    }
   },
   "cell_type": "code",
   "source": [
    "result = run_gan_abc()\n",
    "\n",
    "print(\"\\nBest Hyperparameters Found:\")\n",
    "print(f\"  Hidden Channels : {result['best_params']['hidden_channels']}\")\n",
    "print(f\"  Learning Rate   : {result['best_params']['lr']:.5f}\")\n",
    "print(f\"  Dropout         : {result['best_params']['dropout']:.2f}\")\n",
    "\n",
    "print(\"\\nPerformance Metrics:\")\n",
    "print(f\"  F1 Score        : {result['f1']:.4f}\")\n",
    "print(f\"  AUC             : {result['auc']:.4f}\")\n",
    "print(f\"  Average Loss    : {result['loss']:.4f}\")\n",
    "print(f\"  NDCG            : {result['ndcg']:.4f}\")"
   ],
   "id": "76c78e2bd06ba9bc",
   "outputs": [
    {
     "name": "stdout",
     "output_type": "stream",
     "text": [
      "\n",
      "Best Hyperparameters Found:\n",
      "  Hidden Channels : 480\n",
      "  Learning Rate   : 0.00136\n",
      "  Dropout         : 0.22\n",
      "\n",
      "Performance Metrics:\n",
      "  F1 Score        : 0.7545\n",
      "  AUC             : 0.7773\n",
      "  Average Loss    : 0.0421\n",
      "  NDCG            : 0.9724\n"
     ]
    }
   ],
   "execution_count": 6
  },
  {
   "metadata": {},
   "cell_type": "markdown",
   "source": "# Results after optimization with Ant Colony Optimization",
   "id": "1ad816c2917594e8"
  },
  {
   "metadata": {},
   "cell_type": "markdown",
   "source": "## GCN",
   "id": "42584449c3321bdd"
  },
  {
   "metadata": {
    "ExecuteTime": {
     "end_time": "2025-06-28T23:50:52.736100Z",
     "start_time": "2025-06-28T23:46:21.809766Z"
    }
   },
   "cell_type": "code",
   "source": [
    "result = run_gcn_aco(train_data, test_data)\n",
    "\n",
    "print(\"\\nBest Hyperparameters Found:\")\n",
    "print(f\"  Hidden Channels : {result['best_params']['hidden_channels']}\")\n",
    "print(f\"  Learning Rate   : {result['best_params']['lr']:.5f}\")\n",
    "print(f\"  Num Layers      : {result['best_params']['num_layers']}\")\n",
    "print(f\"  Dropout         : {result['best_params']['dropout']:.2f}\")\n",
    "\n",
    "print(\"\\nPerformance Metrics:\")\n",
    "print(f\"  F1 Score        : {result['f1']:.4f}\")\n",
    "print(f\"  AUC             : {result['auc']:.4f}\")\n",
    "print(f\"  Average Loss    : {result['loss']:.4f}\")\n",
    "print(f\"  NDCG            : {result['ndcg']:.4f}\")"
   ],
   "id": "8c0b7ffdb962db10",
   "outputs": [
    {
     "name": "stdout",
     "output_type": "stream",
     "text": [
      "\n",
      "Best Hyperparameters Found:\n",
      "  Hidden Channels : 224\n",
      "  Learning Rate   : 0.00215\n",
      "  Num Layers      : 3\n",
      "  Dropout         : 0.70\n",
      "\n",
      "Performance Metrics:\n",
      "  F1 Score        : 0.8419\n",
      "  AUC             : 0.9145\n",
      "  Average Loss    : 1.2698\n",
      "  NDCG            : 0.9918\n"
     ]
    }
   ],
   "execution_count": 7
  },
  {
   "metadata": {},
   "cell_type": "markdown",
   "source": "## GAN",
   "id": "74f6e61d1dbfd018"
  },
  {
   "metadata": {
    "ExecuteTime": {
     "end_time": "2025-06-29T00:04:22.654986Z",
     "start_time": "2025-06-28T23:50:52.783257Z"
    }
   },
   "cell_type": "code",
   "source": [
    "result=run_gan_aco(train_data, test_data)\n",
    "\n",
    "print(\"\\nBest Hyperparameters Found:\")\n",
    "print(f\"  Hidden Channels : {result['best_params']['hidden_channels']}\")\n",
    "print(f\"  Learning Rate   : {result['best_params']['lr']:.5f}\")\n",
    "print(f\"  Dropout         : {result['best_params']['dropout']:.2f}\")\n",
    "\n",
    "print(\"\\nPerformance Metrics:\")\n",
    "print(f\"  F1 Score        : {result['f1']:.4f}\")\n",
    "print(f\"  AUC             : {result['auc']:.4f}\")\n",
    "print(f\"  Average Loss    : {result['loss']:.4f}\")\n",
    "print(f\"  NDCG            : {result['ndcg']:.4f}\")"
   ],
   "id": "cc088e931dc89413",
   "outputs": [
    {
     "name": "stdout",
     "output_type": "stream",
     "text": [
      "\n",
      "Best Hyperparameters Found:\n",
      "  Hidden Channels : 384\n",
      "  Learning Rate   : 0.00003\n",
      "  Dropout         : 0.30\n",
      "\n",
      "Performance Metrics:\n",
      "  F1 Score        : 0.7167\n",
      "  AUC             : 0.7353\n",
      "  Average Loss    : 0.0170\n",
      "  NDCG            : 0.9649\n"
     ]
    }
   ],
   "execution_count": 8
  },
  {
   "metadata": {},
   "cell_type": "markdown",
   "source": "# Results after optimization with Hill Climbing",
   "id": "fd93d20cec426be4"
  },
  {
   "metadata": {},
   "cell_type": "markdown",
   "source": "## GCN",
   "id": "fc39556c84ced5b2"
  },
  {
   "metadata": {
    "ExecuteTime": {
     "end_time": "2025-06-29T00:19:47.810822Z",
     "start_time": "2025-06-29T00:10:37.018333Z"
    }
   },
   "cell_type": "code",
   "source": [
    "result = run_gcn_hc()\n",
    "\n",
    "print(\"\\nBest Hyperparameters Found:\")\n",
    "print(f\"  Hidden Channels : {result['best_params']['hidden_channels']}\")\n",
    "print(f\"  Learning Rate   : {result['best_params']['lr']:.5f}\")\n",
    "print(f\"  Num Layers      : {result['best_params']['num_layers']}\")\n",
    "print(f\"  Dropout         : {result['best_params']['dropout']:.2f}\")\n",
    "\n",
    "print(\"\\nPerformance Metrics:\")\n",
    "print(f\"  F1 Score        : {result['f1']:.4f}\")\n",
    "print(f\"  AUC             : {result['auc']:.4f}\")\n",
    "print(f\"  Average Loss    : {result['loss']:.4f}\")\n",
    "print(f\"  NDCG            : {result['ndcg']:.4f}\")"
   ],
   "id": "1a9b469bd6fd05c1",
   "outputs": [
    {
     "name": "stdout",
     "output_type": "stream",
     "text": [
      "\n",
      "Best Hyperparameters Found:\n",
      "  Hidden Channels : 244\n",
      "  Learning Rate   : 0.01102\n",
      "  Num Layers      : 3\n",
      "  Dropout         : 0.66\n",
      "\n",
      "Performance Metrics:\n",
      "  F1 Score        : 0.8430\n",
      "  AUC             : 0.9109\n",
      "  Average Loss    : 1.3705\n",
      "  NDCG            : 0.9914\n"
     ]
    }
   ],
   "execution_count": 10
  },
  {
   "metadata": {},
   "cell_type": "markdown",
   "source": "## GAN",
   "id": "acc36610929cdd1d"
  },
  {
   "metadata": {
    "ExecuteTime": {
     "end_time": "2025-06-29T00:28:15.323239Z",
     "start_time": "2025-06-29T00:19:47.863740Z"
    }
   },
   "cell_type": "code",
   "source": [
    "result = run_gan_hc()\n",
    "\n",
    "print(\"\\nBest Hyperparameters Found:\")\n",
    "print(f\"  Hidden Channels : {result['best_params']['hidden_channels']}\")\n",
    "print(f\"  Learning Rate   : {result['best_params']['lr']:.5f}\")\n",
    "print(f\"  Dropout         : {result['best_params']['dropout']:.2f}\")\n",
    "\n",
    "print(\"\\nPerformance Metrics:\")\n",
    "print(f\"  F1 Score        : {result['f1']:.4f}\")\n",
    "print(f\"  AUC             : {result['auc']:.4f}\")\n",
    "print(f\"  Average Loss    : {result['loss']:.4f}\")\n",
    "print(f\"  NDCG            : {result['ndcg']:.4f}\")"
   ],
   "id": "e7e86672f42f9c5e",
   "outputs": [
    {
     "name": "stdout",
     "output_type": "stream",
     "text": [
      "\n",
      "Best Hyperparameters Found:\n",
      "  Hidden Channels : 393\n",
      "  Learning Rate   : 0.00200\n",
      "  Dropout         : 0.40\n",
      "\n",
      "Performance Metrics:\n",
      "  F1 Score        : 0.7559\n",
      "  AUC             : 0.7773\n",
      "  Average Loss    : 0.0015\n",
      "  NDCG            : 0.9726\n"
     ]
    }
   ],
   "execution_count": 11
  },
  {
   "metadata": {},
   "cell_type": "markdown",
   "source": "# Results after optimization with Random Search",
   "id": "3d79ed570c7e5e2c"
  },
  {
   "metadata": {},
   "cell_type": "markdown",
   "source": "## GCN",
   "id": "b6c2e87484641f9f"
  },
  {
   "metadata": {
    "ExecuteTime": {
     "end_time": "2025-06-29T10:24:09.569855Z",
     "start_time": "2025-06-29T10:11:49.113144Z"
    }
   },
   "cell_type": "code",
   "source": [
    "result = run_gcn_ra()\n",
    "\n",
    "print(\"\\nBest Hyperparameters Found:\")\n",
    "print(f\"  Hidden Channels : {result['best_params']['hidden_channels']}\")\n",
    "print(f\"  Learning Rate   : {result['best_params']['lr']:.5f}\")\n",
    "print(f\"  Num Layers      : {result['best_params']['num_layers']}\")\n",
    "print(f\"  Dropout         : {result['best_params']['dropout']:.2f}\")\n",
    "\n",
    "print(\"\\nPerformance Metrics:\")\n",
    "print(f\"  F1 Score        : {result['f1']:.4f}\")\n",
    "print(f\"  AUC             : {result['auc']:.4f}\")\n",
    "print(f\"  Average Loss    : {result['loss']:.4f}\")\n",
    "print(f\"  NDCG            : {result['ndcg']:.4f}\")"
   ],
   "id": "6e30c6234911c49",
   "outputs": [
    {
     "name": "stdout",
     "output_type": "stream",
     "text": [
      "\n",
      "Best Hyperparameters Found:\n",
      "  Hidden Channels : 38\n",
      "  Learning Rate   : 0.01378\n",
      "  Num Layers      : 3\n",
      "  Dropout         : 0.18\n",
      "\n",
      "Performance Metrics:\n",
      "  F1 Score        : 0.8493\n",
      "  AUC             : 0.9147\n",
      "  Average Loss    : 1.2535\n",
      "  NDCG            : 0.9920\n"
     ]
    }
   ],
   "execution_count": 8
  },
  {
   "metadata": {},
   "cell_type": "markdown",
   "source": "## GAN",
   "id": "1d507b10d273e67a"
  },
  {
   "metadata": {
    "ExecuteTime": {
     "end_time": "2025-06-29T00:44:49.045894Z",
     "start_time": "2025-06-29T00:36:12.989882Z"
    }
   },
   "cell_type": "code",
   "source": [
    "result = run_gan_ra()\n",
    "\n",
    "print(\"\\nBest Hyperparameters Found:\")\n",
    "print(f\"  Hidden Channels : {result['best_params']['hidden_channels']}\")\n",
    "print(f\"  Learning Rate   : {result['best_params']['lr']:.5f}\")\n",
    "print(f\"  Dropout         : {result['best_params']['dropout']:.2f}\")\n",
    "\n",
    "print(\"\\nPerformance Metrics:\")\n",
    "print(f\"  F1 Score        : {result['f1']:.4f}\")\n",
    "print(f\"  AUC             : {result['auc']:.4f}\")\n",
    "print(f\"  Average Loss    : {result['loss']:.4f}\")\n",
    "print(f\"  NDCG            : {result['ndcg']:.4f}\")"
   ],
   "id": "5a4a0c2da16fc659",
   "outputs": [
    {
     "name": "stdout",
     "output_type": "stream",
     "text": [
      "\n",
      "Best Hyperparameters Found:\n",
      "  Hidden Channels : 367\n",
      "  Learning Rate   : 0.00166\n",
      "  Dropout         : 0.20\n",
      "\n",
      "Performance Metrics:\n",
      "  F1 Score        : 0.7541\n",
      "  AUC             : 0.7752\n",
      "  Average Loss    : 0.0432\n",
      "  NDCG            : 0.9725\n"
     ]
    }
   ],
   "execution_count": 13
  },
  {
   "metadata": {},
   "cell_type": "markdown",
   "source": "# Results after optimization with Bayesian Optimization",
   "id": "c8604ff65139c909"
  },
  {
   "metadata": {},
   "cell_type": "markdown",
   "source": "## GCN",
   "id": "4bc1b5985365693f"
  },
  {
   "metadata": {
    "ExecuteTime": {
     "end_time": "2025-06-29T10:34:31.806035Z",
     "start_time": "2025-06-29T10:24:09.652335Z"
    }
   },
   "cell_type": "code",
   "source": [
    "result = run_gcn_bo(train_data, test_data)\n",
    "\n",
    "print(\"\\nBest Hyperparameters Found:\")\n",
    "print(f\"  Hidden Channels : {result['best_params']['hidden_channels']}\")\n",
    "print(f\"  Learning Rate   : {result['best_params']['lr']:.5f}\")\n",
    "print(f\"  Num Layers      : {result['best_params']['num_layers']}\")\n",
    "print(f\"  Dropout         : {result['best_params']['dropout']:.2f}\")\n",
    "\n",
    "print(\"\\nPerformance Metrics:\")\n",
    "print(f\"  F1 Score        : {result['f1']:.4f}\")\n",
    "print(f\"  AUC             : {result['auc']:.4f}\")\n",
    "print(f\"  Average Loss    : {result['loss']:.4f}\")\n",
    "print(f\"  NDCG            : {result['ndcg']:.4f}\")"
   ],
   "id": "c6e567ca6f1824f6",
   "outputs": [
    {
     "name": "stdout",
     "output_type": "stream",
     "text": [
      "\n",
      "Best Hyperparameters Found:\n",
      "  Hidden Channels : 80\n",
      "  Learning Rate   : 0.00785\n",
      "  Num Layers      : 4\n",
      "  Dropout         : 0.10\n",
      "\n",
      "Performance Metrics:\n",
      "  F1 Score        : 0.8504\n",
      "  AUC             : 0.9154\n",
      "  Average Loss    : 1.2674\n",
      "  NDCG            : 0.9911\n"
     ]
    }
   ],
   "execution_count": 9
  },
  {
   "metadata": {},
   "cell_type": "markdown",
   "source": "## GAN",
   "id": "8e353c8804c4c8b1"
  },
  {
   "metadata": {
    "ExecuteTime": {
     "end_time": "2025-06-29T11:17:23.472095Z",
     "start_time": "2025-06-29T11:07:27.502124Z"
    }
   },
   "cell_type": "code",
   "source": [
    "result = run_gan_bo(train_data, test_data)\n",
    "\n",
    "print(\"\\nBest Hyperparameters Found:\")\n",
    "print(f\"  Hidden Channels : {result['best_params']['hidden_channels']}\")\n",
    "print(f\"  Learning Rate   : {result['best_params']['lr']:.5f}\")\n",
    "print(f\"  Dropout         : {result['best_params']['dropout']:.2f}\")\n",
    "\n",
    "print(\"\\nPerformance Metrics:\")\n",
    "print(f\"  F1 Score        : {result['f1']:.4f}\")\n",
    "print(f\"  AUC             : {result['auc']:.4f}\")\n",
    "print(f\"  Average Loss    : {result['loss']:.4f}\")\n",
    "print(f\"  NDCG            : {result['ndcg']:.4f}\")"
   ],
   "id": "16b478ba5f11a8d4",
   "outputs": [
    {
     "name": "stdout",
     "output_type": "stream",
     "text": [
      "\n",
      "Best Hyperparameters Found:\n",
      "  Hidden Channels : 144\n",
      "  Learning Rate   : 0.00062\n",
      "  Dropout         : 0.35\n",
      "\n",
      "Performance Metrics:\n",
      "  F1 Score        : 0.7505\n",
      "  AUC             : 0.7743\n",
      "  Average Loss    : 0.2257\n",
      "  NDCG            : 0.9725\n"
     ]
    }
   ],
   "execution_count": 13
  },
  {
   "metadata": {},
   "cell_type": "markdown",
   "source": "# Results after optimizing with Optuna",
   "id": "6cedfc8a0e10d7bf"
  },
  {
   "metadata": {},
   "cell_type": "markdown",
   "source": "## GCN",
   "id": "e614f9292e479ae1"
  },
  {
   "metadata": {
    "ExecuteTime": {
     "end_time": "2025-06-29T11:39:46.276208Z",
     "start_time": "2025-06-29T11:17:23.666906Z"
    }
   },
   "cell_type": "code",
   "source": [
    "result = run_gcn_optuna(train_data, test_data)\n",
    "\n",
    "print(\"\\nBest Hyperparameters Found:\")\n",
    "print(f\"  Hidden Channels : {result['best_params']['hidden_channels']}\")\n",
    "print(f\"  Learning Rate   : {result['best_params']['lr']:.5f}\")\n",
    "print(f\"  Num Layers      : {result['best_params']['num_layers']}\")\n",
    "print(f\"  Dropout         : {result['best_params']['dropout']:.2f}\")\n",
    "\n",
    "print(\"\\nPerformance Metrics:\")\n",
    "print(f\"  F1 Score        : {result['f1']:.4f}\")\n",
    "print(f\"  AUC             : {result['auc']:.4f}\")\n",
    "print(f\"  Average Loss    : {result['loss']:.4f}\")\n",
    "print(f\"  NDCG            : {result['ndcg']:.4f}\")"
   ],
   "id": "ea51fd038055e3bc",
   "outputs": [
    {
     "name": "stderr",
     "output_type": "stream",
     "text": [
      "[I 2025-06-29 13:17:23,751] A new study created in memory with name: no-name-44c9f718-c8ae-4c7a-a5d0-7c2f787c941a\n",
      "[I 2025-06-29 13:17:52,791] Trial 0 finished with value: -0.8489819563958007 and parameters: {'hidden_channels': 168, 'lr': 0.0018471485405569912, 'num_layers': 4, 'dropout': 0.06068083910325634}. Best is trial 0 with value: -0.8489819563958007.\n",
      "[I 2025-06-29 13:18:20,060] Trial 1 finished with value: -0.6666666666666666 and parameters: {'hidden_channels': 183, 'lr': 0.05753480511986514, 'num_layers': 3, 'dropout': 0.40349376435931106}. Best is trial 0 with value: -0.8489819563958007.\n",
      "[I 2025-06-29 13:18:31,361] Trial 2 finished with value: -0.7115093693753382 and parameters: {'hidden_channels': 63, 'lr': 0.00018248535688806364, 'num_layers': 2, 'dropout': 0.49167641182959493}. Best is trial 0 with value: -0.8489819563958007.\n",
      "[I 2025-06-29 13:19:05,810] Trial 3 finished with value: -0.8033068729768572 and parameters: {'hidden_channels': 183, 'lr': 0.0006040468838495976, 'num_layers': 4, 'dropout': 0.4945270069774958}. Best is trial 0 with value: -0.8489819563958007.\n",
      "[I 2025-06-29 13:19:39,554] Trial 4 finished with value: -0.7647580240636016 and parameters: {'hidden_channels': 214, 'lr': 0.00030958919277318953, 'num_layers': 3, 'dropout': 0.6037571225022375}. Best is trial 0 with value: -0.8489819563958007.\n",
      "[I 2025-06-29 13:19:50,090] Trial 5 finished with value: -0.6667283376584173 and parameters: {'hidden_channels': 35, 'lr': 0.0001677952587876748, 'num_layers': 3, 'dropout': 0.2709156081528146}. Best is trial 0 with value: -0.8489819563958007.\n",
      "[I 2025-06-29 13:20:10,488] Trial 6 finished with value: -0.8113114332036768 and parameters: {'hidden_channels': 162, 'lr': 0.023816418224737308, 'num_layers': 2, 'dropout': 0.2608451818394216}. Best is trial 0 with value: -0.8489819563958007.\n",
      "[I 2025-06-29 13:20:24,706] Trial 7 finished with value: -0.7189745432149456 and parameters: {'hidden_channels': 99, 'lr': 0.0006397548616301257, 'num_layers': 2, 'dropout': 0.3394532159412868}. Best is trial 0 with value: -0.8489819563958007.\n",
      "[I 2025-06-29 13:20:54,935] Trial 8 finished with value: -0.7970630636671472 and parameters: {'hidden_channels': 169, 'lr': 0.0002091431309662864, 'num_layers': 4, 'dropout': 0.1460886661378664}. Best is trial 0 with value: -0.8489819563958007.\n",
      "[I 2025-06-29 13:21:18,394] Trial 9 finished with value: -0.7497286677932106 and parameters: {'hidden_channels': 145, 'lr': 0.00013972107752841756, 'num_layers': 3, 'dropout': 0.3498574217241879}. Best is trial 0 with value: -0.8489819563958007.\n",
      "[I 2025-06-29 13:22:04,365] Trial 10 finished with value: -0.8507570599260138 and parameters: {'hidden_channels': 252, 'lr': 0.0038174930063946955, 'num_layers': 4, 'dropout': 0.01089641705609884}. Best is trial 10 with value: -0.8507570599260138.\n",
      "[I 2025-06-29 13:22:50,038] Trial 11 finished with value: -0.8497764488512151 and parameters: {'hidden_channels': 252, 'lr': 0.003421126839811564, 'num_layers': 4, 'dropout': 0.005493477534789928}. Best is trial 10 with value: -0.8507570599260138.\n",
      "[I 2025-06-29 13:23:35,427] Trial 12 finished with value: -0.8463534446600838 and parameters: {'hidden_channels': 255, 'lr': 0.007486312578313531, 'num_layers': 4, 'dropout': 0.029054656992622087}. Best is trial 10 with value: -0.8507570599260138.\n",
      "[I 2025-06-29 13:24:19,348] Trial 13 finished with value: -0.8496720205343665 and parameters: {'hidden_channels': 246, 'lr': 0.004646566698585751, 'num_layers': 4, 'dropout': 0.1456342456901851}. Best is trial 10 with value: -0.8507570599260138.\n",
      "[I 2025-06-29 13:25:02,604] Trial 14 finished with value: -0.8512232784144839 and parameters: {'hidden_channels': 227, 'lr': 0.0015314969201531447, 'num_layers': 4, 'dropout': 0.003710674008720695}. Best is trial 14 with value: -0.8512232784144839.\n",
      "[I 2025-06-29 13:26:06,356] Trial 15 finished with value: -0.8503240808426799 and parameters: {'hidden_channels': 214, 'lr': 0.001493847607474093, 'num_layers': 4, 'dropout': 0.13582963387106395}. Best is trial 14 with value: -0.8512232784144839.\n",
      "[I 2025-06-29 13:26:58,223] Trial 16 finished with value: -0.8335541291252827 and parameters: {'hidden_channels': 213, 'lr': 0.009376362568548015, 'num_layers': 3, 'dropout': 0.20433547292630508}. Best is trial 14 with value: -0.8512232784144839.\n",
      "[I 2025-06-29 13:28:07,613] Trial 17 finished with value: -0.8254602280292359 and parameters: {'hidden_channels': 230, 'lr': 0.016678823821245213, 'num_layers': 4, 'dropout': 0.09199922022128515}. Best is trial 14 with value: -0.8512232784144839.\n",
      "[I 2025-06-29 13:28:48,843] Trial 18 finished with value: -0.8040842975317866 and parameters: {'hidden_channels': 126, 'lr': 0.0009752790691265275, 'num_layers': 4, 'dropout': 0.6804946840810584}. Best is trial 14 with value: -0.8512232784144839.\n",
      "[I 2025-06-29 13:29:37,973] Trial 19 finished with value: -0.8438553229373486 and parameters: {'hidden_channels': 199, 'lr': 0.0024120272310330392, 'num_layers': 3, 'dropout': 0.006829094792532714}. Best is trial 14 with value: -0.8512232784144839.\n",
      "[I 2025-06-29 13:30:36,022] Trial 20 finished with value: -0.6666666666666666 and parameters: {'hidden_channels': 229, 'lr': 0.05936907657596481, 'num_layers': 3, 'dropout': 0.089138935396461}. Best is trial 14 with value: -0.8512232784144839.\n",
      "[I 2025-06-29 13:31:47,798] Trial 21 finished with value: -0.8501957952620324 and parameters: {'hidden_channels': 232, 'lr': 0.0014184135494034185, 'num_layers': 4, 'dropout': 0.1477392112138522}. Best is trial 14 with value: -0.8512232784144839.\n",
      "[I 2025-06-29 13:32:52,414] Trial 22 finished with value: -0.8500367814481382 and parameters: {'hidden_channels': 206, 'lr': 0.00490826911361394, 'num_layers': 4, 'dropout': 0.09540827471092322}. Best is trial 14 with value: -0.8512232784144839.\n",
      "[I 2025-06-29 13:34:03,976] Trial 23 finished with value: -0.8400170439860575 and parameters: {'hidden_channels': 230, 'lr': 0.0010864514820865087, 'num_layers': 4, 'dropout': 0.19551755198909088}. Best is trial 14 with value: -0.8512232784144839.\n",
      "[I 2025-06-29 13:35:02,323] Trial 24 finished with value: -0.8059150228447922 and parameters: {'hidden_channels': 187, 'lr': 0.000533363601814287, 'num_layers': 4, 'dropout': 0.06996742548285279}. Best is trial 14 with value: -0.8512232784144839.\n",
      "[I 2025-06-29 13:36:14,612] Trial 25 finished with value: -0.8476810985007707 and parameters: {'hidden_channels': 239, 'lr': 0.002687574157539666, 'num_layers': 4, 'dropout': 0.0003910054730041912}. Best is trial 14 with value: -0.8512232784144839.\n",
      "[I 2025-06-29 13:37:25,049] Trial 26 finished with value: -0.8296401024679088 and parameters: {'hidden_channels': 217, 'lr': 0.008231500381822526, 'num_layers': 4, 'dropout': 0.2085134035849276}. Best is trial 14 with value: -0.8512232784144839.\n",
      "[I 2025-06-29 13:38:20,532] Trial 27 finished with value: -0.7959676394595282 and parameters: {'hidden_channels': 133, 'lr': 0.00039492832538183894, 'num_layers': 4, 'dropout': 0.12872167744386634}. Best is trial 14 with value: -0.8512232784144839.\n",
      "[I 2025-06-29 13:39:11,367] Trial 28 finished with value: -0.8354416410313005 and parameters: {'hidden_channels': 196, 'lr': 0.0015407760627041292, 'num_layers': 3, 'dropout': 0.043144654916252044}. Best is trial 14 with value: -0.8512232784144839.\n",
      "[I 2025-06-29 13:39:46,246] Trial 29 finished with value: -0.8250641956780647 and parameters: {'hidden_channels': 105, 'lr': 0.015924703776224243, 'num_layers': 4, 'dropout': 0.271325214292935}. Best is trial 14 with value: -0.8512232784144839.\n"
     ]
    },
    {
     "name": "stdout",
     "output_type": "stream",
     "text": [
      "\n",
      "Best Hyperparameters Found:\n",
      "  Hidden Channels : 227\n",
      "  Learning Rate   : 0.00153\n",
      "  Num Layers      : 4\n",
      "  Dropout         : 0.00\n",
      "\n",
      "Performance Metrics:\n",
      "  F1 Score        : 0.8512\n",
      "  AUC             : 0.9166\n",
      "  Average Loss    : 1.2522\n",
      "  NDCG            : 0.9920\n"
     ]
    }
   ],
   "execution_count": 14
  },
  {
   "metadata": {},
   "cell_type": "markdown",
   "source": "## GAN",
   "id": "37997c88a51ce6ac"
  },
  {
   "metadata": {
    "ExecuteTime": {
     "end_time": "2025-06-29T11:58:06.578024Z",
     "start_time": "2025-06-29T11:39:46.428993Z"
    }
   },
   "cell_type": "code",
   "source": [
    "result = run_gan_optuna(train_data, test_data)\n",
    "\n",
    "print(\"\\nBest Hyperparameters Found:\")\n",
    "print(f\"  Hidden Channels : {result['best_params']['hidden_channels']}\")\n",
    "print(f\"  Learning Rate   : {result['best_params']['lr']:.5f}\")\n",
    "print(f\"  Dropout         : {result['best_params']['dropout']:.2f}\")\n",
    "\n",
    "print(\"\\nPerformance Metrics:\")\n",
    "print(f\"  F1 Score        : {result['f1']:.4f}\")\n",
    "print(f\"  AUC             : {result['auc']:.4f}\")\n",
    "print(f\"  Average Loss    : {result['loss']:.4f}\")\n",
    "print(f\"  NDCG            : {result['ndcg']:.4f}\")"
   ],
   "id": "4f5295bc97251e76",
   "outputs": [
    {
     "name": "stderr",
     "output_type": "stream",
     "text": [
      "[I 2025-06-29 13:39:46,542] A new study created in memory with name: no-name-95a22fe9-a275-406e-9f6a-fd53292054c7\n",
      "[I 2025-06-29 13:41:23,959] Trial 0 finished with value: -0.6978073349426611 and parameters: {'hidden_channels': 512, 'lr': 1.745321089149644e-05, 'dropout': 0.419628882862882}. Best is trial 0 with value: -0.6978073349426611.\n",
      "[I 2025-06-29 13:42:45,528] Trial 1 finished with value: -0.7431369056028896 and parameters: {'hidden_channels': 417, 'lr': 6.497490893937845e-05, 'dropout': 0.3845932918109063}. Best is trial 1 with value: -0.7431369056028896.\n",
      "[I 2025-06-29 13:43:29,346] Trial 2 finished with value: -0.7120844168403859 and parameters: {'hidden_channels': 227, 'lr': 5.622059544939263e-05, 'dropout': 0.4718102875685303}. Best is trial 1 with value: -0.7431369056028896.\n",
      "[I 2025-06-29 13:43:45,272] Trial 3 finished with value: -0.7214562961427271 and parameters: {'hidden_channels': 163, 'lr': 5.9870510592092906e-05, 'dropout': 0.08994247619545441}. Best is trial 1 with value: -0.7431369056028896.\n",
      "[I 2025-06-29 13:44:21,858] Trial 4 finished with value: -0.7526978361138678 and parameters: {'hidden_channels': 322, 'lr': 0.00031388177849206856, 'dropout': 0.1517636868487569}. Best is trial 4 with value: -0.7526978361138678.\n",
      "[I 2025-06-29 13:44:43,722] Trial 5 finished with value: -0.7486617338083493 and parameters: {'hidden_channels': 202, 'lr': 0.0005447157297039804, 'dropout': 0.187044575846841}. Best is trial 4 with value: -0.7526978361138678.\n",
      "[I 2025-06-29 13:44:55,913] Trial 6 finished with value: -0.7507424006829476 and parameters: {'hidden_channels': 104, 'lr': 0.0005112505300651845, 'dropout': 0.32866680345464755}. Best is trial 4 with value: -0.7526978361138678.\n",
      "[I 2025-06-29 13:45:35,156] Trial 7 finished with value: -0.7559674836802562 and parameters: {'hidden_channels': 373, 'lr': 0.0006781716390335923, 'dropout': 0.5084335202552936}. Best is trial 7 with value: -0.7559674836802562.\n",
      "[I 2025-06-29 13:46:17,365] Trial 8 finished with value: -0.7495726913122039 and parameters: {'hidden_channels': 425, 'lr': 0.0005376118648649882, 'dropout': 0.11978759701190987}. Best is trial 7 with value: -0.7559674836802562.\n",
      "[I 2025-06-29 13:46:47,421] Trial 9 finished with value: -0.7110064463950142 and parameters: {'hidden_channels': 264, 'lr': 4.1842759859963196e-05, 'dropout': 0.210122406514342}. Best is trial 7 with value: -0.7559674836802562.\n",
      "[I 2025-06-29 13:47:24,842] Trial 10 finished with value: -0.6666893865628043 and parameters: {'hidden_channels': 352, 'lr': 0.018994130596383486, 'dropout': 0.6873673116684789}. Best is trial 7 with value: -0.7559674836802562.\n",
      "[I 2025-06-29 13:48:01,340] Trial 11 finished with value: -0.6666666666666666 and parameters: {'hidden_channels': 322, 'lr': 0.004487048717717914, 'dropout': 0.5552937655669397}. Best is trial 7 with value: -0.7559674836802562.\n",
      "[I 2025-06-29 13:48:41,220] Trial 12 finished with value: -0.6680478258957583 and parameters: {'hidden_channels': 381, 'lr': 0.002293932799201024, 'dropout': 0.006341605232608016}. Best is trial 7 with value: -0.7559674836802562.\n",
      "[I 2025-06-29 13:49:33,193] Trial 13 finished with value: -0.6666666666666666 and parameters: {'hidden_channels': 484, 'lr': 0.04802432278074739, 'dropout': 0.28942369972955534}. Best is trial 7 with value: -0.7559674836802562.\n",
      "[I 2025-06-29 13:50:06,578] Trial 14 finished with value: -0.7493181859781209 and parameters: {'hidden_channels': 298, 'lr': 0.00019056036827911412, 'dropout': 0.5721755609211878}. Best is trial 7 with value: -0.7559674836802562.\n",
      "[I 2025-06-29 13:50:53,167] Trial 15 finished with value: -0.6666666666666666 and parameters: {'hidden_channels': 436, 'lr': 0.003973872474457052, 'dropout': 0.5332414403413399}. Best is trial 7 with value: -0.7559674836802562.\n",
      "[I 2025-06-29 13:51:32,819] Trial 16 finished with value: -0.7486536442181926 and parameters: {'hidden_channels': 370, 'lr': 0.00021907472845905722, 'dropout': 0.673062725202703}. Best is trial 7 with value: -0.7559674836802562.\n",
      "[I 2025-06-29 13:52:05,668] Trial 17 finished with value: -0.6717137840557122 and parameters: {'hidden_channels': 281, 'lr': 0.0020044854240923718, 'dropout': 0.2698749732688404}. Best is trial 7 with value: -0.7559674836802562.\n",
      "[I 2025-06-29 13:52:19,025] Trial 18 finished with value: -0.7426829870193968 and parameters: {'hidden_channels': 65, 'lr': 0.00018502320835900868, 'dropout': 0.4668219135339161}. Best is trial 7 with value: -0.7559674836802562.\n",
      "[I 2025-06-29 13:52:56,509] Trial 19 finished with value: -0.6666666666666666 and parameters: {'hidden_channels': 331, 'lr': 0.010295069743115616, 'dropout': 0.04866597643115633}. Best is trial 7 with value: -0.7559674836802562.\n",
      "[I 2025-06-29 13:53:22,939] Trial 20 finished with value: -0.7015694489565013 and parameters: {'hidden_channels': 223, 'lr': 1.0620674679543744e-05, 'dropout': 0.18580409373938692}. Best is trial 7 with value: -0.7559674836802562.\n",
      "[I 2025-06-29 13:53:36,083] Trial 21 finished with value: -0.7520207564115358 and parameters: {'hidden_channels': 93, 'lr': 0.0009886554873987357, 'dropout': 0.33784693192684634}. Best is trial 7 with value: -0.7559674836802562.\n",
      "[I 2025-06-29 13:53:51,593] Trial 22 finished with value: -0.7553303932645697 and parameters: {'hidden_channels': 151, 'lr': 0.001159192866233689, 'dropout': 0.3630955576903084}. Best is trial 7 with value: -0.7559674836802562.\n",
      "[I 2025-06-29 13:54:07,785] Trial 23 finished with value: -0.7479735520999143 and parameters: {'hidden_channels': 156, 'lr': 0.0011242618957168033, 'dropout': 0.6182599746046102}. Best is trial 7 with value: -0.7559674836802562.\n",
      "[I 2025-06-29 13:54:37,877] Trial 24 finished with value: -0.7474194099416774 and parameters: {'hidden_channels': 255, 'lr': 0.00029906004982477535, 'dropout': 0.45521192259344584}. Best is trial 7 with value: -0.7559674836802562.\n",
      "[I 2025-06-29 13:55:17,156] Trial 25 finished with value: -0.7441126985150576 and parameters: {'hidden_channels': 395, 'lr': 0.00010540873173888553, 'dropout': 0.2598803095565598}. Best is trial 7 with value: -0.7559674836802562.\n",
      "[I 2025-06-29 13:55:52,837] Trial 26 finished with value: -0.690055067657475 and parameters: {'hidden_channels': 311, 'lr': 0.001570555223136674, 'dropout': 0.38836177019663015}. Best is trial 7 with value: -0.7559674836802562.\n",
      "[I 2025-06-29 13:56:38,346] Trial 27 finished with value: -0.6666666666666666 and parameters: {'hidden_channels': 457, 'lr': 0.008557134075660253, 'dropout': 0.49517535255888995}. Best is trial 7 with value: -0.7559674836802562.\n",
      "[I 2025-06-29 13:57:17,601] Trial 28 finished with value: -0.7498558693053204 and parameters: {'hidden_channels': 349, 'lr': 0.0006607994173853228, 'dropout': 0.23248443194348967}. Best is trial 7 with value: -0.7559674836802562.\n",
      "[I 2025-06-29 13:58:06,533] Trial 29 finished with value: -0.6666666666666666 and parameters: {'hidden_channels': 504, 'lr': 0.003391949121654097, 'dropout': 0.4060224740951771}. Best is trial 7 with value: -0.7559674836802562.\n"
     ]
    },
    {
     "name": "stdout",
     "output_type": "stream",
     "text": [
      "\n",
      "Best Hyperparameters Found:\n",
      "  Hidden Channels : 373\n",
      "  Learning Rate   : 0.00068\n",
      "  Dropout         : 0.51\n",
      "\n",
      "Performance Metrics:\n",
      "  F1 Score        : 0.7560\n",
      "  AUC             : 0.7817\n",
      "  Average Loss    : 0.2407\n",
      "  NDCG            : 0.9738\n"
     ]
    }
   ],
   "execution_count": 15
  },
  {
   "metadata": {},
   "cell_type": "markdown",
   "source": "# Results after optimizing with GridSearchCV",
   "id": "e2651ebf14072d32"
  },
  {
   "metadata": {},
   "cell_type": "markdown",
   "source": "## GCN",
   "id": "25a7eac400513b2"
  },
  {
   "metadata": {
    "ExecuteTime": {
     "end_time": "2025-06-29T13:15:51.829630Z",
     "start_time": "2025-06-29T13:06:26.765818Z"
    }
   },
   "cell_type": "code",
   "source": [
    "result = run_gcn_gs(train_data, test_data)\n",
    "print(\"\\nBest Hyperparameters Found:\")\n",
    "print(f\"  Hidden Channels : {result['best_params']['hidden_channels']}\")\n",
    "print(f\"  Learning Rate   : {result['best_params']['lr']:.5f}\")\n",
    "print(f\"  Num Layers      : {result['best_params']['num_layers']}\")\n",
    "print(f\"  Dropout         : {result['best_params']['dropout']:.2f}\")\n",
    "\n",
    "print(\"\\nPerformance Metrics:\")\n",
    "print(f\"  F1 Score        : {result['f1']:.4f}\")\n",
    "print(f\"  AUC             : {result['auc']:.4f}\")\n",
    "print(f\"  Average Loss    : {result['loss']:.4f}\")\n",
    "print(f\"  NDCG            : {result['ndcg']:.4f}\")"
   ],
   "id": "a201ada5f31b3fb2",
   "outputs": [
    {
     "name": "stdout",
     "output_type": "stream",
     "text": [
      "\n",
      "Best Hyperparameters Found:\n",
      "  Hidden Channels : 64\n",
      "  Learning Rate   : 0.01000\n",
      "  Num Layers      : 3\n",
      "  Dropout         : 0.30\n",
      "\n",
      "Performance Metrics:\n",
      "  F1 Score        : 0.8497\n",
      "  AUC             : 0.9151\n",
      "  Average Loss    : 1.2031\n",
      "  NDCG            : 0.9920\n"
     ]
    }
   ],
   "execution_count": 7
  },
  {
   "metadata": {},
   "cell_type": "markdown",
   "source": "## GAN",
   "id": "ebb815b242c2447f"
  },
  {
   "metadata": {
    "ExecuteTime": {
     "end_time": "2025-06-29T13:06:26.711856Z",
     "start_time": "2025-06-29T12:56:43.519931Z"
    }
   },
   "cell_type": "code",
   "source": [
    "result = run_gan_gs(train_data, test_data)\n",
    "print(\"\\nBest Hyperparameters Found:\")\n",
    "print(f\"  Hidden Channels : {result['best_params']['hidden_channels']}\")\n",
    "print(f\"  Learning Rate   : {result['best_params']['lr']:.5f}\")\n",
    "print(f\"  Dropout         : {result['best_params']['dropout']:.2f}\")\n",
    "\n",
    "print(\"\\nPerformance Metrics:\")\n",
    "print(f\"  F1 Score        : {result['f1']:.4f}\")\n",
    "print(f\"  AUC             : {result['auc']:.4f}\")\n",
    "print(f\"  Average Loss    : {result['loss']:.4f}\")\n",
    "print(f\"  NDCG            : {result['ndcg']:.4f}\")"
   ],
   "id": "b6ee335f1000d358",
   "outputs": [
    {
     "name": "stdout",
     "output_type": "stream",
     "text": [
      "\n",
      "Best Hyperparameters Found:\n",
      "  Hidden Channels : 512\n",
      "  Learning Rate   : 0.00010\n",
      "  Dropout         : 0.00\n",
      "\n",
      "Performance Metrics:\n",
      "  F1 Score        : 0.7428\n",
      "  AUC             : 0.7630\n",
      "  Average Loss    : 0.0554\n",
      "  NDCG            : 0.9712\n"
     ]
    }
   ],
   "execution_count": 6
  }
 ],
 "metadata": {
  "kernelspec": {
   "display_name": "Python 3",
   "language": "python",
   "name": "python3"
  },
  "language_info": {
   "codemirror_mode": {
    "name": "ipython",
    "version": 2
   },
   "file_extension": ".py",
   "mimetype": "text/x-python",
   "name": "python",
   "nbconvert_exporter": "python",
   "pygments_lexer": "ipython2",
   "version": "2.7.6"
  }
 },
 "nbformat": 4,
 "nbformat_minor": 5
}
