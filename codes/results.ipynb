{
 "cells": [
  {
   "metadata": {
    "ExecuteTime": {
     "end_time": "2025-06-22T18:56:09.545233Z",
     "start_time": "2025-06-22T18:56:09.489672Z"
    }
   },
   "cell_type": "code",
   "source": [
    "%load_ext autoreload\n",
    "%autoreload 2"
   ],
   "id": "b00af415018bebcf",
   "outputs": [],
   "execution_count": 1
  },
  {
   "metadata": {
    "ExecuteTime": {
     "end_time": "2025-06-22T18:56:11.986177Z",
     "start_time": "2025-06-22T18:56:10.585502Z"
    }
   },
   "cell_type": "code",
   "source": "%reload_ext autoreload",
   "id": "b3f4f8ebea519f2e",
   "outputs": [],
   "execution_count": 2
  },
  {
   "metadata": {
    "ExecuteTime": {
     "end_time": "2025-06-22T18:56:12.045258Z",
     "start_time": "2025-06-22T18:56:11.994620Z"
    }
   },
   "cell_type": "code",
   "source": [
    "import warnings\n",
    "warnings.filterwarnings('ignore')"
   ],
   "id": "a34e5e0f5aa6543b",
   "outputs": [],
   "execution_count": 3
  },
  {
   "metadata": {
    "collapsed": true,
    "ExecuteTime": {
     "end_time": "2025-06-22T18:56:39.747887Z",
     "start_time": "2025-06-22T18:56:13.277356Z"
    }
   },
   "cell_type": "code",
   "source": [
    "from optimizers_niapy import *\n",
    "from other_optimizers import *"
   ],
   "id": "initial_id",
   "outputs": [
    {
     "name": "stdout",
     "output_type": "stream",
     "text": [
      "Nodes: 21557, Edges: 342353\n"
     ]
    }
   ],
   "execution_count": 4
  },
  {
   "metadata": {},
   "cell_type": "markdown",
   "source": "# GCN results",
   "id": "2af644a26bfde8cc"
  },
  {
   "metadata": {
    "ExecuteTime": {
     "end_time": "2025-06-22T17:14:00.646093Z",
     "start_time": "2025-06-22T17:12:43.567562Z"
    }
   },
   "cell_type": "code",
   "source": [
    "model = GCNLinkPredictor(in_channels=5, hidden_channels=256)\n",
    "optimizer = optim.Adam(model.parameters(), lr=0.01)\n",
    "\n",
    "print(\"\\n=== Before training ===\")\n",
    "test_probs = GCNtest(model, test_data)\n",
    "print(f\"Sample test predictions (first 5):\\n{test_probs[:5]}\")\n",
    "\n",
    "print(\"\\n=== After training ===\")\n",
    "for epoch in range(1, 10):\n",
    "  loss = GCNtrain(model, optimizer, train_data)\n",
    "  test_probs = GCNtest(model, test_data)\n",
    "  auc_gcn, f1_gcn, ndcg = evaluate_model(test_probs, test_data.edge_label)\n",
    "  print(f\"Epoch {epoch}, Loss: {loss:.4f}, AUC score: {auc_gcn:.4f}, F1 score: {f1_gcn:.4f}, NDCG: {ndcg:.4f}\")\n",
    "  print(f\"Sample predictions: {test_probs[:5].tolist()}...\")\n"
   ],
   "id": "87c4fd79af333fad",
   "outputs": [
    {
     "name": "stdout",
     "output_type": "stream",
     "text": [
      "\n",
      "=== Before training ===\n",
      "Sample test predictions (first 5):\n",
      "[0.5487437  0.52378404 0.53816336 0.51211756 0.53373295]\n",
      "\n",
      "=== After training ===\n",
      "Epoch 1, Loss: 1.3792, AUC score: 0.7409, F1 score: 0.7268, NDCG: 0.5758\n",
      "Sample predictions: [0.8401272892951965, 0.7343032360076904, 0.8133442997932434, 0.6434138417243958, 0.813139796257019]...\n",
      "Epoch 2, Loss: 1.4556, AUC score: 0.7477, F1 score: 0.7197, NDCG: 0.5152\n",
      "Sample predictions: [0.5738635659217834, 0.5423348546028137, 0.559895932674408, 0.525320827960968, 0.5534018874168396]...\n",
      "Epoch 3, Loss: 1.3670, AUC score: 0.7469, F1 score: 0.7250, NDCG: 0.5758\n",
      "Sample predictions: [0.8872199654579163, 0.7470495700836182, 0.8177286982536316, 0.6566676497459412, 0.773472785949707]...\n",
      "Epoch 4, Loss: 1.4539, AUC score: 0.7523, F1 score: 0.7293, NDCG: 0.5455\n",
      "Sample predictions: [0.7598632574081421, 0.6467447280883789, 0.6971905827522278, 0.5911186933517456, 0.6650320887565613]...\n",
      "Epoch 5, Loss: 1.3702, AUC score: 0.7864, F1 score: 0.7456, NDCG: 0.5253\n",
      "Sample predictions: [0.6688546538352966, 0.5934431552886963, 0.6258614659309387, 0.5608027577400208, 0.6083269715309143]...\n",
      "Epoch 6, Loss: 1.3416, AUC score: 0.8204, F1 score: 0.7666, NDCG: 0.5354\n",
      "Sample predictions: [0.7040078043937683, 0.6197252869606018, 0.6582076549530029, 0.5817141532897949, 0.6447747349739075]...\n",
      "Epoch 7, Loss: 1.3219, AUC score: 0.8391, F1 score: 0.7776, NDCG: 0.5657\n",
      "Sample predictions: [0.8413498401641846, 0.722660481929779, 0.7826012969017029, 0.6584176421165466, 0.7659963369369507]...\n",
      "Epoch 8, Loss: 1.2969, AUC score: 0.8572, F1 score: 0.7907, NDCG: 0.6162\n",
      "Sample predictions: [0.953676164150238, 0.8483131527900696, 0.9098610877990723, 0.7673004865646362, 0.8920071125030518]...\n",
      "Epoch 9, Loss: 1.2949, AUC score: 0.8742, F1 score: 0.8035, NDCG: 0.6061\n",
      "Sample predictions: [0.9652670621871948, 0.8641726970672607, 0.9248210787773132, 0.7857234477996826, 0.9030963182449341]...\n"
     ]
    }
   ],
   "execution_count": 6
  },
  {
   "metadata": {},
   "cell_type": "markdown",
   "source": "# GAN results",
   "id": "13bf75e3c1042076"
  },
  {
   "metadata": {
    "ExecuteTime": {
     "end_time": "2025-06-22T18:14:36.903089Z",
     "start_time": "2025-06-22T18:12:34.206527Z"
    }
   },
   "cell_type": "code",
   "source": [
    "generator = Generator(in_channels=5, hidden_channels=256).to(device)\n",
    "discriminator = Discriminator(hidden_channels=256).to(device)\n",
    "\n",
    "generator.apply(init_weights)\n",
    "discriminator.apply(init_weights)\n",
    "\n",
    "optimizer_G = optim.Adam(generator.parameters(), lr=1e-4, betas=(0.5, 0.999))\n",
    "optimizer_D = optim.Adam(discriminator.parameters(), lr=1e-4, betas=(0.5, 0.999))\n",
    "\n",
    "print(\"\\n=== Before training ===\")\n",
    "test_probs = GANtest(generator, discriminator, test_data)\n",
    "print(f\"Sample test predictions (first 5):\\n{test_probs[:5]}\")\n",
    "\n",
    "print(\"\\n=== After training ===\")\n",
    "for epoch in range(1, 10):\n",
    "    d_loss, g_loss = GANtrain(generator, discriminator, optimizer_G, optimizer_D, train_data)\n",
    "    test_probs = GANtest(generator, discriminator, test_data)\n",
    "    auc_gan, f1_gan, ndcg = evaluate_model(test_probs, test_data.edge_label)\n",
    "    print(f\"Epoch {epoch}, D Loss: {d_loss:.4f}, G Loss: {g_loss:.4f}, AUC score: {auc_gan:.4f}, F1 score: {f1_gan:.4f}, NDCG: {ndcg:.4f}\")\n",
    "    print(f\"Sample predictions: {test_probs[:5].tolist()}...\")\n"
   ],
   "id": "c2168319882ef643",
   "outputs": [
    {
     "name": "stdout",
     "output_type": "stream",
     "text": [
      "\n",
      "=== Before training ===\n",
      "Sample test predictions (first 5):\n",
      "[[0.48876545]\n",
      " [0.48925737]\n",
      " [0.49535465]\n",
      " [0.5034362 ]\n",
      " [0.50852   ]]\n",
      "\n",
      "=== After training ===\n",
      "Epoch 1, D Loss: -0.0227, G Loss: 0.0545, AUC score: 0.6259, F1 score: 0.6972, NDCG: 0.9379\n",
      "Sample predictions: [[0.48652705550193787], [0.4862120747566223], [0.4904921054840088], [0.5017315745353699], [0.5057079195976257]]...\n",
      "Epoch 2, D Loss: -0.0344, G Loss: 0.0786, AUC score: 0.6653, F1 score: 0.7007, NDCG: 0.9462\n",
      "Sample predictions: [[0.4845881760120392], [0.4831984341144562], [0.48591887950897217], [0.5000271797180176], [0.5031570792198181]]...\n",
      "Epoch 3, D Loss: -0.0443, G Loss: 0.1007, AUC score: 0.6960, F1 score: 0.7130, NDCG: 0.9534\n",
      "Sample predictions: [[0.4825708270072937], [0.4803364872932434], [0.4814923107624054], [0.49839892983436584], [0.5004162192344666]]...\n",
      "Epoch 4, D Loss: -0.0559, G Loss: 0.1229, AUC score: 0.7178, F1 score: 0.7197, NDCG: 0.9588\n",
      "Sample predictions: [[0.4807751476764679], [0.47800177335739136], [0.4769856929779053], [0.49687492847442627], [0.4975771903991699]]...\n",
      "Epoch 5, D Loss: -0.0627, G Loss: 0.1443, AUC score: 0.7320, F1 score: 0.7221, NDCG: 0.9628\n",
      "Sample predictions: [[0.47866523265838623], [0.4749622642993927], [0.4723711609840393], [0.4950781464576721], [0.49404364824295044]]...\n",
      "Epoch 6, D Loss: -0.0789, G Loss: 0.1710, AUC score: 0.7416, F1 score: 0.7300, NDCG: 0.9659\n",
      "Sample predictions: [[0.47624078392982483], [0.471662700176239], [0.4673994183540344], [0.4932113587856293], [0.49050256609916687]]...\n",
      "Epoch 7, D Loss: -0.0791, G Loss: 0.1909, AUC score: 0.7482, F1 score: 0.7305, NDCG: 0.9675\n",
      "Sample predictions: [[0.47397133708000183], [0.46892112493515015], [0.4630871117115021], [0.49167588353157043], [0.48753413558006287]]...\n",
      "Epoch 8, D Loss: -0.0982, G Loss: 0.2209, AUC score: 0.7524, F1 score: 0.7351, NDCG: 0.9682\n",
      "Sample predictions: [[0.4718831479549408], [0.46589213609695435], [0.4593280553817749], [0.4900408685207367], [0.4846703112125397]]...\n",
      "Epoch 9, D Loss: -0.1128, G Loss: 0.2468, AUC score: 0.7561, F1 score: 0.7363, NDCG: 0.9689\n",
      "Sample predictions: [[0.46951159834861755], [0.46326807141304016], [0.45477229356765747], [0.4884042739868164], [0.48152872920036316]]...\n"
     ]
    }
   ],
   "execution_count": 14
  },
  {
   "metadata": {},
   "cell_type": "markdown",
   "source": "# Results after optimization with Genetic Algorithm",
   "id": "d3c5868a95638507"
  },
  {
   "metadata": {},
   "cell_type": "markdown",
   "source": "## GCN",
   "id": "f03a5025f05c562d"
  },
  {
   "metadata": {
    "ExecuteTime": {
     "end_time": "2025-06-22T18:57:35.181701Z",
     "start_time": "2025-06-22T18:56:40.137619Z"
    }
   },
   "cell_type": "code",
   "source": [
    "result = run_gcn_ga()\n",
    "\n",
    "print(\"\\nBest Hyperparameters Found:\")\n",
    "print(f\"  Hidden Channels : {result['best_params']['hidden_channels']}\")\n",
    "print(f\"  Learning Rate   : {result['best_params']['lr']:.5f}\")\n",
    "print(f\"  Num Layers      : {result['best_params']['num_layers']}\")\n",
    "print(f\"  Dropout         : {result['best_params']['dropout']:.2f}\")\n",
    "\n",
    "print(\"\\nPerformance Metrics:\")\n",
    "print(f\"  F1 Score        : {result['f1']:.4f}\")\n",
    "print(f\"  AUC             : {result['auc']:.4f}\")\n",
    "print(f\"  Average Loss    : {result['loss']:.4f}\")\n",
    "print(f\"  NDCG            : {result['ndcg']:.4f}\")"
   ],
   "id": "9d69d5c9f9d6fb8c",
   "outputs": [
    {
     "ename": "KeyboardInterrupt",
     "evalue": "",
     "output_type": "error",
     "traceback": [
      "\u001B[1;31m---------------------------------------------------------------------------\u001B[0m",
      "\u001B[1;31mKeyboardInterrupt\u001B[0m                         Traceback (most recent call last)",
      "Cell \u001B[1;32mIn[5], line 1\u001B[0m\n\u001B[1;32m----> 1\u001B[0m result \u001B[38;5;241m=\u001B[39m run_gcn_ga()\n\u001B[0;32m      3\u001B[0m \u001B[38;5;28mprint\u001B[39m(\u001B[38;5;124m\"\u001B[39m\u001B[38;5;130;01m\\n\u001B[39;00m\u001B[38;5;124mBest Hyperparameters Found:\u001B[39m\u001B[38;5;124m\"\u001B[39m)\n\u001B[0;32m      4\u001B[0m \u001B[38;5;28mprint\u001B[39m(\u001B[38;5;124mf\u001B[39m\u001B[38;5;124m\"\u001B[39m\u001B[38;5;124m  Hidden Channels : \u001B[39m\u001B[38;5;132;01m{\u001B[39;00mresult[\u001B[38;5;124m'\u001B[39m\u001B[38;5;124mbest_params\u001B[39m\u001B[38;5;124m'\u001B[39m][\u001B[38;5;124m'\u001B[39m\u001B[38;5;124mhidden_channels\u001B[39m\u001B[38;5;124m'\u001B[39m]\u001B[38;5;132;01m}\u001B[39;00m\u001B[38;5;124m\"\u001B[39m)\n",
      "File \u001B[1;32m~\\PycharmProjects\\ppi_link_pred_codes\\PPI-link-prediction-with-optimized-gcn-and-gan\\codes\\optimizers_niapy.py:67\u001B[0m, in \u001B[0;36mrun_gcn_ga\u001B[1;34m()\u001B[0m\n\u001B[0;32m     58\u001B[0m task \u001B[38;5;241m=\u001B[39m Task(problem\u001B[38;5;241m=\u001B[39mproblem, max_evals\u001B[38;5;241m=\u001B[39m\u001B[38;5;241m30\u001B[39m)\n\u001B[0;32m     60\u001B[0m algo \u001B[38;5;241m=\u001B[39m GeneticAlgorithm(\n\u001B[0;32m     61\u001B[0m     population_size\u001B[38;5;241m=\u001B[39m\u001B[38;5;241m10\u001B[39m,\n\u001B[0;32m     62\u001B[0m     crossover_rate\u001B[38;5;241m=\u001B[39m\u001B[38;5;241m0.8\u001B[39m,\n\u001B[0;32m     63\u001B[0m     mutation_rate\u001B[38;5;241m=\u001B[39m\u001B[38;5;241m0.2\u001B[39m,\n\u001B[0;32m     64\u001B[0m     individual_type \u001B[38;5;241m=\u001B[39m Individual\n\u001B[0;32m     65\u001B[0m )\n\u001B[1;32m---> 67\u001B[0m best_solution, best_score \u001B[38;5;241m=\u001B[39m algo\u001B[38;5;241m.\u001B[39mrun(task)\n\u001B[0;32m     69\u001B[0m \u001B[38;5;28;01mreturn\u001B[39;00m {\n\u001B[0;32m     70\u001B[0m     \u001B[38;5;124m\"\u001B[39m\u001B[38;5;124mbest_params\u001B[39m\u001B[38;5;124m\"\u001B[39m: {\n\u001B[0;32m     71\u001B[0m         \u001B[38;5;124m\"\u001B[39m\u001B[38;5;124mhidden_channels\u001B[39m\u001B[38;5;124m\"\u001B[39m: \u001B[38;5;28mint\u001B[39m(best_solution[\u001B[38;5;241m0\u001B[39m]),\n\u001B[1;32m   (...)\u001B[0m\n\u001B[0;32m     79\u001B[0m     \u001B[38;5;124m\"\u001B[39m\u001B[38;5;124mndcg\u001B[39m\u001B[38;5;124m\"\u001B[39m: problem\u001B[38;5;241m.\u001B[39mlast_ndcg\n\u001B[0;32m     80\u001B[0m }\n",
      "File \u001B[1;32m~\\anaconda3\\Lib\\site-packages\\niapy\\algorithms\\algorithm.py:321\u001B[0m, in \u001B[0;36mAlgorithm.run\u001B[1;34m(self, task)\u001B[0m\n\u001B[0;32m    319\u001B[0m \u001B[38;5;28;01mexcept\u001B[39;00m \u001B[38;5;167;01mBaseException\u001B[39;00m \u001B[38;5;28;01mas\u001B[39;00m e:\n\u001B[0;32m    320\u001B[0m     \u001B[38;5;28;01mif\u001B[39;00m threading\u001B[38;5;241m.\u001B[39mcurrent_thread() \u001B[38;5;129;01mis\u001B[39;00m threading\u001B[38;5;241m.\u001B[39mmain_thread() \u001B[38;5;129;01mand\u001B[39;00m multiprocessing\u001B[38;5;241m.\u001B[39mcurrent_process()\u001B[38;5;241m.\u001B[39mname \u001B[38;5;241m==\u001B[39m \u001B[38;5;124m'\u001B[39m\u001B[38;5;124mMainProcess\u001B[39m\u001B[38;5;124m'\u001B[39m:\n\u001B[1;32m--> 321\u001B[0m         \u001B[38;5;28;01mraise\u001B[39;00m e\n\u001B[0;32m    322\u001B[0m     \u001B[38;5;28mself\u001B[39m\u001B[38;5;241m.\u001B[39mexception \u001B[38;5;241m=\u001B[39m e\n\u001B[0;32m    323\u001B[0m     \u001B[38;5;28;01mreturn\u001B[39;00m \u001B[38;5;28;01mNone\u001B[39;00m, \u001B[38;5;28;01mNone\u001B[39;00m\n",
      "File \u001B[1;32m~\\anaconda3\\Lib\\site-packages\\niapy\\algorithms\\algorithm.py:310\u001B[0m, in \u001B[0;36mAlgorithm.run\u001B[1;34m(self, task)\u001B[0m\n\u001B[0;32m    308\u001B[0m \u001B[38;5;28;01mtry\u001B[39;00m:\n\u001B[0;32m    309\u001B[0m     \u001B[38;5;28mself\u001B[39m\u001B[38;5;241m.\u001B[39mcallbacks\u001B[38;5;241m.\u001B[39mbefore_run()\n\u001B[1;32m--> 310\u001B[0m     pop, fpop, params \u001B[38;5;241m=\u001B[39m \u001B[38;5;28mself\u001B[39m\u001B[38;5;241m.\u001B[39minit_population(task)\n\u001B[0;32m    311\u001B[0m     xb, fxb \u001B[38;5;241m=\u001B[39m \u001B[38;5;28mself\u001B[39m\u001B[38;5;241m.\u001B[39mget_best(pop, fpop)\n\u001B[0;32m    312\u001B[0m     \u001B[38;5;28;01mwhile\u001B[39;00m \u001B[38;5;129;01mnot\u001B[39;00m task\u001B[38;5;241m.\u001B[39mstopping_condition():\n",
      "File \u001B[1;32m~\\anaconda3\\Lib\\site-packages\\niapy\\algorithms\\algorithm.py:262\u001B[0m, in \u001B[0;36mAlgorithm.init_population\u001B[1;34m(self, task)\u001B[0m\n\u001B[0;32m    246\u001B[0m \u001B[38;5;28;01mdef\u001B[39;00m \u001B[38;5;21minit_population\u001B[39m(\u001B[38;5;28mself\u001B[39m, task):\n\u001B[0;32m    247\u001B[0m \u001B[38;5;250m    \u001B[39m\u001B[38;5;124mr\u001B[39m\u001B[38;5;124;03m\"\"\"Initialize starting population of optimization algorithm.\u001B[39;00m\n\u001B[0;32m    248\u001B[0m \n\u001B[0;32m    249\u001B[0m \u001B[38;5;124;03m    Args:\u001B[39;00m\n\u001B[1;32m   (...)\u001B[0m\n\u001B[0;32m    260\u001B[0m \n\u001B[0;32m    261\u001B[0m \u001B[38;5;124;03m    \"\"\"\u001B[39;00m\n\u001B[1;32m--> 262\u001B[0m     pop, fpop \u001B[38;5;241m=\u001B[39m \u001B[38;5;28mself\u001B[39m\u001B[38;5;241m.\u001B[39minitialization_function(task\u001B[38;5;241m=\u001B[39mtask, population_size\u001B[38;5;241m=\u001B[39m\u001B[38;5;28mself\u001B[39m\u001B[38;5;241m.\u001B[39mpopulation_size, rng\u001B[38;5;241m=\u001B[39m\u001B[38;5;28mself\u001B[39m\u001B[38;5;241m.\u001B[39mrng,\n\u001B[0;32m    263\u001B[0m                                              individual_type\u001B[38;5;241m=\u001B[39m\u001B[38;5;28mself\u001B[39m\u001B[38;5;241m.\u001B[39mindividual_type)\n\u001B[0;32m    264\u001B[0m     \u001B[38;5;28;01mreturn\u001B[39;00m pop, fpop, {}\n",
      "File \u001B[1;32m~\\anaconda3\\Lib\\site-packages\\niapy\\algorithms\\algorithm.py:58\u001B[0m, in \u001B[0;36mdefault_individual_init\u001B[1;34m(task, population_size, rng, individual_type, **_kwargs)\u001B[0m\n\u001B[0;32m     43\u001B[0m \u001B[38;5;28;01mdef\u001B[39;00m \u001B[38;5;21mdefault_individual_init\u001B[39m(task, population_size, rng, individual_type\u001B[38;5;241m=\u001B[39m\u001B[38;5;28;01mNone\u001B[39;00m, \u001B[38;5;241m*\u001B[39m\u001B[38;5;241m*\u001B[39m_kwargs):\n\u001B[0;32m     44\u001B[0m \u001B[38;5;250m    \u001B[39m\u001B[38;5;124mr\u001B[39m\u001B[38;5;124;03m\"\"\"Initialize `population_size` individuals of type `individual_type`.\u001B[39;00m\n\u001B[0;32m     45\u001B[0m \n\u001B[0;32m     46\u001B[0m \u001B[38;5;124;03m    Args:\u001B[39;00m\n\u001B[1;32m   (...)\u001B[0m\n\u001B[0;32m     56\u001B[0m \n\u001B[0;32m     57\u001B[0m \u001B[38;5;124;03m    \"\"\"\u001B[39;00m\n\u001B[1;32m---> 58\u001B[0m     pop \u001B[38;5;241m=\u001B[39m objects_to_array([individual_type(task\u001B[38;5;241m=\u001B[39mtask, rng\u001B[38;5;241m=\u001B[39mrng, e\u001B[38;5;241m=\u001B[39m\u001B[38;5;28;01mTrue\u001B[39;00m) \u001B[38;5;28;01mfor\u001B[39;00m _ \u001B[38;5;129;01min\u001B[39;00m \u001B[38;5;28mrange\u001B[39m(population_size)])\n\u001B[0;32m     59\u001B[0m     \u001B[38;5;28;01mreturn\u001B[39;00m pop, np\u001B[38;5;241m.\u001B[39masarray([x\u001B[38;5;241m.\u001B[39mf \u001B[38;5;28;01mfor\u001B[39;00m x \u001B[38;5;129;01min\u001B[39;00m pop])\n",
      "File \u001B[1;32m~\\anaconda3\\Lib\\site-packages\\niapy\\algorithms\\algorithm.py:369\u001B[0m, in \u001B[0;36mIndividual.__init__\u001B[1;34m(self, x, task, e, rng, **kwargs)\u001B[0m\n\u001B[0;32m    367\u001B[0m     \u001B[38;5;28mself\u001B[39m\u001B[38;5;241m.\u001B[39mgenerate_solution(task, default_rng(rng))\n\u001B[0;32m    368\u001B[0m \u001B[38;5;28;01mif\u001B[39;00m e \u001B[38;5;129;01mand\u001B[39;00m task \u001B[38;5;129;01mis\u001B[39;00m \u001B[38;5;129;01mnot\u001B[39;00m \u001B[38;5;28;01mNone\u001B[39;00m:\n\u001B[1;32m--> 369\u001B[0m     \u001B[38;5;28mself\u001B[39m\u001B[38;5;241m.\u001B[39mevaluate(task, rng)\n",
      "File \u001B[1;32m~\\anaconda3\\Lib\\site-packages\\niapy\\algorithms\\algorithm.py:400\u001B[0m, in \u001B[0;36mIndividual.evaluate\u001B[1;34m(self, task, rng)\u001B[0m\n\u001B[0;32m    386\u001B[0m \u001B[38;5;250m\u001B[39m\u001B[38;5;124mr\u001B[39m\u001B[38;5;124;03m\"\"\"Evaluate the solution.\u001B[39;00m\n\u001B[0;32m    387\u001B[0m \n\u001B[0;32m    388\u001B[0m \u001B[38;5;124;03mEvaluate solution ``this.x`` with the help of task.\u001B[39;00m\n\u001B[1;32m   (...)\u001B[0m\n\u001B[0;32m    397\u001B[0m \n\u001B[0;32m    398\u001B[0m \u001B[38;5;124;03m\"\"\"\u001B[39;00m\n\u001B[0;32m    399\u001B[0m \u001B[38;5;28mself\u001B[39m\u001B[38;5;241m.\u001B[39mx \u001B[38;5;241m=\u001B[39m task\u001B[38;5;241m.\u001B[39mrepair(\u001B[38;5;28mself\u001B[39m\u001B[38;5;241m.\u001B[39mx, rng\u001B[38;5;241m=\u001B[39mrng)\n\u001B[1;32m--> 400\u001B[0m \u001B[38;5;28mself\u001B[39m\u001B[38;5;241m.\u001B[39mf \u001B[38;5;241m=\u001B[39m task\u001B[38;5;241m.\u001B[39meval(\u001B[38;5;28mself\u001B[39m\u001B[38;5;241m.\u001B[39mx)\n",
      "File \u001B[1;32m~\\anaconda3\\Lib\\site-packages\\niapy\\task.py:145\u001B[0m, in \u001B[0;36mTask.eval\u001B[1;34m(self, x)\u001B[0m\n\u001B[0;32m    142\u001B[0m     \u001B[38;5;28;01mreturn\u001B[39;00m np\u001B[38;5;241m.\u001B[39minf\n\u001B[0;32m    144\u001B[0m \u001B[38;5;28mself\u001B[39m\u001B[38;5;241m.\u001B[39mevals \u001B[38;5;241m+\u001B[39m\u001B[38;5;241m=\u001B[39m \u001B[38;5;241m1\u001B[39m\n\u001B[1;32m--> 145\u001B[0m x_f \u001B[38;5;241m=\u001B[39m \u001B[38;5;28mself\u001B[39m\u001B[38;5;241m.\u001B[39mproblem\u001B[38;5;241m.\u001B[39mevaluate(x) \u001B[38;5;241m*\u001B[39m \u001B[38;5;28mself\u001B[39m\u001B[38;5;241m.\u001B[39moptimization_type\u001B[38;5;241m.\u001B[39mvalue\n\u001B[0;32m    147\u001B[0m \u001B[38;5;28;01mif\u001B[39;00m x_f \u001B[38;5;241m<\u001B[39m \u001B[38;5;28mself\u001B[39m\u001B[38;5;241m.\u001B[39mx_f \u001B[38;5;241m*\u001B[39m \u001B[38;5;28mself\u001B[39m\u001B[38;5;241m.\u001B[39moptimization_type\u001B[38;5;241m.\u001B[39mvalue:\n\u001B[0;32m    148\u001B[0m     \u001B[38;5;28mself\u001B[39m\u001B[38;5;241m.\u001B[39mx_f \u001B[38;5;241m=\u001B[39m x_f \u001B[38;5;241m*\u001B[39m \u001B[38;5;28mself\u001B[39m\u001B[38;5;241m.\u001B[39moptimization_type\u001B[38;5;241m.\u001B[39mvalue\n",
      "File \u001B[1;32m~\\anaconda3\\Lib\\site-packages\\niapy\\problems\\problem.py:57\u001B[0m, in \u001B[0;36mProblem.evaluate\u001B[1;34m(self, x)\u001B[0m\n\u001B[0;32m     54\u001B[0m \u001B[38;5;28;01mif\u001B[39;00m x\u001B[38;5;241m.\u001B[39mshape[\u001B[38;5;241m0\u001B[39m] \u001B[38;5;241m!=\u001B[39m \u001B[38;5;28mself\u001B[39m\u001B[38;5;241m.\u001B[39mdimension:\n\u001B[0;32m     55\u001B[0m     \u001B[38;5;28;01mraise\u001B[39;00m \u001B[38;5;167;01mValueError\u001B[39;00m(\u001B[38;5;124m'\u001B[39m\u001B[38;5;124mDimensions do not match. \u001B[39m\u001B[38;5;132;01m{}\u001B[39;00m\u001B[38;5;124m != \u001B[39m\u001B[38;5;132;01m{}\u001B[39;00m\u001B[38;5;124m'\u001B[39m\u001B[38;5;241m.\u001B[39mformat(x\u001B[38;5;241m.\u001B[39mshape[\u001B[38;5;241m0\u001B[39m], \u001B[38;5;28mself\u001B[39m\u001B[38;5;241m.\u001B[39mdimension))\n\u001B[1;32m---> 57\u001B[0m \u001B[38;5;28;01mreturn\u001B[39;00m \u001B[38;5;28mself\u001B[39m\u001B[38;5;241m.\u001B[39m_evaluate(x)\n",
      "File \u001B[1;32m~\\PycharmProjects\\ppi_link_pred_codes\\PPI-link-prediction-with-optimized-gcn-and-gan\\codes\\optimizers_niapy.py:40\u001B[0m, in \u001B[0;36mGCNHyperparameterProblem._evaluate\u001B[1;34m(self, x)\u001B[0m\n\u001B[0;32m     38\u001B[0m total_loss \u001B[38;5;241m=\u001B[39m \u001B[38;5;241m0\u001B[39m\n\u001B[0;32m     39\u001B[0m \u001B[38;5;28;01mfor\u001B[39;00m epoch \u001B[38;5;129;01min\u001B[39;00m \u001B[38;5;28mrange\u001B[39m(\u001B[38;5;241m10\u001B[39m):\n\u001B[1;32m---> 40\u001B[0m     loss \u001B[38;5;241m=\u001B[39m GCNtrain(model, optimizer, train_data)\n\u001B[0;32m     41\u001B[0m     total_loss \u001B[38;5;241m+\u001B[39m\u001B[38;5;241m=\u001B[39m loss\n\u001B[0;32m     43\u001B[0m test_probs \u001B[38;5;241m=\u001B[39m GCNtest(model, test_data)\n",
      "File \u001B[1;32m~\\PycharmProjects\\ppi_link_pred_codes\\PPI-link-prediction-with-optimized-gcn-and-gan\\codes\\gcn.py:38\u001B[0m, in \u001B[0;36mGCNtrain\u001B[1;34m(model, optimizer, train_data)\u001B[0m\n\u001B[0;32m     36\u001B[0m \u001B[38;5;28;01mdef\u001B[39;00m \u001B[38;5;21mGCNtrain\u001B[39m(model, optimizer, train_data):\n\u001B[0;32m     37\u001B[0m     model\u001B[38;5;241m.\u001B[39mtrain()\n\u001B[1;32m---> 38\u001B[0m     z \u001B[38;5;241m=\u001B[39m model\u001B[38;5;241m.\u001B[39mencode(train_data\u001B[38;5;241m.\u001B[39mx, train_data\u001B[38;5;241m.\u001B[39medge_index)\n\u001B[0;32m     39\u001B[0m     optimizer\u001B[38;5;241m.\u001B[39mzero_grad()\n\u001B[0;32m     41\u001B[0m     edge_index \u001B[38;5;241m=\u001B[39m train_data\u001B[38;5;241m.\u001B[39medge_label_index\n",
      "File \u001B[1;32m~\\PycharmProjects\\ppi_link_pred_codes\\PPI-link-prediction-with-optimized-gcn-and-gan\\codes\\gcn.py:29\u001B[0m, in \u001B[0;36mGCNLinkPredictor.encode\u001B[1;34m(self, x, edge_index)\u001B[0m\n\u001B[0;32m     27\u001B[0m     x \u001B[38;5;241m=\u001B[39m F\u001B[38;5;241m.\u001B[39mrelu(x)\n\u001B[0;32m     28\u001B[0m     x \u001B[38;5;241m=\u001B[39m F\u001B[38;5;241m.\u001B[39mdropout(x, p\u001B[38;5;241m=\u001B[39m\u001B[38;5;28mself\u001B[39m\u001B[38;5;241m.\u001B[39mdropout, training\u001B[38;5;241m=\u001B[39m\u001B[38;5;28mself\u001B[39m\u001B[38;5;241m.\u001B[39mtraining)\n\u001B[1;32m---> 29\u001B[0m \u001B[38;5;28;01mreturn\u001B[39;00m \u001B[38;5;28mself\u001B[39m\u001B[38;5;241m.\u001B[39mlayers[\u001B[38;5;241m-\u001B[39m\u001B[38;5;241m1\u001B[39m](x, edge_index)\n",
      "File \u001B[1;32m~\\anaconda3\\Lib\\site-packages\\torch\\nn\\modules\\module.py:1751\u001B[0m, in \u001B[0;36mModule._wrapped_call_impl\u001B[1;34m(self, *args, **kwargs)\u001B[0m\n\u001B[0;32m   1749\u001B[0m     \u001B[38;5;28;01mreturn\u001B[39;00m \u001B[38;5;28mself\u001B[39m\u001B[38;5;241m.\u001B[39m_compiled_call_impl(\u001B[38;5;241m*\u001B[39margs, \u001B[38;5;241m*\u001B[39m\u001B[38;5;241m*\u001B[39mkwargs)  \u001B[38;5;66;03m# type: ignore[misc]\u001B[39;00m\n\u001B[0;32m   1750\u001B[0m \u001B[38;5;28;01melse\u001B[39;00m:\n\u001B[1;32m-> 1751\u001B[0m     \u001B[38;5;28;01mreturn\u001B[39;00m \u001B[38;5;28mself\u001B[39m\u001B[38;5;241m.\u001B[39m_call_impl(\u001B[38;5;241m*\u001B[39margs, \u001B[38;5;241m*\u001B[39m\u001B[38;5;241m*\u001B[39mkwargs)\n",
      "File \u001B[1;32m~\\anaconda3\\Lib\\site-packages\\torch\\nn\\modules\\module.py:1762\u001B[0m, in \u001B[0;36mModule._call_impl\u001B[1;34m(self, *args, **kwargs)\u001B[0m\n\u001B[0;32m   1757\u001B[0m \u001B[38;5;66;03m# If we don't have any hooks, we want to skip the rest of the logic in\u001B[39;00m\n\u001B[0;32m   1758\u001B[0m \u001B[38;5;66;03m# this function, and just call forward.\u001B[39;00m\n\u001B[0;32m   1759\u001B[0m \u001B[38;5;28;01mif\u001B[39;00m \u001B[38;5;129;01mnot\u001B[39;00m (\u001B[38;5;28mself\u001B[39m\u001B[38;5;241m.\u001B[39m_backward_hooks \u001B[38;5;129;01mor\u001B[39;00m \u001B[38;5;28mself\u001B[39m\u001B[38;5;241m.\u001B[39m_backward_pre_hooks \u001B[38;5;129;01mor\u001B[39;00m \u001B[38;5;28mself\u001B[39m\u001B[38;5;241m.\u001B[39m_forward_hooks \u001B[38;5;129;01mor\u001B[39;00m \u001B[38;5;28mself\u001B[39m\u001B[38;5;241m.\u001B[39m_forward_pre_hooks\n\u001B[0;32m   1760\u001B[0m         \u001B[38;5;129;01mor\u001B[39;00m _global_backward_pre_hooks \u001B[38;5;129;01mor\u001B[39;00m _global_backward_hooks\n\u001B[0;32m   1761\u001B[0m         \u001B[38;5;129;01mor\u001B[39;00m _global_forward_hooks \u001B[38;5;129;01mor\u001B[39;00m _global_forward_pre_hooks):\n\u001B[1;32m-> 1762\u001B[0m     \u001B[38;5;28;01mreturn\u001B[39;00m forward_call(\u001B[38;5;241m*\u001B[39margs, \u001B[38;5;241m*\u001B[39m\u001B[38;5;241m*\u001B[39mkwargs)\n\u001B[0;32m   1764\u001B[0m result \u001B[38;5;241m=\u001B[39m \u001B[38;5;28;01mNone\u001B[39;00m\n\u001B[0;32m   1765\u001B[0m called_always_called_hooks \u001B[38;5;241m=\u001B[39m \u001B[38;5;28mset\u001B[39m()\n",
      "File \u001B[1;32m~\\anaconda3\\Lib\\site-packages\\torch_geometric\\nn\\conv\\gcn_conv.py:263\u001B[0m, in \u001B[0;36mGCNConv.forward\u001B[1;34m(self, x, edge_index, edge_weight)\u001B[0m\n\u001B[0;32m    260\u001B[0m x \u001B[38;5;241m=\u001B[39m \u001B[38;5;28mself\u001B[39m\u001B[38;5;241m.\u001B[39mlin(x)\n\u001B[0;32m    262\u001B[0m \u001B[38;5;66;03m# propagate_type: (x: Tensor, edge_weight: OptTensor)\u001B[39;00m\n\u001B[1;32m--> 263\u001B[0m out \u001B[38;5;241m=\u001B[39m \u001B[38;5;28mself\u001B[39m\u001B[38;5;241m.\u001B[39mpropagate(edge_index, x\u001B[38;5;241m=\u001B[39mx, edge_weight\u001B[38;5;241m=\u001B[39medge_weight)\n\u001B[0;32m    265\u001B[0m \u001B[38;5;28;01mif\u001B[39;00m \u001B[38;5;28mself\u001B[39m\u001B[38;5;241m.\u001B[39mbias \u001B[38;5;129;01mis\u001B[39;00m \u001B[38;5;129;01mnot\u001B[39;00m \u001B[38;5;28;01mNone\u001B[39;00m:\n\u001B[0;32m    266\u001B[0m     out \u001B[38;5;241m=\u001B[39m out \u001B[38;5;241m+\u001B[39m \u001B[38;5;28mself\u001B[39m\u001B[38;5;241m.\u001B[39mbias\n",
      "File \u001B[1;32m~\\AppData\\Local\\Temp\\torch_geometric.nn.conv.gcn_conv_GCNConv_propagate_q8n6ys6x.py:245\u001B[0m, in \u001B[0;36mpropagate\u001B[1;34m(self, edge_index, x, edge_weight, size)\u001B[0m\n\u001B[0;32m    236\u001B[0m             kwargs \u001B[38;5;241m=\u001B[39m CollectArgs(\n\u001B[0;32m    237\u001B[0m                 x_j\u001B[38;5;241m=\u001B[39mkwargs\u001B[38;5;241m.\u001B[39mx_j,\n\u001B[0;32m    238\u001B[0m                 edge_weight\u001B[38;5;241m=\u001B[39mkwargs\u001B[38;5;241m.\u001B[39medge_weight,\n\u001B[1;32m   (...)\u001B[0m\n\u001B[0;32m    241\u001B[0m                 dim_size\u001B[38;5;241m=\u001B[39mhook_kwargs[\u001B[38;5;124m'\u001B[39m\u001B[38;5;124mdim_size\u001B[39m\u001B[38;5;124m'\u001B[39m],\n\u001B[0;32m    242\u001B[0m             )\n\u001B[0;32m    243\u001B[0m \u001B[38;5;66;03m# End Aggregate Forward Pre Hook #######################################\u001B[39;00m\n\u001B[1;32m--> 245\u001B[0m out \u001B[38;5;241m=\u001B[39m \u001B[38;5;28mself\u001B[39m\u001B[38;5;241m.\u001B[39maggregate(\n\u001B[0;32m    246\u001B[0m     out,\n\u001B[0;32m    247\u001B[0m     index\u001B[38;5;241m=\u001B[39mkwargs\u001B[38;5;241m.\u001B[39mindex,\n\u001B[0;32m    248\u001B[0m     ptr\u001B[38;5;241m=\u001B[39mkwargs\u001B[38;5;241m.\u001B[39mptr,\n\u001B[0;32m    249\u001B[0m     dim_size\u001B[38;5;241m=\u001B[39mkwargs\u001B[38;5;241m.\u001B[39mdim_size,\n\u001B[0;32m    250\u001B[0m )\n\u001B[0;32m    252\u001B[0m \u001B[38;5;66;03m# Begin Aggregate Forward Hook #########################################\u001B[39;00m\n\u001B[0;32m    253\u001B[0m \u001B[38;5;28;01mif\u001B[39;00m \u001B[38;5;129;01mnot\u001B[39;00m torch\u001B[38;5;241m.\u001B[39mjit\u001B[38;5;241m.\u001B[39mis_scripting() \u001B[38;5;129;01mand\u001B[39;00m \u001B[38;5;129;01mnot\u001B[39;00m is_compiling():\n",
      "File \u001B[1;32m~\\anaconda3\\Lib\\site-packages\\torch_geometric\\nn\\conv\\message_passing.py:594\u001B[0m, in \u001B[0;36mMessagePassing.aggregate\u001B[1;34m(self, inputs, index, ptr, dim_size)\u001B[0m\n\u001B[0;32m    577\u001B[0m \u001B[38;5;28;01mdef\u001B[39;00m \u001B[38;5;21maggregate\u001B[39m(\n\u001B[0;32m    578\u001B[0m     \u001B[38;5;28mself\u001B[39m,\n\u001B[0;32m    579\u001B[0m     inputs: Tensor,\n\u001B[1;32m   (...)\u001B[0m\n\u001B[0;32m    582\u001B[0m     dim_size: Optional[\u001B[38;5;28mint\u001B[39m] \u001B[38;5;241m=\u001B[39m \u001B[38;5;28;01mNone\u001B[39;00m,\n\u001B[0;32m    583\u001B[0m ) \u001B[38;5;241m-\u001B[39m\u001B[38;5;241m>\u001B[39m Tensor:\n\u001B[0;32m    584\u001B[0m \u001B[38;5;250m    \u001B[39m\u001B[38;5;124mr\u001B[39m\u001B[38;5;124;03m\"\"\"Aggregates messages from neighbors as\u001B[39;00m\n\u001B[0;32m    585\u001B[0m \u001B[38;5;124;03m    :math:`\\bigoplus_{j \\in \\mathcal{N}(i)}`.\u001B[39;00m\n\u001B[0;32m    586\u001B[0m \n\u001B[1;32m   (...)\u001B[0m\n\u001B[0;32m    592\u001B[0m \u001B[38;5;124;03m    as specified in :meth:`__init__` by the :obj:`aggr` argument.\u001B[39;00m\n\u001B[0;32m    593\u001B[0m \u001B[38;5;124;03m    \"\"\"\u001B[39;00m\n\u001B[1;32m--> 594\u001B[0m     \u001B[38;5;28;01mreturn\u001B[39;00m \u001B[38;5;28mself\u001B[39m\u001B[38;5;241m.\u001B[39maggr_module(inputs, index, ptr\u001B[38;5;241m=\u001B[39mptr, dim_size\u001B[38;5;241m=\u001B[39mdim_size,\n\u001B[0;32m    595\u001B[0m                             dim\u001B[38;5;241m=\u001B[39m\u001B[38;5;28mself\u001B[39m\u001B[38;5;241m.\u001B[39mnode_dim)\n",
      "File \u001B[1;32m~\\anaconda3\\Lib\\site-packages\\torch_geometric\\experimental.py:117\u001B[0m, in \u001B[0;36mdisable_dynamic_shapes.<locals>.decorator.<locals>.wrapper\u001B[1;34m(*args, **kwargs)\u001B[0m\n\u001B[0;32m    114\u001B[0m \u001B[38;5;129m@functools\u001B[39m\u001B[38;5;241m.\u001B[39mwraps(func)\n\u001B[0;32m    115\u001B[0m \u001B[38;5;28;01mdef\u001B[39;00m \u001B[38;5;21mwrapper\u001B[39m(\u001B[38;5;241m*\u001B[39margs: Any, \u001B[38;5;241m*\u001B[39m\u001B[38;5;241m*\u001B[39mkwargs: Any) \u001B[38;5;241m-\u001B[39m\u001B[38;5;241m>\u001B[39m Any:\n\u001B[0;32m    116\u001B[0m     \u001B[38;5;28;01mif\u001B[39;00m \u001B[38;5;129;01mnot\u001B[39;00m is_experimental_mode_enabled(\u001B[38;5;124m'\u001B[39m\u001B[38;5;124mdisable_dynamic_shapes\u001B[39m\u001B[38;5;124m'\u001B[39m):\n\u001B[1;32m--> 117\u001B[0m         \u001B[38;5;28;01mreturn\u001B[39;00m func(\u001B[38;5;241m*\u001B[39margs, \u001B[38;5;241m*\u001B[39m\u001B[38;5;241m*\u001B[39mkwargs)\n\u001B[0;32m    119\u001B[0m     \u001B[38;5;28;01mfor\u001B[39;00m required_arg \u001B[38;5;129;01min\u001B[39;00m required_args:\n\u001B[0;32m    120\u001B[0m         index \u001B[38;5;241m=\u001B[39m required_args_pos[required_arg]\n",
      "File \u001B[1;32m~\\anaconda3\\Lib\\site-packages\\torch_geometric\\nn\\aggr\\base.py:131\u001B[0m, in \u001B[0;36mAggregation.__call__\u001B[1;34m(self, x, index, ptr, dim_size, dim, **kwargs)\u001B[0m\n\u001B[0;32m    128\u001B[0m     dim_size \u001B[38;5;241m=\u001B[39m \u001B[38;5;28mint\u001B[39m(index\u001B[38;5;241m.\u001B[39mmax()) \u001B[38;5;241m+\u001B[39m \u001B[38;5;241m1\u001B[39m \u001B[38;5;28;01mif\u001B[39;00m index\u001B[38;5;241m.\u001B[39mnumel() \u001B[38;5;241m>\u001B[39m \u001B[38;5;241m0\u001B[39m \u001B[38;5;28;01melse\u001B[39;00m \u001B[38;5;241m0\u001B[39m\n\u001B[0;32m    130\u001B[0m \u001B[38;5;28;01mtry\u001B[39;00m:\n\u001B[1;32m--> 131\u001B[0m     \u001B[38;5;28;01mreturn\u001B[39;00m \u001B[38;5;28msuper\u001B[39m()\u001B[38;5;241m.\u001B[39m\u001B[38;5;21m__call__\u001B[39m(x, index\u001B[38;5;241m=\u001B[39mindex, ptr\u001B[38;5;241m=\u001B[39mptr, dim_size\u001B[38;5;241m=\u001B[39mdim_size,\n\u001B[0;32m    132\u001B[0m                             dim\u001B[38;5;241m=\u001B[39mdim, \u001B[38;5;241m*\u001B[39m\u001B[38;5;241m*\u001B[39mkwargs)\n\u001B[0;32m    133\u001B[0m \u001B[38;5;28;01mexcept\u001B[39;00m (\u001B[38;5;167;01mIndexError\u001B[39;00m, \u001B[38;5;167;01mRuntimeError\u001B[39;00m) \u001B[38;5;28;01mas\u001B[39;00m e:\n\u001B[0;32m    134\u001B[0m     \u001B[38;5;28;01mif\u001B[39;00m index \u001B[38;5;129;01mis\u001B[39;00m \u001B[38;5;129;01mnot\u001B[39;00m \u001B[38;5;28;01mNone\u001B[39;00m:\n",
      "File \u001B[1;32m~\\anaconda3\\Lib\\site-packages\\torch\\nn\\modules\\module.py:1751\u001B[0m, in \u001B[0;36mModule._wrapped_call_impl\u001B[1;34m(self, *args, **kwargs)\u001B[0m\n\u001B[0;32m   1749\u001B[0m     \u001B[38;5;28;01mreturn\u001B[39;00m \u001B[38;5;28mself\u001B[39m\u001B[38;5;241m.\u001B[39m_compiled_call_impl(\u001B[38;5;241m*\u001B[39margs, \u001B[38;5;241m*\u001B[39m\u001B[38;5;241m*\u001B[39mkwargs)  \u001B[38;5;66;03m# type: ignore[misc]\u001B[39;00m\n\u001B[0;32m   1750\u001B[0m \u001B[38;5;28;01melse\u001B[39;00m:\n\u001B[1;32m-> 1751\u001B[0m     \u001B[38;5;28;01mreturn\u001B[39;00m \u001B[38;5;28mself\u001B[39m\u001B[38;5;241m.\u001B[39m_call_impl(\u001B[38;5;241m*\u001B[39margs, \u001B[38;5;241m*\u001B[39m\u001B[38;5;241m*\u001B[39mkwargs)\n",
      "File \u001B[1;32m~\\anaconda3\\Lib\\site-packages\\torch\\nn\\modules\\module.py:1762\u001B[0m, in \u001B[0;36mModule._call_impl\u001B[1;34m(self, *args, **kwargs)\u001B[0m\n\u001B[0;32m   1757\u001B[0m \u001B[38;5;66;03m# If we don't have any hooks, we want to skip the rest of the logic in\u001B[39;00m\n\u001B[0;32m   1758\u001B[0m \u001B[38;5;66;03m# this function, and just call forward.\u001B[39;00m\n\u001B[0;32m   1759\u001B[0m \u001B[38;5;28;01mif\u001B[39;00m \u001B[38;5;129;01mnot\u001B[39;00m (\u001B[38;5;28mself\u001B[39m\u001B[38;5;241m.\u001B[39m_backward_hooks \u001B[38;5;129;01mor\u001B[39;00m \u001B[38;5;28mself\u001B[39m\u001B[38;5;241m.\u001B[39m_backward_pre_hooks \u001B[38;5;129;01mor\u001B[39;00m \u001B[38;5;28mself\u001B[39m\u001B[38;5;241m.\u001B[39m_forward_hooks \u001B[38;5;129;01mor\u001B[39;00m \u001B[38;5;28mself\u001B[39m\u001B[38;5;241m.\u001B[39m_forward_pre_hooks\n\u001B[0;32m   1760\u001B[0m         \u001B[38;5;129;01mor\u001B[39;00m _global_backward_pre_hooks \u001B[38;5;129;01mor\u001B[39;00m _global_backward_hooks\n\u001B[0;32m   1761\u001B[0m         \u001B[38;5;129;01mor\u001B[39;00m _global_forward_hooks \u001B[38;5;129;01mor\u001B[39;00m _global_forward_pre_hooks):\n\u001B[1;32m-> 1762\u001B[0m     \u001B[38;5;28;01mreturn\u001B[39;00m forward_call(\u001B[38;5;241m*\u001B[39margs, \u001B[38;5;241m*\u001B[39m\u001B[38;5;241m*\u001B[39mkwargs)\n\u001B[0;32m   1764\u001B[0m result \u001B[38;5;241m=\u001B[39m \u001B[38;5;28;01mNone\u001B[39;00m\n\u001B[0;32m   1765\u001B[0m called_always_called_hooks \u001B[38;5;241m=\u001B[39m \u001B[38;5;28mset\u001B[39m()\n",
      "File \u001B[1;32m~\\anaconda3\\Lib\\site-packages\\torch_geometric\\nn\\aggr\\basic.py:22\u001B[0m, in \u001B[0;36mSumAggregation.forward\u001B[1;34m(self, x, index, ptr, dim_size, dim)\u001B[0m\n\u001B[0;32m     19\u001B[0m \u001B[38;5;28;01mdef\u001B[39;00m \u001B[38;5;21mforward\u001B[39m(\u001B[38;5;28mself\u001B[39m, x: Tensor, index: Optional[Tensor] \u001B[38;5;241m=\u001B[39m \u001B[38;5;28;01mNone\u001B[39;00m,\n\u001B[0;32m     20\u001B[0m             ptr: Optional[Tensor] \u001B[38;5;241m=\u001B[39m \u001B[38;5;28;01mNone\u001B[39;00m, dim_size: Optional[\u001B[38;5;28mint\u001B[39m] \u001B[38;5;241m=\u001B[39m \u001B[38;5;28;01mNone\u001B[39;00m,\n\u001B[0;32m     21\u001B[0m             dim: \u001B[38;5;28mint\u001B[39m \u001B[38;5;241m=\u001B[39m \u001B[38;5;241m-\u001B[39m\u001B[38;5;241m2\u001B[39m) \u001B[38;5;241m-\u001B[39m\u001B[38;5;241m>\u001B[39m Tensor:\n\u001B[1;32m---> 22\u001B[0m     \u001B[38;5;28;01mreturn\u001B[39;00m \u001B[38;5;28mself\u001B[39m\u001B[38;5;241m.\u001B[39mreduce(x, index, ptr, dim_size, dim, reduce\u001B[38;5;241m=\u001B[39m\u001B[38;5;124m'\u001B[39m\u001B[38;5;124msum\u001B[39m\u001B[38;5;124m'\u001B[39m)\n",
      "File \u001B[1;32m~\\anaconda3\\Lib\\site-packages\\torch_geometric\\nn\\aggr\\base.py:185\u001B[0m, in \u001B[0;36mAggregation.reduce\u001B[1;34m(self, x, index, ptr, dim_size, dim, reduce)\u001B[0m\n\u001B[0;32m    182\u001B[0m \u001B[38;5;28;01mif\u001B[39;00m index \u001B[38;5;129;01mis\u001B[39;00m \u001B[38;5;28;01mNone\u001B[39;00m:\n\u001B[0;32m    183\u001B[0m     \u001B[38;5;28;01mraise\u001B[39;00m \u001B[38;5;167;01mRuntimeError\u001B[39;00m(\u001B[38;5;124m\"\u001B[39m\u001B[38;5;124mAggregation requires \u001B[39m\u001B[38;5;124m'\u001B[39m\u001B[38;5;124mindex\u001B[39m\u001B[38;5;124m'\u001B[39m\u001B[38;5;124m to be specified\u001B[39m\u001B[38;5;124m\"\u001B[39m)\n\u001B[1;32m--> 185\u001B[0m \u001B[38;5;28;01mreturn\u001B[39;00m scatter(x, index, dim, dim_size, reduce)\n",
      "File \u001B[1;32m~\\anaconda3\\Lib\\site-packages\\torch_geometric\\utils\\_scatter.py:75\u001B[0m, in \u001B[0;36mscatter\u001B[1;34m(src, index, dim, dim_size, reduce)\u001B[0m\n\u001B[0;32m     73\u001B[0m \u001B[38;5;28;01mif\u001B[39;00m reduce \u001B[38;5;241m==\u001B[39m \u001B[38;5;124m'\u001B[39m\u001B[38;5;124msum\u001B[39m\u001B[38;5;124m'\u001B[39m \u001B[38;5;129;01mor\u001B[39;00m reduce \u001B[38;5;241m==\u001B[39m \u001B[38;5;124m'\u001B[39m\u001B[38;5;124madd\u001B[39m\u001B[38;5;124m'\u001B[39m:\n\u001B[0;32m     74\u001B[0m     index \u001B[38;5;241m=\u001B[39m broadcast(index, src, dim)\n\u001B[1;32m---> 75\u001B[0m     \u001B[38;5;28;01mreturn\u001B[39;00m src\u001B[38;5;241m.\u001B[39mnew_zeros(size)\u001B[38;5;241m.\u001B[39mscatter_add_(dim, index, src)\n\u001B[0;32m     77\u001B[0m \u001B[38;5;28;01mif\u001B[39;00m reduce \u001B[38;5;241m==\u001B[39m \u001B[38;5;124m'\u001B[39m\u001B[38;5;124mmean\u001B[39m\u001B[38;5;124m'\u001B[39m:\n\u001B[0;32m     78\u001B[0m     count \u001B[38;5;241m=\u001B[39m src\u001B[38;5;241m.\u001B[39mnew_zeros(dim_size)\n",
      "\u001B[1;31mKeyboardInterrupt\u001B[0m: "
     ]
    }
   ],
   "execution_count": 5
  },
  {
   "metadata": {},
   "cell_type": "markdown",
   "source": "## GAN",
   "id": "ddcf1955cdc81503"
  },
  {
   "metadata": {
    "ExecuteTime": {
     "start_time": "2025-06-22T18:15:29.539699Z"
    }
   },
   "cell_type": "code",
   "source": [
    "result = run_gan_ga()\n",
    "\n",
    "print(\"\\nBest Hyperparameters Found:\")\n",
    "print(f\"  Hidden Channels : {result['best_params']['hidden_channels']}\")\n",
    "print(f\"  Learning Rate   : {result['best_params']['lr']:.5f}\")\n",
    "print(f\"  Dropout         : {result['best_params']['dropout']:.2f}\")\n",
    "\n",
    "print(\"\\nPerformance Metrics:\")\n",
    "print(f\"  F1 Score        : {result['f1']:.4f}\")\n",
    "print(f\"  AUC             : {result['auc']:.4f}\")\n",
    "print(f\"  Average Loss    : {result['loss']:.4f}\")\n",
    "print(f\"  NDCG            : {result['ndcg']:.4f}\")"
   ],
   "id": "f6f5350983471294",
   "outputs": [],
   "execution_count": null
  },
  {
   "metadata": {},
   "cell_type": "markdown",
   "source": "# Results after optimization with Particle Swarm Optimization",
   "id": "b391a2e7cc9e3c8b"
  },
  {
   "metadata": {},
   "cell_type": "markdown",
   "source": "## GCN",
   "id": "21300a69e07f8049"
  },
  {
   "metadata": {
    "ExecuteTime": {
     "end_time": "2025-06-22T18:12:30.677319Z",
     "start_time": "2025-06-22T18:12:29.749751Z"
    }
   },
   "cell_type": "code",
   "source": [
    "result = run_gcn_pso()\n",
    "\n",
    "print(\"\\nBest Hyperparameters Found:\")\n",
    "print(f\"  Hidden Channels : {result['best_params']['hidden_channels']}\")\n",
    "print(f\"  Learning Rate   : {result['best_params']['lr']:.5f}\")\n",
    "print(f\"  Num Layers      : {result['best_params']['num_layers']}\")\n",
    "print(f\"  Dropout         : {result['best_params']['dropout']:.2f}\")\n",
    "\n",
    "print(\"\\nPerformance Metrics:\")\n",
    "print(f\"  F1 Score        : {result['f1']:.4f}\")\n",
    "print(f\"  AUC             : {result['auc']:.4f}\")\n",
    "print(f\"  Average Loss    : {result['loss']:.4f}\")\n",
    "print(f\"  NDCG            : {result['ndcg']:.4f}\")"
   ],
   "id": "32dfaf51b70af8ce",
   "outputs": [
    {
     "ename": "KeyboardInterrupt",
     "evalue": "",
     "output_type": "error",
     "traceback": [
      "\u001B[1;31m---------------------------------------------------------------------------\u001B[0m",
      "\u001B[1;31mKeyboardInterrupt\u001B[0m                         Traceback (most recent call last)",
      "Cell \u001B[1;32mIn[13], line 1\u001B[0m\n\u001B[1;32m----> 1\u001B[0m result \u001B[38;5;241m=\u001B[39m run_gcn_pso()\n\u001B[0;32m      3\u001B[0m \u001B[38;5;28mprint\u001B[39m(\u001B[38;5;124m\"\u001B[39m\u001B[38;5;130;01m\\n\u001B[39;00m\u001B[38;5;124mBest Hyperparameters Found:\u001B[39m\u001B[38;5;124m\"\u001B[39m)\n\u001B[0;32m      4\u001B[0m \u001B[38;5;28mprint\u001B[39m(\u001B[38;5;124mf\u001B[39m\u001B[38;5;124m\"\u001B[39m\u001B[38;5;124m  Hidden Channels : \u001B[39m\u001B[38;5;132;01m{\u001B[39;00mresult[\u001B[38;5;124m'\u001B[39m\u001B[38;5;124mbest_params\u001B[39m\u001B[38;5;124m'\u001B[39m][\u001B[38;5;124m'\u001B[39m\u001B[38;5;124mhidden_channels\u001B[39m\u001B[38;5;124m'\u001B[39m]\u001B[38;5;132;01m}\u001B[39;00m\u001B[38;5;124m\"\u001B[39m)\n",
      "File \u001B[1;32m~\\PycharmProjects\\ppi_link_pred_codes\\PPI-link-prediction-with-optimized-gcn-and-gan\\codes\\optimizers_niapy.py:93\u001B[0m, in \u001B[0;36mrun_gcn_pso\u001B[1;34m()\u001B[0m\n\u001B[0;32m     84\u001B[0m task \u001B[38;5;241m=\u001B[39m Task(problem\u001B[38;5;241m=\u001B[39mproblem, max_evals\u001B[38;5;241m=\u001B[39m\u001B[38;5;241m30\u001B[39m)\n\u001B[0;32m     86\u001B[0m algo \u001B[38;5;241m=\u001B[39m ParticleSwarmOptimization(\n\u001B[0;32m     87\u001B[0m     population_size\u001B[38;5;241m=\u001B[39m\u001B[38;5;241m10\u001B[39m,\n\u001B[0;32m     88\u001B[0m     c1\u001B[38;5;241m=\u001B[39m\u001B[38;5;241m2.0\u001B[39m,\n\u001B[0;32m     89\u001B[0m     c2\u001B[38;5;241m=\u001B[39m\u001B[38;5;241m2.0\u001B[39m,\n\u001B[0;32m     90\u001B[0m     w\u001B[38;5;241m=\u001B[39m\u001B[38;5;241m0.7\u001B[39m\n\u001B[0;32m     91\u001B[0m )\n\u001B[1;32m---> 93\u001B[0m best_solution, best_score \u001B[38;5;241m=\u001B[39m algo\u001B[38;5;241m.\u001B[39mrun(task)\n\u001B[0;32m     95\u001B[0m \u001B[38;5;28;01mreturn\u001B[39;00m {\n\u001B[0;32m     96\u001B[0m     \u001B[38;5;124m\"\u001B[39m\u001B[38;5;124mbest_params\u001B[39m\u001B[38;5;124m\"\u001B[39m: {\n\u001B[0;32m     97\u001B[0m         \u001B[38;5;124m\"\u001B[39m\u001B[38;5;124mhidden_channels\u001B[39m\u001B[38;5;124m\"\u001B[39m: \u001B[38;5;28mint\u001B[39m(best_solution[\u001B[38;5;241m0\u001B[39m]),\n\u001B[1;32m   (...)\u001B[0m\n\u001B[0;32m    105\u001B[0m     \u001B[38;5;124m\"\u001B[39m\u001B[38;5;124mndcg\u001B[39m\u001B[38;5;124m\"\u001B[39m: problem\u001B[38;5;241m.\u001B[39mlast_ndcg\n\u001B[0;32m    106\u001B[0m }\n",
      "File \u001B[1;32m~\\anaconda3\\Lib\\site-packages\\niapy\\algorithms\\algorithm.py:321\u001B[0m, in \u001B[0;36mAlgorithm.run\u001B[1;34m(self, task)\u001B[0m\n\u001B[0;32m    319\u001B[0m \u001B[38;5;28;01mexcept\u001B[39;00m \u001B[38;5;167;01mBaseException\u001B[39;00m \u001B[38;5;28;01mas\u001B[39;00m e:\n\u001B[0;32m    320\u001B[0m     \u001B[38;5;28;01mif\u001B[39;00m threading\u001B[38;5;241m.\u001B[39mcurrent_thread() \u001B[38;5;129;01mis\u001B[39;00m threading\u001B[38;5;241m.\u001B[39mmain_thread() \u001B[38;5;129;01mand\u001B[39;00m multiprocessing\u001B[38;5;241m.\u001B[39mcurrent_process()\u001B[38;5;241m.\u001B[39mname \u001B[38;5;241m==\u001B[39m \u001B[38;5;124m'\u001B[39m\u001B[38;5;124mMainProcess\u001B[39m\u001B[38;5;124m'\u001B[39m:\n\u001B[1;32m--> 321\u001B[0m         \u001B[38;5;28;01mraise\u001B[39;00m e\n\u001B[0;32m    322\u001B[0m     \u001B[38;5;28mself\u001B[39m\u001B[38;5;241m.\u001B[39mexception \u001B[38;5;241m=\u001B[39m e\n\u001B[0;32m    323\u001B[0m     \u001B[38;5;28;01mreturn\u001B[39;00m \u001B[38;5;28;01mNone\u001B[39;00m, \u001B[38;5;28;01mNone\u001B[39;00m\n",
      "File \u001B[1;32m~\\anaconda3\\Lib\\site-packages\\niapy\\algorithms\\algorithm.py:310\u001B[0m, in \u001B[0;36mAlgorithm.run\u001B[1;34m(self, task)\u001B[0m\n\u001B[0;32m    308\u001B[0m \u001B[38;5;28;01mtry\u001B[39;00m:\n\u001B[0;32m    309\u001B[0m     \u001B[38;5;28mself\u001B[39m\u001B[38;5;241m.\u001B[39mcallbacks\u001B[38;5;241m.\u001B[39mbefore_run()\n\u001B[1;32m--> 310\u001B[0m     pop, fpop, params \u001B[38;5;241m=\u001B[39m \u001B[38;5;28mself\u001B[39m\u001B[38;5;241m.\u001B[39minit_population(task)\n\u001B[0;32m    311\u001B[0m     xb, fxb \u001B[38;5;241m=\u001B[39m \u001B[38;5;28mself\u001B[39m\u001B[38;5;241m.\u001B[39mget_best(pop, fpop)\n\u001B[0;32m    312\u001B[0m     \u001B[38;5;28;01mwhile\u001B[39;00m \u001B[38;5;129;01mnot\u001B[39;00m task\u001B[38;5;241m.\u001B[39mstopping_condition():\n",
      "File \u001B[1;32m~\\anaconda3\\Lib\\site-packages\\niapy\\algorithms\\basic\\pso.py:185\u001B[0m, in \u001B[0;36mParticleSwarmAlgorithm.init_population\u001B[1;34m(self, task)\u001B[0m\n\u001B[0;32m    162\u001B[0m \u001B[38;5;28;01mdef\u001B[39;00m \u001B[38;5;21minit_population\u001B[39m(\u001B[38;5;28mself\u001B[39m, task):\n\u001B[0;32m    163\u001B[0m \u001B[38;5;250m    \u001B[39m\u001B[38;5;124mr\u001B[39m\u001B[38;5;124;03m\"\"\"Initialize population and dynamic arguments of the Particle Swarm Optimization algorithm.\u001B[39;00m\n\u001B[0;32m    164\u001B[0m \n\u001B[0;32m    165\u001B[0m \u001B[38;5;124;03m    Args:\u001B[39;00m\n\u001B[1;32m   (...)\u001B[0m\n\u001B[0;32m    183\u001B[0m \n\u001B[0;32m    184\u001B[0m \u001B[38;5;124;03m    \"\"\"\u001B[39;00m\n\u001B[1;32m--> 185\u001B[0m     pop, fpop, d \u001B[38;5;241m=\u001B[39m \u001B[38;5;28msuper\u001B[39m()\u001B[38;5;241m.\u001B[39minit_population(task)\n\u001B[0;32m    186\u001B[0m     d\u001B[38;5;241m.\u001B[39mupdate(\u001B[38;5;28mself\u001B[39m\u001B[38;5;241m.\u001B[39minit(task))\n\u001B[0;32m    187\u001B[0m     d\u001B[38;5;241m.\u001B[39mupdate({\u001B[38;5;124m'\u001B[39m\u001B[38;5;124mpersonal_best\u001B[39m\u001B[38;5;124m'\u001B[39m: pop\u001B[38;5;241m.\u001B[39mcopy(), \u001B[38;5;124m'\u001B[39m\u001B[38;5;124mpersonal_best_fitness\u001B[39m\u001B[38;5;124m'\u001B[39m: fpop\u001B[38;5;241m.\u001B[39mcopy()})\n",
      "File \u001B[1;32m~\\anaconda3\\Lib\\site-packages\\niapy\\algorithms\\algorithm.py:262\u001B[0m, in \u001B[0;36mAlgorithm.init_population\u001B[1;34m(self, task)\u001B[0m\n\u001B[0;32m    246\u001B[0m \u001B[38;5;28;01mdef\u001B[39;00m \u001B[38;5;21minit_population\u001B[39m(\u001B[38;5;28mself\u001B[39m, task):\n\u001B[0;32m    247\u001B[0m \u001B[38;5;250m    \u001B[39m\u001B[38;5;124mr\u001B[39m\u001B[38;5;124;03m\"\"\"Initialize starting population of optimization algorithm.\u001B[39;00m\n\u001B[0;32m    248\u001B[0m \n\u001B[0;32m    249\u001B[0m \u001B[38;5;124;03m    Args:\u001B[39;00m\n\u001B[1;32m   (...)\u001B[0m\n\u001B[0;32m    260\u001B[0m \n\u001B[0;32m    261\u001B[0m \u001B[38;5;124;03m    \"\"\"\u001B[39;00m\n\u001B[1;32m--> 262\u001B[0m     pop, fpop \u001B[38;5;241m=\u001B[39m \u001B[38;5;28mself\u001B[39m\u001B[38;5;241m.\u001B[39minitialization_function(task\u001B[38;5;241m=\u001B[39mtask, population_size\u001B[38;5;241m=\u001B[39m\u001B[38;5;28mself\u001B[39m\u001B[38;5;241m.\u001B[39mpopulation_size, rng\u001B[38;5;241m=\u001B[39m\u001B[38;5;28mself\u001B[39m\u001B[38;5;241m.\u001B[39mrng,\n\u001B[0;32m    263\u001B[0m                                              individual_type\u001B[38;5;241m=\u001B[39m\u001B[38;5;28mself\u001B[39m\u001B[38;5;241m.\u001B[39mindividual_type)\n\u001B[0;32m    264\u001B[0m     \u001B[38;5;28;01mreturn\u001B[39;00m pop, fpop, {}\n",
      "File \u001B[1;32m~\\anaconda3\\Lib\\site-packages\\niapy\\algorithms\\algorithm.py:39\u001B[0m, in \u001B[0;36mdefault_numpy_init\u001B[1;34m(task, population_size, rng, **_kwargs)\u001B[0m\n\u001B[0;32m     25\u001B[0m \u001B[38;5;250m\u001B[39m\u001B[38;5;124mr\u001B[39m\u001B[38;5;124;03m\"\"\"Initialize starting population that is represented with `numpy.ndarray` with shape `(population_size, task.dimension)`.\u001B[39;00m\n\u001B[0;32m     26\u001B[0m \n\u001B[0;32m     27\u001B[0m \u001B[38;5;124;03mArgs:\u001B[39;00m\n\u001B[1;32m   (...)\u001B[0m\n\u001B[0;32m     36\u001B[0m \n\u001B[0;32m     37\u001B[0m \u001B[38;5;124;03m\"\"\"\u001B[39;00m\n\u001B[0;32m     38\u001B[0m pop \u001B[38;5;241m=\u001B[39m rng\u001B[38;5;241m.\u001B[39muniform(task\u001B[38;5;241m.\u001B[39mlower, task\u001B[38;5;241m.\u001B[39mupper, (population_size, task\u001B[38;5;241m.\u001B[39mdimension))\n\u001B[1;32m---> 39\u001B[0m fpop \u001B[38;5;241m=\u001B[39m np\u001B[38;5;241m.\u001B[39mapply_along_axis(task\u001B[38;5;241m.\u001B[39meval, \u001B[38;5;241m1\u001B[39m, pop)\n\u001B[0;32m     40\u001B[0m \u001B[38;5;28;01mreturn\u001B[39;00m pop, fpop\n",
      "File \u001B[1;32m~\\anaconda3\\Lib\\site-packages\\numpy\\lib\\shape_base.py:379\u001B[0m, in \u001B[0;36mapply_along_axis\u001B[1;34m(func1d, axis, arr, *args, **kwargs)\u001B[0m\n\u001B[0;32m    375\u001B[0m \u001B[38;5;28;01mexcept\u001B[39;00m \u001B[38;5;167;01mStopIteration\u001B[39;00m:\n\u001B[0;32m    376\u001B[0m     \u001B[38;5;28;01mraise\u001B[39;00m \u001B[38;5;167;01mValueError\u001B[39;00m(\n\u001B[0;32m    377\u001B[0m         \u001B[38;5;124m'\u001B[39m\u001B[38;5;124mCannot apply_along_axis when any iteration dimensions are 0\u001B[39m\u001B[38;5;124m'\u001B[39m\n\u001B[0;32m    378\u001B[0m     ) \u001B[38;5;28;01mfrom\u001B[39;00m \u001B[38;5;28;01mNone\u001B[39;00m\n\u001B[1;32m--> 379\u001B[0m res \u001B[38;5;241m=\u001B[39m asanyarray(func1d(inarr_view[ind0], \u001B[38;5;241m*\u001B[39margs, \u001B[38;5;241m*\u001B[39m\u001B[38;5;241m*\u001B[39mkwargs))\n\u001B[0;32m    381\u001B[0m \u001B[38;5;66;03m# build a buffer for storing evaluations of func1d.\u001B[39;00m\n\u001B[0;32m    382\u001B[0m \u001B[38;5;66;03m# remove the requested axis, and add the new ones on the end.\u001B[39;00m\n\u001B[0;32m    383\u001B[0m \u001B[38;5;66;03m# laid out so that each write is contiguous.\u001B[39;00m\n\u001B[0;32m    384\u001B[0m \u001B[38;5;66;03m# for a tuple index inds, buff[inds] = func1d(inarr_view[inds])\u001B[39;00m\n\u001B[0;32m    385\u001B[0m buff \u001B[38;5;241m=\u001B[39m zeros(inarr_view\u001B[38;5;241m.\u001B[39mshape[:\u001B[38;5;241m-\u001B[39m\u001B[38;5;241m1\u001B[39m] \u001B[38;5;241m+\u001B[39m res\u001B[38;5;241m.\u001B[39mshape, res\u001B[38;5;241m.\u001B[39mdtype)\n",
      "File \u001B[1;32m~\\anaconda3\\Lib\\site-packages\\niapy\\task.py:145\u001B[0m, in \u001B[0;36mTask.eval\u001B[1;34m(self, x)\u001B[0m\n\u001B[0;32m    142\u001B[0m     \u001B[38;5;28;01mreturn\u001B[39;00m np\u001B[38;5;241m.\u001B[39minf\n\u001B[0;32m    144\u001B[0m \u001B[38;5;28mself\u001B[39m\u001B[38;5;241m.\u001B[39mevals \u001B[38;5;241m+\u001B[39m\u001B[38;5;241m=\u001B[39m \u001B[38;5;241m1\u001B[39m\n\u001B[1;32m--> 145\u001B[0m x_f \u001B[38;5;241m=\u001B[39m \u001B[38;5;28mself\u001B[39m\u001B[38;5;241m.\u001B[39mproblem\u001B[38;5;241m.\u001B[39mevaluate(x) \u001B[38;5;241m*\u001B[39m \u001B[38;5;28mself\u001B[39m\u001B[38;5;241m.\u001B[39moptimization_type\u001B[38;5;241m.\u001B[39mvalue\n\u001B[0;32m    147\u001B[0m \u001B[38;5;28;01mif\u001B[39;00m x_f \u001B[38;5;241m<\u001B[39m \u001B[38;5;28mself\u001B[39m\u001B[38;5;241m.\u001B[39mx_f \u001B[38;5;241m*\u001B[39m \u001B[38;5;28mself\u001B[39m\u001B[38;5;241m.\u001B[39moptimization_type\u001B[38;5;241m.\u001B[39mvalue:\n\u001B[0;32m    148\u001B[0m     \u001B[38;5;28mself\u001B[39m\u001B[38;5;241m.\u001B[39mx_f \u001B[38;5;241m=\u001B[39m x_f \u001B[38;5;241m*\u001B[39m \u001B[38;5;28mself\u001B[39m\u001B[38;5;241m.\u001B[39moptimization_type\u001B[38;5;241m.\u001B[39mvalue\n",
      "File \u001B[1;32m~\\anaconda3\\Lib\\site-packages\\niapy\\problems\\problem.py:57\u001B[0m, in \u001B[0;36mProblem.evaluate\u001B[1;34m(self, x)\u001B[0m\n\u001B[0;32m     54\u001B[0m \u001B[38;5;28;01mif\u001B[39;00m x\u001B[38;5;241m.\u001B[39mshape[\u001B[38;5;241m0\u001B[39m] \u001B[38;5;241m!=\u001B[39m \u001B[38;5;28mself\u001B[39m\u001B[38;5;241m.\u001B[39mdimension:\n\u001B[0;32m     55\u001B[0m     \u001B[38;5;28;01mraise\u001B[39;00m \u001B[38;5;167;01mValueError\u001B[39;00m(\u001B[38;5;124m'\u001B[39m\u001B[38;5;124mDimensions do not match. \u001B[39m\u001B[38;5;132;01m{}\u001B[39;00m\u001B[38;5;124m != \u001B[39m\u001B[38;5;132;01m{}\u001B[39;00m\u001B[38;5;124m'\u001B[39m\u001B[38;5;241m.\u001B[39mformat(x\u001B[38;5;241m.\u001B[39mshape[\u001B[38;5;241m0\u001B[39m], \u001B[38;5;28mself\u001B[39m\u001B[38;5;241m.\u001B[39mdimension))\n\u001B[1;32m---> 57\u001B[0m \u001B[38;5;28;01mreturn\u001B[39;00m \u001B[38;5;28mself\u001B[39m\u001B[38;5;241m.\u001B[39m_evaluate(x)\n",
      "File \u001B[1;32m~\\PycharmProjects\\ppi_link_pred_codes\\PPI-link-prediction-with-optimized-gcn-and-gan\\codes\\optimizers_niapy.py:40\u001B[0m, in \u001B[0;36mGCNHyperparameterProblem._evaluate\u001B[1;34m(self, x)\u001B[0m\n\u001B[0;32m     38\u001B[0m total_loss \u001B[38;5;241m=\u001B[39m \u001B[38;5;241m0\u001B[39m\n\u001B[0;32m     39\u001B[0m \u001B[38;5;28;01mfor\u001B[39;00m epoch \u001B[38;5;129;01min\u001B[39;00m \u001B[38;5;28mrange\u001B[39m(\u001B[38;5;241m10\u001B[39m):\n\u001B[1;32m---> 40\u001B[0m     loss \u001B[38;5;241m=\u001B[39m GCNtrain(model, optimizer, train_data)\n\u001B[0;32m     41\u001B[0m     total_loss \u001B[38;5;241m+\u001B[39m\u001B[38;5;241m=\u001B[39m loss\n\u001B[0;32m     43\u001B[0m test_probs \u001B[38;5;241m=\u001B[39m GCNtest(model, test_data)\n",
      "File \u001B[1;32m~\\PycharmProjects\\ppi_link_pred_codes\\PPI-link-prediction-with-optimized-gcn-and-gan\\codes\\gcn.py:53\u001B[0m, in \u001B[0;36mGCNtrain\u001B[1;34m(model, optimizer, train_data)\u001B[0m\n\u001B[0;32m      0\u001B[0m <Error retrieving source code with stack_data see ipython/ipython#13598>\n",
      "File \u001B[1;32m~\\anaconda3\\Lib\\site-packages\\torch\\_tensor.py:648\u001B[0m, in \u001B[0;36mTensor.backward\u001B[1;34m(self, gradient, retain_graph, create_graph, inputs)\u001B[0m\n\u001B[0;32m    638\u001B[0m \u001B[38;5;28;01mif\u001B[39;00m has_torch_function_unary(\u001B[38;5;28mself\u001B[39m):\n\u001B[0;32m    639\u001B[0m     \u001B[38;5;28;01mreturn\u001B[39;00m handle_torch_function(\n\u001B[0;32m    640\u001B[0m         Tensor\u001B[38;5;241m.\u001B[39mbackward,\n\u001B[0;32m    641\u001B[0m         (\u001B[38;5;28mself\u001B[39m,),\n\u001B[1;32m   (...)\u001B[0m\n\u001B[0;32m    646\u001B[0m         inputs\u001B[38;5;241m=\u001B[39minputs,\n\u001B[0;32m    647\u001B[0m     )\n\u001B[1;32m--> 648\u001B[0m torch\u001B[38;5;241m.\u001B[39mautograd\u001B[38;5;241m.\u001B[39mbackward(\n\u001B[0;32m    649\u001B[0m     \u001B[38;5;28mself\u001B[39m, gradient, retain_graph, create_graph, inputs\u001B[38;5;241m=\u001B[39minputs\n\u001B[0;32m    650\u001B[0m )\n",
      "File \u001B[1;32m~\\anaconda3\\Lib\\site-packages\\torch\\autograd\\__init__.py:353\u001B[0m, in \u001B[0;36mbackward\u001B[1;34m(tensors, grad_tensors, retain_graph, create_graph, grad_variables, inputs)\u001B[0m\n\u001B[0;32m    348\u001B[0m     retain_graph \u001B[38;5;241m=\u001B[39m create_graph\n\u001B[0;32m    350\u001B[0m \u001B[38;5;66;03m# The reason we repeat the same comment below is that\u001B[39;00m\n\u001B[0;32m    351\u001B[0m \u001B[38;5;66;03m# some Python versions print out the first line of a multi-line function\u001B[39;00m\n\u001B[0;32m    352\u001B[0m \u001B[38;5;66;03m# calls in the traceback and some print out the last line\u001B[39;00m\n\u001B[1;32m--> 353\u001B[0m _engine_run_backward(\n\u001B[0;32m    354\u001B[0m     tensors,\n\u001B[0;32m    355\u001B[0m     grad_tensors_,\n\u001B[0;32m    356\u001B[0m     retain_graph,\n\u001B[0;32m    357\u001B[0m     create_graph,\n\u001B[0;32m    358\u001B[0m     inputs,\n\u001B[0;32m    359\u001B[0m     allow_unreachable\u001B[38;5;241m=\u001B[39m\u001B[38;5;28;01mTrue\u001B[39;00m,\n\u001B[0;32m    360\u001B[0m     accumulate_grad\u001B[38;5;241m=\u001B[39m\u001B[38;5;28;01mTrue\u001B[39;00m,\n\u001B[0;32m    361\u001B[0m )\n",
      "File \u001B[1;32m~\\anaconda3\\Lib\\site-packages\\torch\\autograd\\graph.py:824\u001B[0m, in \u001B[0;36m_engine_run_backward\u001B[1;34m(t_outputs, *args, **kwargs)\u001B[0m\n\u001B[0;32m    822\u001B[0m     unregister_hooks \u001B[38;5;241m=\u001B[39m _register_logging_hooks_on_whole_graph(t_outputs)\n\u001B[0;32m    823\u001B[0m \u001B[38;5;28;01mtry\u001B[39;00m:\n\u001B[1;32m--> 824\u001B[0m     \u001B[38;5;28;01mreturn\u001B[39;00m Variable\u001B[38;5;241m.\u001B[39m_execution_engine\u001B[38;5;241m.\u001B[39mrun_backward(  \u001B[38;5;66;03m# Calls into the C++ engine to run the backward pass\u001B[39;00m\n\u001B[0;32m    825\u001B[0m         t_outputs, \u001B[38;5;241m*\u001B[39margs, \u001B[38;5;241m*\u001B[39m\u001B[38;5;241m*\u001B[39mkwargs\n\u001B[0;32m    826\u001B[0m     )  \u001B[38;5;66;03m# Calls into the C++ engine to run the backward pass\u001B[39;00m\n\u001B[0;32m    827\u001B[0m \u001B[38;5;28;01mfinally\u001B[39;00m:\n\u001B[0;32m    828\u001B[0m     \u001B[38;5;28;01mif\u001B[39;00m attach_logging_hooks:\n",
      "\u001B[1;31mKeyboardInterrupt\u001B[0m: "
     ]
    }
   ],
   "execution_count": 13
  },
  {
   "metadata": {},
   "cell_type": "markdown",
   "source": "## GAN",
   "id": "a30b2a798bde10ab"
  },
  {
   "metadata": {
    "ExecuteTime": {
     "end_time": "2025-06-11T22:15:40.976055Z",
     "start_time": "2025-06-11T22:05:34.312615Z"
    }
   },
   "cell_type": "code",
   "source": [
    "result = run_gan_pso()\n",
    "\n",
    "print(\"\\nBest Hyperparameters Found:\")\n",
    "print(f\"  Hidden Channels : {result['best_params']['hidden_channels']}\")\n",
    "print(f\"  Learning Rate   : {result['best_params']['lr']:.5f}\")\n",
    "print(f\"  Dropout         : {result['best_params']['dropout']:.2f}\")\n",
    "\n",
    "print(\"\\nPerformance Metrics:\")\n",
    "print(f\"  F1 Score        : {result['f1']:.4f}\")\n",
    "print(f\"  AUC             : {result['auc']:.4f}\")\n",
    "print(f\"  Average Loss    : {result['loss']:.4f}\")\n",
    "print(f\"  NDCG            : {result['ndcg']:.4f}\")"
   ],
   "id": "2c3d48b7e454cca4",
   "outputs": [
    {
     "name": "stdout",
     "output_type": "stream",
     "text": [
      "\n",
      "Best Hyperparameters Found:\n",
      "  Hidden Channels : 277\n",
      "  Learning Rate   : 0.00308\n",
      "  Dropout         : 0.45\n",
      "\n",
      "Performance Metrics:\n",
      "  F1 Score        : 0.7497\n",
      "  AUC             : 0.5540\n",
      "  Average Loss    : 0.0264\n"
     ]
    }
   ],
   "execution_count": 15
  },
  {
   "metadata": {},
   "cell_type": "markdown",
   "source": "# Results after optimization with Simulated Annealing",
   "id": "2a65448e09728642"
  },
  {
   "metadata": {},
   "cell_type": "markdown",
   "source": "## GCN",
   "id": "9a212d425e6d6700"
  },
  {
   "metadata": {
    "ExecuteTime": {
     "end_time": "2025-06-10T19:15:19.770409Z",
     "start_time": "2025-06-10T19:02:21.546197Z"
    }
   },
   "cell_type": "code",
   "source": [
    "result = run_gcn_sa()\n",
    "\n",
    "print(\"\\nBest Hyperparameters Found:\")\n",
    "print(f\"  Hidden Channels : {result['best_params']['hidden_channels']}\")\n",
    "print(f\"  Learning Rate   : {result['best_params']['lr']:.5f}\")\n",
    "print(f\"  Num Layers      : {result['best_params']['num_layers']}\")\n",
    "print(f\"  Dropout         : {result['best_params']['dropout']:.2f}\")\n",
    "\n",
    "print(\"\\nPerformance Metrics:\")\n",
    "print(f\"  F1 Score        : {result['f1']:.4f}\")\n",
    "print(f\"  AUC             : {result['auc']:.4f}\")\n",
    "print(f\"  Average Loss    : {result['loss']:.4f}\")\n",
    "print(f\"  NDCG            : {result['ndcg']:.4f}\")"
   ],
   "id": "ec4c277fd3fc03b7",
   "outputs": [
    {
     "name": "stdout",
     "output_type": "stream",
     "text": [
      "\n",
      "Best Hyperparameters Found:\n",
      "  Hidden Channels : 112\n",
      "  Learning Rate   : 0.03100\n",
      "  Num Layers      : 3\n",
      "  Dropout         : 0.55\n",
      "\n",
      "Performance Metrics:\n",
      "  F1 Score        : 0.8393\n",
      "  AUC             : 0.8354\n",
      "  Average Loss    : 1.3810\n"
     ]
    }
   ],
   "execution_count": 9
  },
  {
   "metadata": {},
   "cell_type": "markdown",
   "source": "## GAN",
   "id": "dbc590298df32d27"
  },
  {
   "metadata": {
    "ExecuteTime": {
     "end_time": "2025-06-11T22:24:59.310776Z",
     "start_time": "2025-06-11T22:15:41.049900Z"
    }
   },
   "cell_type": "code",
   "source": [
    "result = run_gan_sa()\n",
    "\n",
    "print(\"\\nBest Hyperparameters Found:\")\n",
    "print(f\"  Hidden Channels : {result['best_params']['hidden_channels']}\")\n",
    "print(f\"  Learning Rate   : {result['best_params']['lr']:.5f}\")\n",
    "print(f\"  Dropout         : {result['best_params']['dropout']:.2f}\")\n",
    "\n",
    "print(\"\\nPerformance Metrics:\")\n",
    "print(f\"  F1 Score        : {result['f1']:.4f}\")\n",
    "print(f\"  AUC             : {result['auc']:.4f}\")\n",
    "print(f\"  Average Loss    : {result['loss']:.4f}\")\n",
    "print(f\"  NDCG            : {result['ndcg']:.4f}\")"
   ],
   "id": "a41e1a66d18c5bd0",
   "outputs": [
    {
     "name": "stdout",
     "output_type": "stream",
     "text": [
      "\n",
      "Best Hyperparameters Found:\n",
      "  Hidden Channels : 242\n",
      "  Learning Rate   : 0.00001\n",
      "  Dropout         : 0.10\n",
      "\n",
      "Performance Metrics:\n",
      "  F1 Score        : 0.6804\n",
      "  AUC             : 0.5000\n",
      "  Average Loss    : -3.8527\n"
     ]
    }
   ],
   "execution_count": 16
  },
  {
   "metadata": {},
   "cell_type": "markdown",
   "source": "# Results after optimization with Artificial Bee Colony",
   "id": "274dd73b5140e0d6"
  },
  {
   "metadata": {},
   "cell_type": "markdown",
   "source": "## GCN",
   "id": "e999c2bb65b1135a"
  },
  {
   "metadata": {
    "ExecuteTime": {
     "end_time": "2025-06-10T19:27:59.226041Z",
     "start_time": "2025-06-10T19:15:39.070763Z"
    }
   },
   "cell_type": "code",
   "source": [
    "result = run_gcn_abc()\n",
    "\n",
    "print(\"\\nBest Hyperparameters Found:\")\n",
    "print(f\"  Hidden Channels : {result['best_params']['hidden_channels']}\")\n",
    "print(f\"  Learning Rate   : {result['best_params']['lr']:.5f}\")\n",
    "print(f\"  Num Layers      : {result['best_params']['num_layers']}\")\n",
    "print(f\"  Dropout         : {result['best_params']['dropout']:.2f}\")\n",
    "\n",
    "print(\"\\nPerformance Metrics:\")\n",
    "print(f\"  F1 Score        : {result['f1']:.4f}\")\n",
    "print(f\"  AUC             : {result['auc']:.4f}\")\n",
    "print(f\"  Average Loss    : {result['loss']:.4f}\")"
   ],
   "id": "b253c16cf5abad7e",
   "outputs": [
    {
     "name": "stdout",
     "output_type": "stream",
     "text": [
      "\n",
      "Best Hyperparameters Found:\n",
      "  Hidden Channels : 32\n",
      "  Learning Rate   : 0.02367\n",
      "  Num Layers      : 3\n",
      "  Dropout         : 0.48\n",
      "\n",
      "Performance Metrics:\n",
      "  F1 Score        : 0.8490\n",
      "  AUC             : 0.5000\n",
      "  Average Loss    : 31.2235\n"
     ]
    }
   ],
   "execution_count": 12
  },
  {
   "metadata": {},
   "cell_type": "markdown",
   "source": "## GAN",
   "id": "eccb01389a895f45"
  },
  {
   "metadata": {
    "ExecuteTime": {
     "end_time": "2025-06-11T22:36:10.792098Z",
     "start_time": "2025-06-11T22:24:59.428285Z"
    }
   },
   "cell_type": "code",
   "source": [
    "result = run_gan_abc()\n",
    "\n",
    "print(\"\\nBest Hyperparameters Found:\")\n",
    "print(f\"  Hidden Channels : {result['best_params']['hidden_channels']}\")\n",
    "print(f\"  Learning Rate   : {result['best_params']['lr']:.5f}\")\n",
    "print(f\"  Dropout         : {result['best_params']['dropout']:.2f}\")\n",
    "\n",
    "print(\"\\nPerformance Metrics:\")\n",
    "print(f\"  F1 Score        : {result['f1']:.4f}\")\n",
    "print(f\"  AUC             : {result['auc']:.4f}\")\n",
    "print(f\"  Average Loss    : {result['loss']:.4f}\")"
   ],
   "id": "76c78e2bd06ba9bc",
   "outputs": [
    {
     "name": "stdout",
     "output_type": "stream",
     "text": [
      "\n",
      "Best Hyperparameters Found:\n",
      "  Hidden Channels : 405\n",
      "  Learning Rate   : 0.00276\n",
      "  Dropout         : 0.47\n",
      "\n",
      "Performance Metrics:\n",
      "  F1 Score        : 0.7480\n",
      "  AUC             : 0.5756\n",
      "  Average Loss    : 0.0275\n"
     ]
    }
   ],
   "execution_count": 17
  },
  {
   "metadata": {},
   "cell_type": "markdown",
   "source": "# Results after optimization with Ant Colony Optimization",
   "id": "1ad816c2917594e8"
  },
  {
   "metadata": {},
   "cell_type": "markdown",
   "source": "## GCN",
   "id": "42584449c3321bdd"
  },
  {
   "metadata": {
    "ExecuteTime": {
     "end_time": "2025-06-12T19:08:16.236246Z",
     "start_time": "2025-06-12T19:03:05.751387Z"
    }
   },
   "cell_type": "code",
   "source": [
    "result = run_gcn_aco(train_data, test_data)\n",
    "\n",
    "print(\"\\nBest Hyperparameters Found:\")\n",
    "print(f\"  Hidden Channels : {result['best_params']['hidden_channels']}\")\n",
    "print(f\"  Learning Rate   : {result['best_params']['lr']:.5f}\")\n",
    "print(f\"  Num Layers      : {result['best_params']['num_layers']}\")\n",
    "print(f\"  Dropout         : {result['best_params']['dropout']:.2f}\")\n",
    "\n",
    "print(\"\\nPerformance Metrics:\")\n",
    "print(f\"  F1 Score        : {result['f1']:.4f}\")\n",
    "print(f\"  AUC             : {result['auc']:.4f}\")\n",
    "print(f\"  Average Loss    : {result['loss']:.4f}\")"
   ],
   "id": "8c0b7ffdb962db10",
   "outputs": [
    {
     "name": "stdout",
     "output_type": "stream",
     "text": [
      "\n",
      "Best Hyperparameters Found:\n",
      "  Hidden Channels : 64\n",
      "  Learning Rate   : 0.01000\n",
      "  Num Layers      : 4\n",
      "  Dropout         : 0.00\n",
      "\n",
      "Performance Metrics:\n",
      "  F1 Score        : 0.8526\n",
      "  AUC             : 0.9175\n",
      "  Average Loss    : 1.2008\n"
     ]
    }
   ],
   "execution_count": 26
  },
  {
   "metadata": {},
   "cell_type": "markdown",
   "source": "## GAN",
   "id": "74f6e61d1dbfd018"
  },
  {
   "metadata": {
    "ExecuteTime": {
     "end_time": "2025-06-12T19:25:36.760723Z",
     "start_time": "2025-06-12T19:08:37.560075Z"
    }
   },
   "cell_type": "code",
   "source": [
    "result=run_gan_aco(train_data, test_data)\n",
    "\n",
    "print(\"\\nBest Hyperparameters Found:\")\n",
    "print(f\"  Hidden Channels : {result['best_params']['hidden_channels']}\")\n",
    "print(f\"  Learning Rate   : {result['best_params']['lr']:.5f}\")\n",
    "print(f\"  Dropout         : {result['best_params']['dropout']:.2f}\")\n",
    "\n",
    "print(\"\\nPerformance Metrics:\")\n",
    "print(f\"  F1 Score        : {result['f1']:.4f}\")\n",
    "print(f\"  AUC             : {result['auc']:.4f}\")\n",
    "print(f\"  Average Loss    : {result['loss']:.4f}\")"
   ],
   "id": "cc088e931dc89413",
   "outputs": [
    {
     "name": "stdout",
     "output_type": "stream",
     "text": [
      "\n",
      "Best Hyperparameters Found:\n",
      "  Hidden Channels : 512\n",
      "  Learning Rate   : 0.00060\n",
      "  Dropout         : 0.70\n",
      "\n",
      "Performance Metrics:\n",
      "  F1 Score        : 0.7490\n",
      "  AUC             : 0.7728\n",
      "  Average Loss    : 0.1738\n"
     ]
    }
   ],
   "execution_count": 29
  },
  {
   "metadata": {},
   "cell_type": "markdown",
   "source": "# Results after optimization with Hill Climbing",
   "id": "fd93d20cec426be4"
  },
  {
   "metadata": {},
   "cell_type": "markdown",
   "source": "## GCN",
   "id": "fc39556c84ced5b2"
  },
  {
   "metadata": {
    "ExecuteTime": {
     "end_time": "2025-06-11T23:18:48.199614Z",
     "start_time": "2025-06-11T11:05:34.280898Z"
    }
   },
   "cell_type": "code",
   "outputs": [
    {
     "name": "stdout",
     "output_type": "stream",
     "text": [
      "\n",
      "Best Hyperparameters Found:\n",
      "  Hidden Channels : 58\n",
      "  Learning Rate   : 0.02508\n",
      "  Num Layers      : 3\n",
      "  Dropout         : 0.54\n",
      "\n",
      "Performance Metrics:\n",
      "  F1 Score        : 0.8491\n",
      "  AUC             : 0.7861\n",
      "  Average Loss    : 1.3760\n"
     ]
    }
   ],
   "execution_count": 6,
   "source": [
    "result = run_gcn_hc()\n",
    "\n",
    "print(\"\\nBest Hyperparameters Found:\")\n",
    "print(f\"  Hidden Channels : {result['best_params']['hidden_channels']}\")\n",
    "print(f\"  Learning Rate   : {result['best_params']['lr']:.5f}\")\n",
    "print(f\"  Num Layers      : {result['best_params']['num_layers']}\")\n",
    "print(f\"  Dropout         : {result['best_params']['dropout']:.2f}\")\n",
    "\n",
    "print(\"\\nPerformance Metrics:\")\n",
    "print(f\"  F1 Score        : {result['f1']:.4f}\")\n",
    "print(f\"  AUC             : {result['auc']:.4f}\")\n",
    "print(f\"  Average Loss    : {result['loss']:.4f}\")"
   ],
   "id": "1a9b469bd6fd05c1"
  },
  {
   "metadata": {},
   "cell_type": "markdown",
   "source": "## GAN",
   "id": "acc36610929cdd1d"
  },
  {
   "metadata": {
    "ExecuteTime": {
     "end_time": "2025-06-11T22:47:58.095254Z",
     "start_time": "2025-06-11T22:36:11.029860Z"
    }
   },
   "cell_type": "code",
   "source": [
    "result = run_gan_hc()\n",
    "\n",
    "print(\"\\nBest Hyperparameters Found:\")\n",
    "print(f\"  Hidden Channels : {result['best_params']['hidden_channels']}\")\n",
    "print(f\"  Learning Rate   : {result['best_params']['lr']:.5f}\")\n",
    "print(f\"  Dropout         : {result['best_params']['dropout']:.2f}\")\n",
    "\n",
    "print(\"\\nPerformance Metrics:\")\n",
    "print(f\"  F1 Score        : {result['f1']:.4f}\")\n",
    "print(f\"  AUC             : {result['auc']:.4f}\")\n",
    "print(f\"  Average Loss    : {result['loss']:.4f}\")"
   ],
   "id": "e7e86672f42f9c5e",
   "outputs": [
    {
     "name": "stdout",
     "output_type": "stream",
     "text": [
      "\n",
      "Best Hyperparameters Found:\n",
      "  Hidden Channels : 398\n",
      "  Learning Rate   : 0.00228\n",
      "  Dropout         : 0.16\n",
      "\n",
      "Performance Metrics:\n",
      "  F1 Score        : 0.7494\n",
      "  AUC             : 0.5000\n",
      "  Average Loss    : -4.2903\n"
     ]
    }
   ],
   "execution_count": 18
  },
  {
   "metadata": {},
   "cell_type": "markdown",
   "source": "# Results after optimization with Random Search",
   "id": "3d79ed570c7e5e2c"
  },
  {
   "metadata": {},
   "cell_type": "markdown",
   "source": "## GCN",
   "id": "b6c2e87484641f9f"
  },
  {
   "metadata": {
    "ExecuteTime": {
     "end_time": "2025-06-11T23:18:48.199614Z",
     "start_time": "2025-06-11T11:12:50.501504Z"
    }
   },
   "cell_type": "code",
   "outputs": [
    {
     "name": "stdout",
     "output_type": "stream",
     "text": [
      "\n",
      "Best Hyperparameters Found:\n",
      "  Hidden Channels : 125\n",
      "  Learning Rate   : 0.01720\n",
      "  Num Layers      : 3\n",
      "  Dropout         : 0.50\n",
      "\n",
      "Performance Metrics:\n",
      "  F1 Score        : 0.8411\n",
      "  AUC             : 0.9035\n",
      "  Average Loss    : 1.2390\n"
     ]
    }
   ],
   "execution_count": 7,
   "source": [
    "result = run_gcn_ra()\n",
    "\n",
    "print(\"\\nBest Hyperparameters Found:\")\n",
    "print(f\"  Hidden Channels : {result['best_params']['hidden_channels']}\")\n",
    "print(f\"  Learning Rate   : {result['best_params']['lr']:.5f}\")\n",
    "print(f\"  Num Layers      : {result['best_params']['num_layers']}\")\n",
    "print(f\"  Dropout         : {result['best_params']['dropout']:.2f}\")\n",
    "\n",
    "print(\"\\nPerformance Metrics:\")\n",
    "print(f\"  F1 Score        : {result['f1']:.4f}\")\n",
    "print(f\"  AUC             : {result['auc']:.4f}\")\n",
    "print(f\"  Average Loss    : {result['loss']:.4f}\")"
   ],
   "id": "6e30c6234911c49"
  },
  {
   "metadata": {},
   "cell_type": "markdown",
   "source": "## GAN",
   "id": "1d507b10d273e67a"
  },
  {
   "metadata": {
    "ExecuteTime": {
     "end_time": "2025-06-12T09:22:12.005482Z",
     "start_time": "2025-06-12T09:12:12.402562Z"
    }
   },
   "cell_type": "code",
   "source": [
    "result = run_gan_ra()\n",
    "\n",
    "print(\"\\nBest Hyperparameters Found:\")\n",
    "print(f\"  Hidden Channels : {result['best_params']['hidden_channels']}\")\n",
    "print(f\"  Learning Rate   : {result['best_params']['lr']:.5f}\")\n",
    "print(f\"  Dropout         : {result['best_params']['dropout']:.2f}\")\n",
    "\n",
    "print(\"\\nPerformance Metrics:\")\n",
    "print(f\"  F1 Score        : {result['f1']:.4f}\")\n",
    "print(f\"  AUC             : {result['auc']:.4f}\")\n",
    "print(f\"  Average Loss    : {result['loss']:.4f}\")"
   ],
   "id": "5a4a0c2da16fc659",
   "outputs": [
    {
     "name": "stdout",
     "output_type": "stream",
     "text": [
      "\n",
      "Best Hyperparameters Found:\n",
      "  Hidden Channels : 416\n",
      "  Learning Rate   : 0.00258\n",
      "  Dropout         : 0.32\n",
      "\n",
      "Performance Metrics:\n",
      "  F1 Score        : 0.7568\n",
      "  AUC             : 0.7725\n",
      "  Average Loss    : 0.0348\n"
     ]
    }
   ],
   "execution_count": 4
  },
  {
   "metadata": {},
   "cell_type": "markdown",
   "source": "# Results after optimization with Bayesian Optimization",
   "id": "c8604ff65139c909"
  },
  {
   "metadata": {},
   "cell_type": "markdown",
   "source": "## GCN",
   "id": "4bc1b5985365693f"
  },
  {
   "metadata": {
    "ExecuteTime": {
     "end_time": "2025-06-12T18:36:14.273049Z",
     "start_time": "2025-06-12T18:30:51.048874Z"
    }
   },
   "cell_type": "code",
   "source": [
    "result = run_gcn_bo(train_data, test_data)\n",
    "\n",
    "print(\"\\nBest Hyperparameters Found:\")\n",
    "print(f\"  Hidden Channels : {result['best_params']['hidden_channels']}\")\n",
    "print(f\"  Learning Rate   : {result['best_params']['lr']:.5f}\")\n",
    "print(f\"  Num Layers      : {result['best_params']['num_layers']}\")\n",
    "print(f\"  Dropout         : {result['best_params']['dropout']:.2f}\")\n",
    "\n",
    "print(\"\\nPerformance Metrics:\")\n",
    "print(f\"  F1 Score        : {result['f1']:.4f}\")\n",
    "print(f\"  AUC             : {result['auc']:.4f}\")\n",
    "print(f\"  Average Loss    : {result['loss']:.4f}\")"
   ],
   "id": "c6e567ca6f1824f6",
   "outputs": [
    {
     "name": "stdout",
     "output_type": "stream",
     "text": [
      "\n",
      "Best Hyperparameters Found:\n",
      "  Hidden Channels : 144\n",
      "  Learning Rate   : 0.00264\n",
      "  Num Layers      : 4\n",
      "  Dropout         : 0.05\n",
      "\n",
      "Performance Metrics:\n",
      "  F1 Score        : 0.8524\n",
      "  AUC             : 0.9179\n",
      "  Average Loss    : 1.2434\n"
     ]
    }
   ],
   "execution_count": 20
  },
  {
   "metadata": {},
   "cell_type": "markdown",
   "source": "## GAN",
   "id": "8e353c8804c4c8b1"
  },
  {
   "metadata": {
    "ExecuteTime": {
     "end_time": "2025-06-12T18:46:41.198913Z",
     "start_time": "2025-06-12T18:41:00.836513Z"
    }
   },
   "cell_type": "code",
   "source": [
    "result = run_gan_bo(train_data, test_data)\n",
    "\n",
    "print(\"\\nBest Hyperparameters Found:\")\n",
    "print(f\"  Hidden Channels : {result['best_params']['hidden_channels']}\")\n",
    "print(f\"  Learning Rate   : {result['best_params']['lr']:.5f}\")\n",
    "print(f\"  Dropout         : {result['best_params']['dropout']:.2f}\")\n",
    "\n",
    "print(\"\\nPerformance Metrics:\")\n",
    "print(f\"  F1 Score        : {result['f1']:.4f}\")\n",
    "print(f\"  AUC             : {result['auc']:.4f}\")\n",
    "print(f\"  Average Loss    : {result['loss']:.4f}\")"
   ],
   "id": "16b478ba5f11a8d4",
   "outputs": [
    {
     "name": "stdout",
     "output_type": "stream",
     "text": [
      "\n",
      "Best Hyperparameters Found:\n",
      "  Hidden Channels : 160\n",
      "  Learning Rate   : 0.00062\n",
      "  Dropout         : 0.35\n",
      "\n",
      "Performance Metrics:\n",
      "  F1 Score        : 0.7458\n",
      "  AUC             : 0.7669\n",
      "  Average Loss    : 0.1828\n"
     ]
    }
   ],
   "execution_count": 24
  },
  {
   "metadata": {},
   "cell_type": "markdown",
   "source": "# Results after optimizing with Optuna",
   "id": "6cedfc8a0e10d7bf"
  },
  {
   "metadata": {},
   "cell_type": "markdown",
   "source": "## GCN",
   "id": "e614f9292e479ae1"
  },
  {
   "metadata": {
    "ExecuteTime": {
     "end_time": "2025-06-12T18:04:48.417183Z",
     "start_time": "2025-06-12T17:56:25.282386Z"
    }
   },
   "cell_type": "code",
   "source": [
    "result = run_gcn_optuna()\n",
    "\n",
    "print(\"\\nBest Hyperparameters Found:\")\n",
    "print(f\"  Hidden Channels : {result['best_params']['hidden_channels']}\")\n",
    "print(f\"  Learning Rate   : {result['best_params']['lr']:.5f}\")\n",
    "print(f\"  Num Layers      : {result['best_params']['num_layers']}\")\n",
    "print(f\"  Dropout         : {result['best_params']['dropout']:.2f}\")\n",
    "\n",
    "print(\"\\nPerformance Metrics:\")\n",
    "print(f\"  F1 Score        : {result['f1']:.4f}\")\n",
    "print(f\"  AUC             : {result['auc']:.4f}\")\n",
    "print(f\"  Average Loss    : {result['loss']:.4f}\")"
   ],
   "id": "ea51fd038055e3bc",
   "outputs": [
    {
     "name": "stderr",
     "output_type": "stream",
     "text": [
      "[I 2025-06-12 19:56:25,353] A new study created in memory with name: no-name-62abfe02-5699-4890-b902-1848d0bf8cec\n",
      "[I 2025-06-12 19:56:54,306] Trial 0 finished with value: -0.7422966082908447 and parameters: {'hidden_channels': 228, 'lr': 0.00010650363018688238, 'num_layers': 4, 'dropout': 0.5561634941565968}. Best is trial 0 with value: -0.7422966082908447.\n",
      "[I 2025-06-12 19:57:03,981] Trial 1 finished with value: -0.7941541520726247 and parameters: {'hidden_channels': 67, 'lr': 0.001985802358640859, 'num_layers': 3, 'dropout': 0.48122728482664434}. Best is trial 1 with value: -0.7941541520726247.\n",
      "[I 2025-06-12 19:57:21,183] Trial 2 finished with value: -0.8475344185491959 and parameters: {'hidden_channels': 137, 'lr': 0.015525247915454551, 'num_layers': 4, 'dropout': 0.5794923157284809}. Best is trial 2 with value: -0.8475344185491959.\n",
      "[I 2025-06-12 19:58:00,210] Trial 3 finished with value: -0.7809033708836948 and parameters: {'hidden_channels': 158, 'lr': 0.0001800540053010709, 'num_layers': 4, 'dropout': 0.180997245002837}. Best is trial 2 with value: -0.8475344185491959.\n",
      "[I 2025-06-12 19:58:32,658] Trial 4 finished with value: -0.7107184099842143 and parameters: {'hidden_channels': 174, 'lr': 0.00013328218334435375, 'num_layers': 3, 'dropout': 0.5139367308222689}. Best is trial 2 with value: -0.8475344185491959.\n",
      "[I 2025-06-12 19:58:49,185] Trial 5 finished with value: -0.7879593035676138 and parameters: {'hidden_channels': 185, 'lr': 0.0028336968801615575, 'num_layers': 2, 'dropout': 0.620078225486292}. Best is trial 2 with value: -0.8475344185491959.\n",
      "[I 2025-06-12 19:58:59,879] Trial 6 finished with value: -0.8209606379203573 and parameters: {'hidden_channels': 125, 'lr': 0.005884924238192805, 'num_layers': 2, 'dropout': 0.0694779495333544}. Best is trial 2 with value: -0.8475344185491959.\n",
      "[I 2025-06-12 19:59:09,186] Trial 7 finished with value: -0.7473228273891808 and parameters: {'hidden_channels': 110, 'lr': 0.0016580195696102456, 'num_layers': 2, 'dropout': 0.24249379065651164}. Best is trial 2 with value: -0.8475344185491959.\n",
      "[I 2025-06-12 19:59:19,599] Trial 8 finished with value: -0.759422535384464 and parameters: {'hidden_channels': 84, 'lr': 0.00048482779702707006, 'num_layers': 3, 'dropout': 0.32314339035370376}. Best is trial 2 with value: -0.8475344185491959.\n",
      "[I 2025-06-12 19:59:27,543] Trial 9 finished with value: -0.790959737531702 and parameters: {'hidden_channels': 61, 'lr': 0.034301156804416276, 'num_layers': 2, 'dropout': 0.53579087768843}. Best is trial 2 with value: -0.8475344185491959.\n",
      "[I 2025-06-12 19:59:58,067] Trial 10 finished with value: -0.6666666666666666 and parameters: {'hidden_channels': 248, 'lr': 0.0707272845273937, 'num_layers': 4, 'dropout': 0.6565417237562793}. Best is trial 2 with value: -0.8475344185491959.\n",
      "[I 2025-06-12 20:00:10,662] Trial 11 finished with value: -0.8384034490144192 and parameters: {'hidden_channels': 124, 'lr': 0.015648292710799858, 'num_layers': 3, 'dropout': 0.010867164476452154}. Best is trial 2 with value: -0.8475344185491959.\n",
      "[I 2025-06-12 20:00:18,379] Trial 12 finished with value: -0.8515573181034303 and parameters: {'hidden_channels': 32, 'lr': 0.01345645780176007, 'num_layers': 4, 'dropout': 0.018360628596744415}. Best is trial 12 with value: -0.8515573181034303.\n",
      "[I 2025-06-12 20:00:27,398] Trial 13 finished with value: -0.8503639338712408 and parameters: {'hidden_channels': 36, 'lr': 0.012562281879151342, 'num_layers': 4, 'dropout': 0.3936695920443739}. Best is trial 12 with value: -0.8515573181034303.\n",
      "[I 2025-06-12 20:00:36,593] Trial 14 finished with value: -0.8494480369191062 and parameters: {'hidden_channels': 37, 'lr': 0.008672413824908352, 'num_layers': 4, 'dropout': 0.36565626836878823}. Best is trial 12 with value: -0.8515573181034303.\n",
      "[I 2025-06-12 20:00:45,051] Trial 15 finished with value: -0.8064918851435705 and parameters: {'hidden_channels': 33, 'lr': 0.09954218816778301, 'num_layers': 4, 'dropout': 0.3869595266560109}. Best is trial 12 with value: -0.8515573181034303.\n",
      "[I 2025-06-12 20:00:58,096] Trial 16 finished with value: -0.8263368898882124 and parameters: {'hidden_channels': 91, 'lr': 0.03161604957507381, 'num_layers': 4, 'dropout': 0.14029974109831053}. Best is trial 12 with value: -0.8515573181034303.\n",
      "[I 2025-06-12 20:01:06,779] Trial 17 finished with value: -0.8398032782297838 and parameters: {'hidden_channels': 55, 'lr': 0.006100509754534473, 'num_layers': 3, 'dropout': 0.4384116277082207}. Best is trial 12 with value: -0.8515573181034303.\n",
      "[I 2025-06-12 20:01:19,801] Trial 18 finished with value: -0.8051632124529359 and parameters: {'hidden_channels': 94, 'lr': 0.0009614727030708708, 'num_layers': 4, 'dropout': 0.27173620081328703}. Best is trial 12 with value: -0.8515573181034303.\n",
      "[I 2025-06-12 20:01:26,948] Trial 19 finished with value: -0.8462572272542733 and parameters: {'hidden_channels': 32, 'lr': 0.030472458737374863, 'num_layers': 3, 'dropout': 0.14647693185847496}. Best is trial 12 with value: -0.8515573181034303.\n",
      "[I 2025-06-12 20:01:47,044] Trial 20 finished with value: -0.8469860457857138 and parameters: {'hidden_channels': 74, 'lr': 0.01278157545988675, 'num_layers': 4, 'dropout': 0.4290968790809043}. Best is trial 12 with value: -0.8515573181034303.\n",
      "[I 2025-06-12 20:02:07,127] Trial 21 finished with value: -0.8519280565469942 and parameters: {'hidden_channels': 45, 'lr': 0.006982219313951923, 'num_layers': 4, 'dropout': 0.2912537231848333}. Best is trial 21 with value: -0.8519280565469942.\n",
      "[I 2025-06-12 20:02:25,518] Trial 22 finished with value: -0.845323816374849 and parameters: {'hidden_channels': 48, 'lr': 0.005320586288617037, 'num_layers': 4, 'dropout': 0.25050453868768296}. Best is trial 21 with value: -0.8519280565469942.\n",
      "[I 2025-06-12 20:02:47,874] Trial 23 finished with value: -0.8424383188228421 and parameters: {'hidden_channels': 53, 'lr': 0.003771350957970566, 'num_layers': 4, 'dropout': 0.003611972685782179}. Best is trial 21 with value: -0.8519280565469942.\n",
      "[I 2025-06-12 20:03:12,837] Trial 24 finished with value: -0.8472075278686687 and parameters: {'hidden_channels': 73, 'lr': 0.019798120915855567, 'num_layers': 4, 'dropout': 0.31360856895166367}. Best is trial 21 with value: -0.8519280565469942.\n",
      "[I 2025-06-12 20:03:38,762] Trial 25 finished with value: -0.8500698826818008 and parameters: {'hidden_channels': 102, 'lr': 0.009925522558008411, 'num_layers': 3, 'dropout': 0.09395584326391826}. Best is trial 21 with value: -0.8519280565469942.\n",
      "[I 2025-06-12 20:03:49,183] Trial 26 finished with value: -0.8401814300960512 and parameters: {'hidden_channels': 43, 'lr': 0.05340649089171083, 'num_layers': 4, 'dropout': 0.4037733864443019}. Best is trial 21 with value: -0.8519280565469942.\n",
      "[I 2025-06-12 20:04:05,418] Trial 27 finished with value: -0.8050668162738351 and parameters: {'hidden_channels': 75, 'lr': 0.0009679327092794776, 'num_layers': 4, 'dropout': 0.20853287707034993}. Best is trial 21 with value: -0.8519280565469942.\n",
      "[I 2025-06-12 20:04:15,375] Trial 28 finished with value: -0.8297783826090636 and parameters: {'hidden_channels': 56, 'lr': 0.02025486337230636, 'num_layers': 4, 'dropout': 0.4770564700403805}. Best is trial 21 with value: -0.8519280565469942.\n",
      "[I 2025-06-12 20:04:48,409] Trial 29 finished with value: -0.8514469096011448 and parameters: {'hidden_channels': 218, 'lr': 0.00417724162824141, 'num_layers': 4, 'dropout': 0.29210520791480116}. Best is trial 21 with value: -0.8519280565469942.\n"
     ]
    },
    {
     "name": "stdout",
     "output_type": "stream",
     "text": [
      "\n",
      "Best Hyperparameters Found:\n",
      "  Hidden Channels : 45\n",
      "  Learning Rate   : 0.00698\n",
      "  Num Layers      : 4\n",
      "  Dropout         : 0.29\n",
      "\n",
      "Performance Metrics:\n",
      "  F1 Score        : 0.8519\n",
      "  AUC             : 0.9184\n",
      "  Average Loss    : 1.2382\n"
     ]
    }
   ],
   "execution_count": 16
  },
  {
   "metadata": {},
   "cell_type": "markdown",
   "source": "## GAN",
   "id": "37997c88a51ce6ac"
  },
  {
   "metadata": {
    "ExecuteTime": {
     "end_time": "2025-06-12T19:03:05.695266Z",
     "start_time": "2025-06-12T18:46:41.240653Z"
    }
   },
   "cell_type": "code",
   "source": [
    "result = run_gan_optuna()\n",
    "\n",
    "print(\"\\nBest Hyperparameters Found:\")\n",
    "print(f\"  Hidden Channels : {result['best_params']['hidden_channels']}\")\n",
    "print(f\"  Learning Rate   : {result['best_params']['lr']:.5f}\")\n",
    "print(f\"  Dropout         : {result['best_params']['dropout']:.2f}\")\n",
    "\n",
    "print(\"\\nPerformance Metrics:\")\n",
    "print(f\"  F1 Score        : {result['f1']:.4f}\")\n",
    "print(f\"  AUC             : {result['auc']:.4f}\")\n",
    "print(f\"  Average Loss    : {result['loss']:.4f}\")"
   ],
   "id": "4f5295bc97251e76",
   "outputs": [
    {
     "name": "stderr",
     "output_type": "stream",
     "text": [
      "[I 2025-06-12 20:46:41,312] A new study created in memory with name: no-name-3e5781ab-4e10-4ab9-b7c8-f9434391b2cf\n",
      "[I 2025-06-12 20:47:24,826] Trial 0 finished with value: -0.7402626523401754 and parameters: {'hidden_channels': 510, 'lr': 5.430084496031334e-05, 'dropout': 0.12647607665839158}. Best is trial 0 with value: -0.7402626523401754.\n",
      "[I 2025-06-12 20:47:52,476] Trial 1 finished with value: -0.7410790092909298 and parameters: {'hidden_channels': 276, 'lr': 0.00021313926909560517, 'dropout': 0.5400292282797245}. Best is trial 1 with value: -0.7410790092909298.\n",
      "[I 2025-06-12 20:48:06,673] Trial 2 finished with value: -0.6666666666666666 and parameters: {'hidden_channels': 169, 'lr': 0.015543512682181305, 'dropout': 0.0010090038802316292}. Best is trial 1 with value: -0.7410790092909298.\n",
      "[I 2025-06-12 20:48:18,878] Trial 3 finished with value: -0.6994442335986525 and parameters: {'hidden_channels': 105, 'lr': 0.0024567710388621908, 'dropout': 0.168138006907391}. Best is trial 1 with value: -0.7410790092909298.\n",
      "[I 2025-06-12 20:48:42,172] Trial 4 finished with value: -0.6666666666666666 and parameters: {'hidden_channels': 227, 'lr': 0.05541309573955227, 'dropout': 0.05271771044390404}. Best is trial 1 with value: -0.7410790092909298.\n",
      "[I 2025-06-12 20:48:55,000] Trial 5 finished with value: -0.6666666666666666 and parameters: {'hidden_channels': 111, 'lr': 0.024011329549037768, 'dropout': 0.18567932949709268}. Best is trial 1 with value: -0.7410790092909298.\n",
      "[I 2025-06-12 20:49:29,928] Trial 6 finished with value: -0.6666666666666666 and parameters: {'hidden_channels': 340, 'lr': 0.0053764380414801525, 'dropout': 0.2090962364641011}. Best is trial 1 with value: -0.7410790092909298.\n",
      "[I 2025-06-12 20:50:06,195] Trial 7 finished with value: -0.7498790810157194 and parameters: {'hidden_channels': 373, 'lr': 0.0007241553993396624, 'dropout': 0.2777243125531766}. Best is trial 7 with value: -0.7498790810157194.\n",
      "[I 2025-06-12 20:50:19,201] Trial 8 finished with value: -0.6683295185554707 and parameters: {'hidden_channels': 139, 'lr': 0.0030096719447074644, 'dropout': 0.41076561747764934}. Best is trial 7 with value: -0.7498790810157194.\n",
      "[I 2025-06-12 20:50:46,271] Trial 9 finished with value: -0.728208214587058 and parameters: {'hidden_channels': 276, 'lr': 2.4098420436410545e-05, 'dropout': 0.6035620475640049}. Best is trial 7 with value: -0.7498790810157194.\n",
      "[I 2025-06-12 20:51:21,470] Trial 10 finished with value: -0.7480802125413982 and parameters: {'hidden_channels': 408, 'lr': 0.0003972051729667, 'dropout': 0.3275395705549663}. Best is trial 7 with value: -0.7498790810157194.\n",
      "[I 2025-06-12 20:51:58,641] Trial 11 finished with value: -0.745685845428002 and parameters: {'hidden_channels': 410, 'lr': 0.0003528001697686146, 'dropout': 0.3577344232057455}. Best is trial 7 with value: -0.7498790810157194.\n",
      "[I 2025-06-12 20:52:35,410] Trial 12 finished with value: -0.7458419707853252 and parameters: {'hidden_channels': 398, 'lr': 0.00044327448387340934, 'dropout': 0.30300039982799487}. Best is trial 7 with value: -0.7498790810157194.\n",
      "[I 2025-06-12 20:53:16,158] Trial 13 finished with value: -0.7408055833452432 and parameters: {'hidden_channels': 480, 'lr': 0.00011688046239053747, 'dropout': 0.47275024009099653}. Best is trial 7 with value: -0.7498790810157194.\n",
      "[I 2025-06-12 20:53:51,815] Trial 14 finished with value: -0.7471858801760234 and parameters: {'hidden_channels': 387, 'lr': 0.0009721097309785186, 'dropout': 0.2854006969191319}. Best is trial 7 with value: -0.7498790810157194.\n",
      "[I 2025-06-12 20:54:29,596] Trial 15 finished with value: -0.6877525629029438 and parameters: {'hidden_channels': 448, 'lr': 1.3979555207286698e-05, 'dropout': 0.6659373887618099}. Best is trial 7 with value: -0.7498790810157194.\n",
      "[I 2025-06-12 20:55:01,075] Trial 16 finished with value: -0.7479011554035601 and parameters: {'hidden_channels': 337, 'lr': 0.0009348052540726405, 'dropout': 0.4284895822097043}. Best is trial 7 with value: -0.7498790810157194.\n",
      "[I 2025-06-12 20:55:33,887] Trial 17 finished with value: -0.7275094169052283 and parameters: {'hidden_channels': 329, 'lr': 9.171953429889512e-05, 'dropout': 0.26728724771348716}. Best is trial 7 with value: -0.7498790810157194.\n",
      "[I 2025-06-12 20:56:12,283] Trial 18 finished with value: -0.6666666666666666 and parameters: {'hidden_channels': 445, 'lr': 0.00739597379415379, 'dropout': 0.357374201180564}. Best is trial 7 with value: -0.7498790810157194.\n",
      "[I 2025-06-12 20:56:47,611] Trial 19 finished with value: -0.7038303801048601 and parameters: {'hidden_channels': 375, 'lr': 0.0013930703158669831, 'dropout': 0.4992804605545604}. Best is trial 7 with value: -0.7498790810157194.\n",
      "[I 2025-06-12 20:57:12,404] Trial 20 finished with value: -0.7429654627008035 and parameters: {'hidden_channels': 220, 'lr': 0.00047350418932867494, 'dropout': 0.09843519566033238}. Best is trial 7 with value: -0.7498790810157194.\n",
      "[I 2025-06-12 20:57:48,511] Trial 21 finished with value: -0.7476052519508875 and parameters: {'hidden_channels': 345, 'lr': 0.0009209970961785814, 'dropout': 0.41081820902150334}. Best is trial 7 with value: -0.7498790810157194.\n",
      "[I 2025-06-12 20:58:22,148] Trial 22 finished with value: -0.745007267050654 and parameters: {'hidden_channels': 319, 'lr': 0.00020385529324297642, 'dropout': 0.4211789751196729}. Best is trial 7 with value: -0.7498790810157194.\n",
      "[I 2025-06-12 20:58:53,769] Trial 23 finished with value: -0.6866386144651787 and parameters: {'hidden_channels': 294, 'lr': 0.0017294280678349138, 'dropout': 0.25671335280102353}. Best is trial 7 with value: -0.7498790810157194.\n",
      "[I 2025-06-12 20:59:36,642] Trial 24 finished with value: -0.7463735942926304 and parameters: {'hidden_channels': 429, 'lr': 0.0005233758980435311, 'dropout': 0.3309970555701111}. Best is trial 7 with value: -0.7498790810157194.\n",
      "[I 2025-06-12 21:00:14,381] Trial 25 finished with value: -0.7278434984970426 and parameters: {'hidden_channels': 367, 'lr': 4.708083333217435e-05, 'dropout': 0.462484702615676}. Best is trial 7 with value: -0.7498790810157194.\n",
      "[I 2025-06-12 21:00:43,554] Trial 26 finished with value: -0.6666666666666666 and parameters: {'hidden_channels': 247, 'lr': 0.0047796672566052635, 'dropout': 0.23246458948247617}. Best is trial 7 with value: -0.7498790810157194.\n",
      "[I 2025-06-12 21:01:29,029] Trial 27 finished with value: -0.7488428863188679 and parameters: {'hidden_channels': 472, 'lr': 0.0007551162990240966, 'dropout': 0.5456451483761396}. Best is trial 7 with value: -0.7498790810157194.\n",
      "[I 2025-06-12 21:02:17,360] Trial 28 finished with value: -0.7447869719367827 and parameters: {'hidden_channels': 484, 'lr': 0.00018815458951259683, 'dropout': 0.5809337168235674}. Best is trial 7 with value: -0.7498790810157194.\n",
      "[I 2025-06-12 21:03:05,684] Trial 29 finished with value: -0.7100769416252001 and parameters: {'hidden_channels': 507, 'lr': 5.280439105070579e-05, 'dropout': 0.6659629593491858}. Best is trial 7 with value: -0.7498790810157194.\n"
     ]
    },
    {
     "name": "stdout",
     "output_type": "stream",
     "text": [
      "\n",
      "Best Hyperparameters Found:\n",
      "  Hidden Channels : 373\n",
      "  Learning Rate   : 0.00072\n",
      "  Dropout         : 0.28\n",
      "\n",
      "Performance Metrics:\n",
      "  F1 Score        : 0.7499\n",
      "  AUC             : 0.7727\n",
      "  Average Loss    : 0.1771\n"
     ]
    }
   ],
   "execution_count": 25
  }
 ],
 "metadata": {
  "kernelspec": {
   "display_name": "Python 3",
   "language": "python",
   "name": "python3"
  },
  "language_info": {
   "codemirror_mode": {
    "name": "ipython",
    "version": 2
   },
   "file_extension": ".py",
   "mimetype": "text/x-python",
   "name": "python",
   "nbconvert_exporter": "python",
   "pygments_lexer": "ipython2",
   "version": "2.7.6"
  }
 },
 "nbformat": 4,
 "nbformat_minor": 5
}
