{
 "cells": [
  {
   "metadata": {
    "ExecuteTime": {
     "end_time": "2025-06-12T16:24:02.469074Z",
     "start_time": "2025-06-12T16:24:02.430478Z"
    }
   },
   "cell_type": "code",
   "source": [
    "%load_ext autoreload\n",
    "%autoreload 2"
   ],
   "id": "b00af415018bebcf",
   "outputs": [],
   "execution_count": 1
  },
  {
   "metadata": {
    "ExecuteTime": {
     "end_time": "2025-06-12T17:38:17.578610Z",
     "start_time": "2025-06-12T17:38:17.442180Z"
    }
   },
   "cell_type": "code",
   "source": "%reload_ext autoreload",
   "id": "b3f4f8ebea519f2e",
   "outputs": [],
   "execution_count": 8
  },
  {
   "metadata": {
    "ExecuteTime": {
     "end_time": "2025-06-12T17:39:35.234845Z",
     "start_time": "2025-06-12T17:39:35.166301Z"
    }
   },
   "cell_type": "code",
   "source": [
    "import warnings\n",
    "warnings.filterwarnings('ignore')"
   ],
   "id": "a34e5e0f5aa6543b",
   "outputs": [],
   "execution_count": 11
  },
  {
   "metadata": {
    "collapsed": true,
    "ExecuteTime": {
     "end_time": "2025-06-12T19:08:27.704562Z",
     "start_time": "2025-06-12T19:08:27.631389Z"
    }
   },
   "cell_type": "code",
   "source": [
    "from optimizers_niapy import *\n",
    "from other_optimizers import *"
   ],
   "id": "initial_id",
   "outputs": [],
   "execution_count": 28
  },
  {
   "metadata": {},
   "cell_type": "markdown",
   "source": "# GCN results",
   "id": "2af644a26bfde8cc"
  },
  {
   "metadata": {
    "ExecuteTime": {
     "end_time": "2025-06-11T20:43:51.096605Z",
     "start_time": "2025-06-11T20:42:52.255919Z"
    }
   },
   "cell_type": "code",
   "source": [
    "model = GCNLinkPredictor(in_channels=5, hidden_channels=256)\n",
    "optimizer = optim.Adam(model.parameters(), lr=0.01)\n",
    "\n",
    "print(\"\\n=== Before training ===\")\n",
    "test_probs = GCNtest(model, test_data)\n",
    "print(f\"Sample test predictions (first 5):\\n{test_probs[:5]}\")\n",
    "\n",
    "print(\"\\n=== After training ===\")\n",
    "for epoch in range(1, 10):\n",
    "  loss = GCNtrain(model, optimizer, train_data)\n",
    "  test_probs = GCNtest(model, test_data)\n",
    "  auc_gcn, f1_gcn, threshold = evaluate_model(test_probs, test_data.edge_label)\n",
    "  print(f\"Epoch {epoch}, Loss: {loss:.4f}, AUC score: {auc_gcn:.4f}, F1 score: {f1_gcn:.4f}\")\n",
    "  print(f\"Sample predictions: {test_probs[:5].tolist()}...\")\n"
   ],
   "id": "87c4fd79af333fad",
   "outputs": [
    {
     "name": "stdout",
     "output_type": "stream",
     "text": [
      "\n",
      "=== Before training ===\n",
      "Sample test predictions (first 5):\n",
      "[0.530487   0.5121068  0.5320257  0.51800746 0.51751906]\n",
      "\n",
      "=== After training ===\n",
      "Epoch 1, Loss: 1.3755, AUC score: 0.7529, F1 score: 0.7278\n",
      "Sample predictions: [0.756817102432251, 0.6171451210975647, 0.8041971921920776, 0.6594882011413574, 0.6854455471038818]...\n",
      "Epoch 2, Loss: 1.4892, AUC score: 0.7374, F1 score: 0.7105\n",
      "Sample predictions: [0.5396678447723389, 0.5136833786964417, 0.5454912185668945, 0.5203129053115845, 0.5249595046043396]...\n",
      "Epoch 3, Loss: 1.3677, AUC score: 0.7192, F1 score: 0.7125\n",
      "Sample predictions: [0.6969800591468811, 0.5894076824188232, 0.7471961975097656, 0.6259374618530273, 0.6321976780891418]...\n",
      "Epoch 4, Loss: 1.4305, AUC score: 0.7214, F1 score: 0.7140\n",
      "Sample predictions: [0.6559635996818542, 0.5706409811973572, 0.7004437446594238, 0.6001905798912048, 0.6043412089347839]...\n",
      "Epoch 5, Loss: 1.3966, AUC score: 0.7446, F1 score: 0.7234\n",
      "Sample predictions: [0.6085211038589478, 0.5484013557434082, 0.639589786529541, 0.569541871547699, 0.5737779140472412]...\n",
      "Epoch 6, Loss: 1.3603, AUC score: 0.7833, F1 score: 0.7444\n",
      "Sample predictions: [0.6111394166946411, 0.5495867133140564, 0.6396906971931458, 0.5713983774185181, 0.5790494084358215]...\n",
      "Epoch 7, Loss: 1.3376, AUC score: 0.8180, F1 score: 0.7642\n",
      "Sample predictions: [0.6613973379135132, 0.5725058913230896, 0.6962538957595825, 0.604087769985199, 0.6194931268692017]...\n",
      "Epoch 8, Loss: 1.3128, AUC score: 0.8478, F1 score: 0.7834\n",
      "Sample predictions: [0.7486963272094727, 0.6143982410430908, 0.7866237759590149, 0.6631689071655273, 0.6908938884735107]...\n",
      "Epoch 9, Loss: 1.2882, AUC score: 0.8738, F1 score: 0.8024\n",
      "Sample predictions: [0.8154688477516174, 0.6488262414932251, 0.8433018922805786, 0.7117280960083008, 0.748948872089386]...\n"
     ]
    }
   ],
   "execution_count": 6
  },
  {
   "metadata": {},
   "cell_type": "markdown",
   "source": "# GAN results",
   "id": "13bf75e3c1042076"
  },
  {
   "metadata": {
    "ExecuteTime": {
     "end_time": "2025-06-11T21:39:21.305504Z",
     "start_time": "2025-06-11T21:38:00.073962Z"
    }
   },
   "cell_type": "code",
   "source": [
    "generator = Generator(in_channels=5, hidden_channels=256).to(device)\n",
    "discriminator = Discriminator(hidden_channels=256).to(device)\n",
    "\n",
    "generator.apply(init_weights)\n",
    "discriminator.apply(init_weights)\n",
    "\n",
    "optimizer_G = optim.Adam(generator.parameters(), lr=1e-4, betas=(0.5, 0.999))\n",
    "optimizer_D = optim.Adam(discriminator.parameters(), lr=1e-4, betas=(0.5, 0.999))\n",
    "\n",
    "print(\"\\n=== Before training ===\")\n",
    "test_probs = GANtest(generator, discriminator, test_data)\n",
    "print(f\"Sample test predictions (first 5):\\n{test_probs[:5]}\")\n",
    "\n",
    "print(\"\\n=== After training ===\")\n",
    "for epoch in range(1, 10):\n",
    "    d_loss, g_loss = GANtrain(generator, discriminator, optimizer_G, optimizer_D, train_data)\n",
    "    test_probs = GANtest(generator, discriminator, test_data)\n",
    "    auc_gan, f1_gan, threshold = evaluate_model(test_probs, test_data.edge_label)\n",
    "    print(f\"Epoch {epoch}, D Loss: {d_loss:.4f}, G Loss: {g_loss:.4f}, AUC score: {auc_gan:.4f}, F1 score: {f1_gan:.4f}\")\n",
    "    print(f\"Sample predictions: {test_probs[:5].tolist()}...\")\n"
   ],
   "id": "c2168319882ef643",
   "outputs": [
    {
     "name": "stdout",
     "output_type": "stream",
     "text": [
      "\n",
      "=== Before training ===\n",
      "Sample test predictions (first 5):\n",
      "[[0.4967758 ]\n",
      " [0.51241285]\n",
      " [0.5010973 ]\n",
      " [0.49302885]\n",
      " [0.49735793]]\n",
      "\n",
      "=== After training ===\n",
      "Epoch 1, D Loss: 0.0077, G Loss: 0.0016, AUC score: 0.5059, F1 score: 0.6809\n",
      "Sample predictions: [[0.49454465508461], [0.5098069310188293], [0.4993833899497986], [0.49015289545059204], [0.4931155741214752]]...\n",
      "Epoch 2, D Loss: -0.0004, G Loss: 0.0192, AUC score: 0.5488, F1 score: 0.6845\n",
      "Sample predictions: [[0.49249210953712463], [0.5075169801712036], [0.4976271390914917], [0.48761773109436035], [0.48919180035591125]]...\n",
      "Epoch 3, D Loss: -0.0148, G Loss: 0.0415, AUC score: 0.5904, F1 score: 0.6886\n",
      "Sample predictions: [[0.49038979411125183], [0.5052443742752075], [0.4957611560821533], [0.4850482642650604], [0.4851073920726776]]...\n",
      "Epoch 4, D Loss: -0.0157, G Loss: 0.0549, AUC score: 0.6278, F1 score: 0.6972\n",
      "Sample predictions: [[0.4884045422077179], [0.5030146241188049], [0.4941975474357605], [0.48277002573013306], [0.4815029799938202]]...\n",
      "Epoch 5, D Loss: -0.0371, G Loss: 0.0876, AUC score: 0.6604, F1 score: 0.7051\n",
      "Sample predictions: [[0.48606911301612854], [0.5004355907440186], [0.49249833822250366], [0.4802733361721039], [0.4771744906902313]]...\n",
      "Epoch 6, D Loss: -0.0437, G Loss: 0.1028, AUC score: 0.6862, F1 score: 0.7096\n",
      "Sample predictions: [[0.4833638668060303], [0.4979737102985382], [0.4907740354537964], [0.47753962874412537], [0.47260135412216187]]...\n",
      "Epoch 7, D Loss: -0.0532, G Loss: 0.1213, AUC score: 0.7078, F1 score: 0.7145\n",
      "Sample predictions: [[0.48109006881713867], [0.4952053427696228], [0.48916953802108765], [0.47518810629844666], [0.46857109665870667]]...\n",
      "Epoch 8, D Loss: -0.0638, G Loss: 0.1470, AUC score: 0.7238, F1 score: 0.7234\n",
      "Sample predictions: [[0.47860613465309143], [0.49242258071899414], [0.4873824417591095], [0.47279831767082214], [0.4645359516143799]]...\n",
      "Epoch 9, D Loss: -0.0749, G Loss: 0.1681, AUC score: 0.7345, F1 score: 0.7277\n",
      "Sample predictions: [[0.4762526750564575], [0.489783376455307], [0.485941618680954], [0.4701932668685913], [0.4608660340309143]]...\n"
     ]
    }
   ],
   "execution_count": 8
  },
  {
   "metadata": {},
   "cell_type": "markdown",
   "source": "# Results after optimization with Genetic Algorithm",
   "id": "d3c5868a95638507"
  },
  {
   "metadata": {},
   "cell_type": "markdown",
   "source": "## GCN",
   "id": "f03a5025f05c562d"
  },
  {
   "metadata": {
    "ExecuteTime": {
     "end_time": "2025-06-11T21:08:44.002164Z",
     "start_time": "2025-06-11T20:59:15.003902Z"
    }
   },
   "cell_type": "code",
   "source": [
    "result = run_gcn_ga()\n",
    "\n",
    "print(\"\\nBest Hyperparameters Found:\")\n",
    "print(f\"  Hidden Channels : {result['best_params']['hidden_channels']}\")\n",
    "print(f\"  Learning Rate   : {result['best_params']['lr']:.5f}\")\n",
    "print(f\"  Num Layers      : {result['best_params']['num_layers']}\")\n",
    "print(f\"  Dropout         : {result['best_params']['dropout']:.2f}\")\n",
    "\n",
    "print(\"\\nPerformance Metrics:\")\n",
    "print(f\"  F1 Score        : {result['f1']:.4f}\")\n",
    "print(f\"  AUC             : {result['auc']:.4f}\")\n",
    "print(f\"  Average Loss    : {result['loss']:.4f}\")"
   ],
   "id": "9d69d5c9f9d6fb8c",
   "outputs": [
    {
     "name": "stdout",
     "output_type": "stream",
     "text": [
      "\n",
      "Best Hyperparameters Found:\n",
      "  Hidden Channels : 143\n",
      "  Learning Rate   : 0.00448\n",
      "  Num Layers      : 3\n",
      "  Dropout         : 0.35\n",
      "\n",
      "Performance Metrics:\n",
      "  F1 Score        : 0.8479\n",
      "  AUC             : 0.9154\n",
      "  Average Loss    : 1.2360\n"
     ]
    }
   ],
   "execution_count": 19
  },
  {
   "metadata": {},
   "cell_type": "markdown",
   "source": "## GAN",
   "id": "ddcf1955cdc81503"
  },
  {
   "metadata": {
    "ExecuteTime": {
     "end_time": "2025-06-12T10:35:41.341053Z",
     "start_time": "2025-06-12T10:06:09.920770Z"
    }
   },
   "cell_type": "code",
   "source": [
    "result = run_gcn_ga()\n",
    "\n",
    "print(\"\\nBest Hyperparameters Found:\")\n",
    "print(f\"  Hidden Channels : {result['best_params']['hidden_channels']}\")\n",
    "print(f\"  Learning Rate   : {result['best_params']['lr']:.5f}\")\n",
    "print(f\"  Dropout         : {result['best_params']['dropout']:.2f}\")\n",
    "\n",
    "print(\"\\nPerformance Metrics:\")\n",
    "print(f\"  F1 Score        : {result['f1']:.4f}\")\n",
    "print(f\"  AUC             : {result['auc']:.4f}\")\n",
    "print(f\"  Average Loss    : {result['loss']:.4f}\")"
   ],
   "id": "f6f5350983471294",
   "outputs": [
    {
     "name": "stdout",
     "output_type": "stream",
     "text": [
      "\n",
      "Best Hyperparameters Found:\n",
      "  Hidden Channels : 202\n",
      "  Learning Rate   : 0.00629\n",
      "  Dropout         : 0.06\n",
      "\n",
      "Performance Metrics:\n",
      "  F1 Score        : 0.8476\n",
      "  AUC             : 0.5000\n",
      "  Average Loss    : 31.2233\n"
     ]
    }
   ],
   "execution_count": 4
  },
  {
   "metadata": {},
   "cell_type": "markdown",
   "source": "# Results after optimization with Particle Swarm Optimization",
   "id": "b391a2e7cc9e3c8b"
  },
  {
   "metadata": {},
   "cell_type": "markdown",
   "source": "## GCN",
   "id": "21300a69e07f8049"
  },
  {
   "metadata": {
    "ExecuteTime": {
     "end_time": "2025-06-10T18:53:17.335184Z",
     "start_time": "2025-06-10T18:42:59.638651Z"
    }
   },
   "cell_type": "code",
   "source": [
    "result = run_gcn_pso()\n",
    "\n",
    "print(\"\\nBest Hyperparameters Found:\")\n",
    "print(f\"  Hidden Channels : {result['best_params']['hidden_channels']}\")\n",
    "print(f\"  Learning Rate   : {result['best_params']['lr']:.5f}\")\n",
    "print(f\"  Num Layers      : {result['best_params']['num_layers']}\")\n",
    "print(f\"  Dropout         : {result['best_params']['dropout']:.2f}\")\n",
    "\n",
    "print(\"\\nPerformance Metrics:\")\n",
    "print(f\"  F1 Score        : {result['f1']:.4f}\")\n",
    "print(f\"  AUC             : {result['auc']:.4f}\")\n",
    "print(f\"  Average Loss    : {result['loss']:.4f}\")"
   ],
   "id": "32dfaf51b70af8ce",
   "outputs": [
    {
     "name": "stdout",
     "output_type": "stream",
     "text": [
      "\n",
      "Best Hyperparameters Found:\n",
      "  Hidden Channels : 32\n",
      "  Learning Rate   : 0.01579\n",
      "  Num Layers      : 4\n",
      "  Dropout         : 0.00\n",
      "\n",
      "Performance Metrics:\n",
      "  F1 Score        : 0.8498\n",
      "  AUC             : 0.8287\n",
      "  Average Loss    : 1.3822\n"
     ]
    }
   ],
   "execution_count": 5
  },
  {
   "metadata": {},
   "cell_type": "markdown",
   "source": "## GAN",
   "id": "a30b2a798bde10ab"
  },
  {
   "metadata": {
    "ExecuteTime": {
     "end_time": "2025-06-11T22:15:40.976055Z",
     "start_time": "2025-06-11T22:05:34.312615Z"
    }
   },
   "cell_type": "code",
   "source": [
    "result = run_gan_pso()\n",
    "\n",
    "print(\"\\nBest Hyperparameters Found:\")\n",
    "print(f\"  Hidden Channels : {result['best_params']['hidden_channels']}\")\n",
    "print(f\"  Learning Rate   : {result['best_params']['lr']:.5f}\")\n",
    "print(f\"  Dropout         : {result['best_params']['dropout']:.2f}\")\n",
    "\n",
    "print(\"\\nPerformance Metrics:\")\n",
    "print(f\"  F1 Score        : {result['f1']:.4f}\")\n",
    "print(f\"  AUC             : {result['auc']:.4f}\")\n",
    "print(f\"  Average Loss    : {result['loss']:.4f}\")"
   ],
   "id": "2c3d48b7e454cca4",
   "outputs": [
    {
     "name": "stdout",
     "output_type": "stream",
     "text": [
      "\n",
      "Best Hyperparameters Found:\n",
      "  Hidden Channels : 277\n",
      "  Learning Rate   : 0.00308\n",
      "  Dropout         : 0.45\n",
      "\n",
      "Performance Metrics:\n",
      "  F1 Score        : 0.7497\n",
      "  AUC             : 0.5540\n",
      "  Average Loss    : 0.0264\n"
     ]
    }
   ],
   "execution_count": 15
  },
  {
   "metadata": {},
   "cell_type": "markdown",
   "source": "# Results after optimization with Simulated Annealing",
   "id": "2a65448e09728642"
  },
  {
   "metadata": {},
   "cell_type": "markdown",
   "source": "## GCN",
   "id": "9a212d425e6d6700"
  },
  {
   "metadata": {
    "ExecuteTime": {
     "end_time": "2025-06-10T19:15:19.770409Z",
     "start_time": "2025-06-10T19:02:21.546197Z"
    }
   },
   "cell_type": "code",
   "source": [
    "result = run_gcn_sa()\n",
    "\n",
    "print(\"\\nBest Hyperparameters Found:\")\n",
    "print(f\"  Hidden Channels : {result['best_params']['hidden_channels']}\")\n",
    "print(f\"  Learning Rate   : {result['best_params']['lr']:.5f}\")\n",
    "print(f\"  Num Layers      : {result['best_params']['num_layers']}\")\n",
    "print(f\"  Dropout         : {result['best_params']['dropout']:.2f}\")\n",
    "\n",
    "print(\"\\nPerformance Metrics:\")\n",
    "print(f\"  F1 Score        : {result['f1']:.4f}\")\n",
    "print(f\"  AUC             : {result['auc']:.4f}\")\n",
    "print(f\"  Average Loss    : {result['loss']:.4f}\")"
   ],
   "id": "ec4c277fd3fc03b7",
   "outputs": [
    {
     "name": "stdout",
     "output_type": "stream",
     "text": [
      "\n",
      "Best Hyperparameters Found:\n",
      "  Hidden Channels : 112\n",
      "  Learning Rate   : 0.03100\n",
      "  Num Layers      : 3\n",
      "  Dropout         : 0.55\n",
      "\n",
      "Performance Metrics:\n",
      "  F1 Score        : 0.8393\n",
      "  AUC             : 0.8354\n",
      "  Average Loss    : 1.3810\n"
     ]
    }
   ],
   "execution_count": 9
  },
  {
   "metadata": {},
   "cell_type": "markdown",
   "source": "## GAN",
   "id": "dbc590298df32d27"
  },
  {
   "metadata": {
    "ExecuteTime": {
     "end_time": "2025-06-11T22:24:59.310776Z",
     "start_time": "2025-06-11T22:15:41.049900Z"
    }
   },
   "cell_type": "code",
   "source": [
    "result = run_gan_sa()\n",
    "\n",
    "print(\"\\nBest Hyperparameters Found:\")\n",
    "print(f\"  Hidden Channels : {result['best_params']['hidden_channels']}\")\n",
    "print(f\"  Learning Rate   : {result['best_params']['lr']:.5f}\")\n",
    "print(f\"  Dropout         : {result['best_params']['dropout']:.2f}\")\n",
    "\n",
    "print(\"\\nPerformance Metrics:\")\n",
    "print(f\"  F1 Score        : {result['f1']:.4f}\")\n",
    "print(f\"  AUC             : {result['auc']:.4f}\")\n",
    "print(f\"  Average Loss    : {result['loss']:.4f}\")"
   ],
   "id": "a41e1a66d18c5bd0",
   "outputs": [
    {
     "name": "stdout",
     "output_type": "stream",
     "text": [
      "\n",
      "Best Hyperparameters Found:\n",
      "  Hidden Channels : 242\n",
      "  Learning Rate   : 0.00001\n",
      "  Dropout         : 0.10\n",
      "\n",
      "Performance Metrics:\n",
      "  F1 Score        : 0.6804\n",
      "  AUC             : 0.5000\n",
      "  Average Loss    : -3.8527\n"
     ]
    }
   ],
   "execution_count": 16
  },
  {
   "metadata": {},
   "cell_type": "markdown",
   "source": "# Results after optimization with Artificial Bee Colony",
   "id": "274dd73b5140e0d6"
  },
  {
   "metadata": {},
   "cell_type": "markdown",
   "source": "## GCN",
   "id": "e999c2bb65b1135a"
  },
  {
   "metadata": {
    "ExecuteTime": {
     "end_time": "2025-06-10T19:27:59.226041Z",
     "start_time": "2025-06-10T19:15:39.070763Z"
    }
   },
   "cell_type": "code",
   "source": [
    "result = run_gcn_abc()\n",
    "\n",
    "print(\"\\nBest Hyperparameters Found:\")\n",
    "print(f\"  Hidden Channels : {result['best_params']['hidden_channels']}\")\n",
    "print(f\"  Learning Rate   : {result['best_params']['lr']:.5f}\")\n",
    "print(f\"  Num Layers      : {result['best_params']['num_layers']}\")\n",
    "print(f\"  Dropout         : {result['best_params']['dropout']:.2f}\")\n",
    "\n",
    "print(\"\\nPerformance Metrics:\")\n",
    "print(f\"  F1 Score        : {result['f1']:.4f}\")\n",
    "print(f\"  AUC             : {result['auc']:.4f}\")\n",
    "print(f\"  Average Loss    : {result['loss']:.4f}\")"
   ],
   "id": "b253c16cf5abad7e",
   "outputs": [
    {
     "name": "stdout",
     "output_type": "stream",
     "text": [
      "\n",
      "Best Hyperparameters Found:\n",
      "  Hidden Channels : 32\n",
      "  Learning Rate   : 0.02367\n",
      "  Num Layers      : 3\n",
      "  Dropout         : 0.48\n",
      "\n",
      "Performance Metrics:\n",
      "  F1 Score        : 0.8490\n",
      "  AUC             : 0.5000\n",
      "  Average Loss    : 31.2235\n"
     ]
    }
   ],
   "execution_count": 12
  },
  {
   "metadata": {},
   "cell_type": "markdown",
   "source": "## GAN",
   "id": "eccb01389a895f45"
  },
  {
   "metadata": {
    "ExecuteTime": {
     "end_time": "2025-06-11T22:36:10.792098Z",
     "start_time": "2025-06-11T22:24:59.428285Z"
    }
   },
   "cell_type": "code",
   "source": [
    "result = run_gan_abc()\n",
    "\n",
    "print(\"\\nBest Hyperparameters Found:\")\n",
    "print(f\"  Hidden Channels : {result['best_params']['hidden_channels']}\")\n",
    "print(f\"  Learning Rate   : {result['best_params']['lr']:.5f}\")\n",
    "print(f\"  Dropout         : {result['best_params']['dropout']:.2f}\")\n",
    "\n",
    "print(\"\\nPerformance Metrics:\")\n",
    "print(f\"  F1 Score        : {result['f1']:.4f}\")\n",
    "print(f\"  AUC             : {result['auc']:.4f}\")\n",
    "print(f\"  Average Loss    : {result['loss']:.4f}\")"
   ],
   "id": "76c78e2bd06ba9bc",
   "outputs": [
    {
     "name": "stdout",
     "output_type": "stream",
     "text": [
      "\n",
      "Best Hyperparameters Found:\n",
      "  Hidden Channels : 405\n",
      "  Learning Rate   : 0.00276\n",
      "  Dropout         : 0.47\n",
      "\n",
      "Performance Metrics:\n",
      "  F1 Score        : 0.7480\n",
      "  AUC             : 0.5756\n",
      "  Average Loss    : 0.0275\n"
     ]
    }
   ],
   "execution_count": 17
  },
  {
   "metadata": {},
   "cell_type": "markdown",
   "source": "# Results after optimization with Ant Colony Optimization",
   "id": "1ad816c2917594e8"
  },
  {
   "metadata": {},
   "cell_type": "markdown",
   "source": "## GCN",
   "id": "42584449c3321bdd"
  },
  {
   "metadata": {
    "ExecuteTime": {
     "end_time": "2025-06-12T19:08:16.236246Z",
     "start_time": "2025-06-12T19:03:05.751387Z"
    }
   },
   "cell_type": "code",
   "source": [
    "result = run_gcn_aco(train_data, test_data)\n",
    "\n",
    "print(\"\\nBest Hyperparameters Found:\")\n",
    "print(f\"  Hidden Channels : {result['best_params']['hidden_channels']}\")\n",
    "print(f\"  Learning Rate   : {result['best_params']['lr']:.5f}\")\n",
    "print(f\"  Num Layers      : {result['best_params']['num_layers']}\")\n",
    "print(f\"  Dropout         : {result['best_params']['dropout']:.2f}\")\n",
    "\n",
    "print(\"\\nPerformance Metrics:\")\n",
    "print(f\"  F1 Score        : {result['f1']:.4f}\")\n",
    "print(f\"  AUC             : {result['auc']:.4f}\")\n",
    "print(f\"  Average Loss    : {result['loss']:.4f}\")"
   ],
   "id": "8c0b7ffdb962db10",
   "outputs": [
    {
     "name": "stdout",
     "output_type": "stream",
     "text": [
      "\n",
      "Best Hyperparameters Found:\n",
      "  Hidden Channels : 64\n",
      "  Learning Rate   : 0.01000\n",
      "  Num Layers      : 4\n",
      "  Dropout         : 0.00\n",
      "\n",
      "Performance Metrics:\n",
      "  F1 Score        : 0.8526\n",
      "  AUC             : 0.9175\n",
      "  Average Loss    : 1.2008\n"
     ]
    }
   ],
   "execution_count": 26
  },
  {
   "metadata": {},
   "cell_type": "markdown",
   "source": "## GAN",
   "id": "74f6e61d1dbfd018"
  },
  {
   "metadata": {
    "ExecuteTime": {
     "end_time": "2025-06-12T19:25:36.760723Z",
     "start_time": "2025-06-12T19:08:37.560075Z"
    }
   },
   "cell_type": "code",
   "source": [
    "result=run_gan_aco(train_data, test_data)\n",
    "\n",
    "print(\"\\nBest Hyperparameters Found:\")\n",
    "print(f\"  Hidden Channels : {result['best_params']['hidden_channels']}\")\n",
    "print(f\"  Learning Rate   : {result['best_params']['lr']:.5f}\")\n",
    "print(f\"  Dropout         : {result['best_params']['dropout']:.2f}\")\n",
    "\n",
    "print(\"\\nPerformance Metrics:\")\n",
    "print(f\"  F1 Score        : {result['f1']:.4f}\")\n",
    "print(f\"  AUC             : {result['auc']:.4f}\")\n",
    "print(f\"  Average Loss    : {result['loss']:.4f}\")"
   ],
   "id": "cc088e931dc89413",
   "outputs": [
    {
     "name": "stdout",
     "output_type": "stream",
     "text": [
      "\n",
      "Best Hyperparameters Found:\n",
      "  Hidden Channels : 512\n",
      "  Learning Rate   : 0.00060\n",
      "  Dropout         : 0.70\n",
      "\n",
      "Performance Metrics:\n",
      "  F1 Score        : 0.7490\n",
      "  AUC             : 0.7728\n",
      "  Average Loss    : 0.1738\n"
     ]
    }
   ],
   "execution_count": 29
  },
  {
   "metadata": {},
   "cell_type": "markdown",
   "source": "# Results after optimization with Hill Climbing",
   "id": "fd93d20cec426be4"
  },
  {
   "metadata": {},
   "cell_type": "markdown",
   "source": "## GCN",
   "id": "fc39556c84ced5b2"
  },
  {
   "metadata": {
    "ExecuteTime": {
     "end_time": "2025-06-11T23:18:48.199614Z",
     "start_time": "2025-06-11T11:05:34.280898Z"
    }
   },
   "cell_type": "code",
   "outputs": [
    {
     "name": "stdout",
     "output_type": "stream",
     "text": [
      "\n",
      "Best Hyperparameters Found:\n",
      "  Hidden Channels : 58\n",
      "  Learning Rate   : 0.02508\n",
      "  Num Layers      : 3\n",
      "  Dropout         : 0.54\n",
      "\n",
      "Performance Metrics:\n",
      "  F1 Score        : 0.8491\n",
      "  AUC             : 0.7861\n",
      "  Average Loss    : 1.3760\n"
     ]
    }
   ],
   "execution_count": 6,
   "source": [
    "result = run_gcn_hc()\n",
    "\n",
    "print(\"\\nBest Hyperparameters Found:\")\n",
    "print(f\"  Hidden Channels : {result['best_params']['hidden_channels']}\")\n",
    "print(f\"  Learning Rate   : {result['best_params']['lr']:.5f}\")\n",
    "print(f\"  Num Layers      : {result['best_params']['num_layers']}\")\n",
    "print(f\"  Dropout         : {result['best_params']['dropout']:.2f}\")\n",
    "\n",
    "print(\"\\nPerformance Metrics:\")\n",
    "print(f\"  F1 Score        : {result['f1']:.4f}\")\n",
    "print(f\"  AUC             : {result['auc']:.4f}\")\n",
    "print(f\"  Average Loss    : {result['loss']:.4f}\")"
   ],
   "id": "1a9b469bd6fd05c1"
  },
  {
   "metadata": {},
   "cell_type": "markdown",
   "source": "## GAN",
   "id": "acc36610929cdd1d"
  },
  {
   "metadata": {
    "ExecuteTime": {
     "end_time": "2025-06-11T22:47:58.095254Z",
     "start_time": "2025-06-11T22:36:11.029860Z"
    }
   },
   "cell_type": "code",
   "source": [
    "result = run_gan_hc()\n",
    "\n",
    "print(\"\\nBest Hyperparameters Found:\")\n",
    "print(f\"  Hidden Channels : {result['best_params']['hidden_channels']}\")\n",
    "print(f\"  Learning Rate   : {result['best_params']['lr']:.5f}\")\n",
    "print(f\"  Dropout         : {result['best_params']['dropout']:.2f}\")\n",
    "\n",
    "print(\"\\nPerformance Metrics:\")\n",
    "print(f\"  F1 Score        : {result['f1']:.4f}\")\n",
    "print(f\"  AUC             : {result['auc']:.4f}\")\n",
    "print(f\"  Average Loss    : {result['loss']:.4f}\")"
   ],
   "id": "e7e86672f42f9c5e",
   "outputs": [
    {
     "name": "stdout",
     "output_type": "stream",
     "text": [
      "\n",
      "Best Hyperparameters Found:\n",
      "  Hidden Channels : 398\n",
      "  Learning Rate   : 0.00228\n",
      "  Dropout         : 0.16\n",
      "\n",
      "Performance Metrics:\n",
      "  F1 Score        : 0.7494\n",
      "  AUC             : 0.5000\n",
      "  Average Loss    : -4.2903\n"
     ]
    }
   ],
   "execution_count": 18
  },
  {
   "metadata": {},
   "cell_type": "markdown",
   "source": "# Results after optimization with Random Search",
   "id": "3d79ed570c7e5e2c"
  },
  {
   "metadata": {},
   "cell_type": "markdown",
   "source": "## GCN",
   "id": "b6c2e87484641f9f"
  },
  {
   "metadata": {
    "ExecuteTime": {
     "end_time": "2025-06-11T23:18:48.199614Z",
     "start_time": "2025-06-11T11:12:50.501504Z"
    }
   },
   "cell_type": "code",
   "outputs": [
    {
     "name": "stdout",
     "output_type": "stream",
     "text": [
      "\n",
      "Best Hyperparameters Found:\n",
      "  Hidden Channels : 125\n",
      "  Learning Rate   : 0.01720\n",
      "  Num Layers      : 3\n",
      "  Dropout         : 0.50\n",
      "\n",
      "Performance Metrics:\n",
      "  F1 Score        : 0.8411\n",
      "  AUC             : 0.9035\n",
      "  Average Loss    : 1.2390\n"
     ]
    }
   ],
   "execution_count": 7,
   "source": [
    "result = run_gcn_ra()\n",
    "\n",
    "print(\"\\nBest Hyperparameters Found:\")\n",
    "print(f\"  Hidden Channels : {result['best_params']['hidden_channels']}\")\n",
    "print(f\"  Learning Rate   : {result['best_params']['lr']:.5f}\")\n",
    "print(f\"  Num Layers      : {result['best_params']['num_layers']}\")\n",
    "print(f\"  Dropout         : {result['best_params']['dropout']:.2f}\")\n",
    "\n",
    "print(\"\\nPerformance Metrics:\")\n",
    "print(f\"  F1 Score        : {result['f1']:.4f}\")\n",
    "print(f\"  AUC             : {result['auc']:.4f}\")\n",
    "print(f\"  Average Loss    : {result['loss']:.4f}\")"
   ],
   "id": "6e30c6234911c49"
  },
  {
   "metadata": {},
   "cell_type": "markdown",
   "source": "## GAN",
   "id": "1d507b10d273e67a"
  },
  {
   "metadata": {
    "ExecuteTime": {
     "end_time": "2025-06-12T09:22:12.005482Z",
     "start_time": "2025-06-12T09:12:12.402562Z"
    }
   },
   "cell_type": "code",
   "source": [
    "result = run_gan_ra()\n",
    "\n",
    "print(\"\\nBest Hyperparameters Found:\")\n",
    "print(f\"  Hidden Channels : {result['best_params']['hidden_channels']}\")\n",
    "print(f\"  Learning Rate   : {result['best_params']['lr']:.5f}\")\n",
    "print(f\"  Dropout         : {result['best_params']['dropout']:.2f}\")\n",
    "\n",
    "print(\"\\nPerformance Metrics:\")\n",
    "print(f\"  F1 Score        : {result['f1']:.4f}\")\n",
    "print(f\"  AUC             : {result['auc']:.4f}\")\n",
    "print(f\"  Average Loss    : {result['loss']:.4f}\")"
   ],
   "id": "5a4a0c2da16fc659",
   "outputs": [
    {
     "name": "stdout",
     "output_type": "stream",
     "text": [
      "\n",
      "Best Hyperparameters Found:\n",
      "  Hidden Channels : 416\n",
      "  Learning Rate   : 0.00258\n",
      "  Dropout         : 0.32\n",
      "\n",
      "Performance Metrics:\n",
      "  F1 Score        : 0.7568\n",
      "  AUC             : 0.7725\n",
      "  Average Loss    : 0.0348\n"
     ]
    }
   ],
   "execution_count": 4
  },
  {
   "metadata": {},
   "cell_type": "markdown",
   "source": "# Results after optimization with Bayesian Optimization",
   "id": "c8604ff65139c909"
  },
  {
   "metadata": {},
   "cell_type": "markdown",
   "source": "## GCN",
   "id": "4bc1b5985365693f"
  },
  {
   "metadata": {
    "ExecuteTime": {
     "end_time": "2025-06-12T18:36:14.273049Z",
     "start_time": "2025-06-12T18:30:51.048874Z"
    }
   },
   "cell_type": "code",
   "source": [
    "result = run_gcn_bo(train_data, test_data)\n",
    "\n",
    "print(\"\\nBest Hyperparameters Found:\")\n",
    "print(f\"  Hidden Channels : {result['best_params']['hidden_channels']}\")\n",
    "print(f\"  Learning Rate   : {result['best_params']['lr']:.5f}\")\n",
    "print(f\"  Num Layers      : {result['best_params']['num_layers']}\")\n",
    "print(f\"  Dropout         : {result['best_params']['dropout']:.2f}\")\n",
    "\n",
    "print(\"\\nPerformance Metrics:\")\n",
    "print(f\"  F1 Score        : {result['f1']:.4f}\")\n",
    "print(f\"  AUC             : {result['auc']:.4f}\")\n",
    "print(f\"  Average Loss    : {result['loss']:.4f}\")"
   ],
   "id": "c6e567ca6f1824f6",
   "outputs": [
    {
     "name": "stdout",
     "output_type": "stream",
     "text": [
      "\n",
      "Best Hyperparameters Found:\n",
      "  Hidden Channels : 144\n",
      "  Learning Rate   : 0.00264\n",
      "  Num Layers      : 4\n",
      "  Dropout         : 0.05\n",
      "\n",
      "Performance Metrics:\n",
      "  F1 Score        : 0.8524\n",
      "  AUC             : 0.9179\n",
      "  Average Loss    : 1.2434\n"
     ]
    }
   ],
   "execution_count": 20
  },
  {
   "metadata": {},
   "cell_type": "markdown",
   "source": "## GAN",
   "id": "8e353c8804c4c8b1"
  },
  {
   "metadata": {
    "ExecuteTime": {
     "end_time": "2025-06-12T18:46:41.198913Z",
     "start_time": "2025-06-12T18:41:00.836513Z"
    }
   },
   "cell_type": "code",
   "source": [
    "result = run_gan_bo(train_data, test_data)\n",
    "\n",
    "print(\"\\nBest Hyperparameters Found:\")\n",
    "print(f\"  Hidden Channels : {result['best_params']['hidden_channels']}\")\n",
    "print(f\"  Learning Rate   : {result['best_params']['lr']:.5f}\")\n",
    "print(f\"  Dropout         : {result['best_params']['dropout']:.2f}\")\n",
    "\n",
    "print(\"\\nPerformance Metrics:\")\n",
    "print(f\"  F1 Score        : {result['f1']:.4f}\")\n",
    "print(f\"  AUC             : {result['auc']:.4f}\")\n",
    "print(f\"  Average Loss    : {result['loss']:.4f}\")"
   ],
   "id": "16b478ba5f11a8d4",
   "outputs": [
    {
     "name": "stdout",
     "output_type": "stream",
     "text": [
      "\n",
      "Best Hyperparameters Found:\n",
      "  Hidden Channels : 160\n",
      "  Learning Rate   : 0.00062\n",
      "  Dropout         : 0.35\n",
      "\n",
      "Performance Metrics:\n",
      "  F1 Score        : 0.7458\n",
      "  AUC             : 0.7669\n",
      "  Average Loss    : 0.1828\n"
     ]
    }
   ],
   "execution_count": 24
  },
  {
   "metadata": {},
   "cell_type": "markdown",
   "source": "# Results after optimizing with Optuna",
   "id": "6cedfc8a0e10d7bf"
  },
  {
   "metadata": {},
   "cell_type": "markdown",
   "source": "## GCN",
   "id": "e614f9292e479ae1"
  },
  {
   "metadata": {
    "ExecuteTime": {
     "end_time": "2025-06-12T18:04:48.417183Z",
     "start_time": "2025-06-12T17:56:25.282386Z"
    }
   },
   "cell_type": "code",
   "source": [
    "result = run_gcn_optuna()\n",
    "\n",
    "print(\"\\nBest Hyperparameters Found:\")\n",
    "print(f\"  Hidden Channels : {result['best_params']['hidden_channels']}\")\n",
    "print(f\"  Learning Rate   : {result['best_params']['lr']:.5f}\")\n",
    "print(f\"  Num Layers      : {result['best_params']['num_layers']}\")\n",
    "print(f\"  Dropout         : {result['best_params']['dropout']:.2f}\")\n",
    "\n",
    "print(\"\\nPerformance Metrics:\")\n",
    "print(f\"  F1 Score        : {result['f1']:.4f}\")\n",
    "print(f\"  AUC             : {result['auc']:.4f}\")\n",
    "print(f\"  Average Loss    : {result['loss']:.4f}\")"
   ],
   "id": "ea51fd038055e3bc",
   "outputs": [
    {
     "name": "stderr",
     "output_type": "stream",
     "text": [
      "[I 2025-06-12 19:56:25,353] A new study created in memory with name: no-name-62abfe02-5699-4890-b902-1848d0bf8cec\n",
      "[I 2025-06-12 19:56:54,306] Trial 0 finished with value: -0.7422966082908447 and parameters: {'hidden_channels': 228, 'lr': 0.00010650363018688238, 'num_layers': 4, 'dropout': 0.5561634941565968}. Best is trial 0 with value: -0.7422966082908447.\n",
      "[I 2025-06-12 19:57:03,981] Trial 1 finished with value: -0.7941541520726247 and parameters: {'hidden_channels': 67, 'lr': 0.001985802358640859, 'num_layers': 3, 'dropout': 0.48122728482664434}. Best is trial 1 with value: -0.7941541520726247.\n",
      "[I 2025-06-12 19:57:21,183] Trial 2 finished with value: -0.8475344185491959 and parameters: {'hidden_channels': 137, 'lr': 0.015525247915454551, 'num_layers': 4, 'dropout': 0.5794923157284809}. Best is trial 2 with value: -0.8475344185491959.\n",
      "[I 2025-06-12 19:58:00,210] Trial 3 finished with value: -0.7809033708836948 and parameters: {'hidden_channels': 158, 'lr': 0.0001800540053010709, 'num_layers': 4, 'dropout': 0.180997245002837}. Best is trial 2 with value: -0.8475344185491959.\n",
      "[I 2025-06-12 19:58:32,658] Trial 4 finished with value: -0.7107184099842143 and parameters: {'hidden_channels': 174, 'lr': 0.00013328218334435375, 'num_layers': 3, 'dropout': 0.5139367308222689}. Best is trial 2 with value: -0.8475344185491959.\n",
      "[I 2025-06-12 19:58:49,185] Trial 5 finished with value: -0.7879593035676138 and parameters: {'hidden_channels': 185, 'lr': 0.0028336968801615575, 'num_layers': 2, 'dropout': 0.620078225486292}. Best is trial 2 with value: -0.8475344185491959.\n",
      "[I 2025-06-12 19:58:59,879] Trial 6 finished with value: -0.8209606379203573 and parameters: {'hidden_channels': 125, 'lr': 0.005884924238192805, 'num_layers': 2, 'dropout': 0.0694779495333544}. Best is trial 2 with value: -0.8475344185491959.\n",
      "[I 2025-06-12 19:59:09,186] Trial 7 finished with value: -0.7473228273891808 and parameters: {'hidden_channels': 110, 'lr': 0.0016580195696102456, 'num_layers': 2, 'dropout': 0.24249379065651164}. Best is trial 2 with value: -0.8475344185491959.\n",
      "[I 2025-06-12 19:59:19,599] Trial 8 finished with value: -0.759422535384464 and parameters: {'hidden_channels': 84, 'lr': 0.00048482779702707006, 'num_layers': 3, 'dropout': 0.32314339035370376}. Best is trial 2 with value: -0.8475344185491959.\n",
      "[I 2025-06-12 19:59:27,543] Trial 9 finished with value: -0.790959737531702 and parameters: {'hidden_channels': 61, 'lr': 0.034301156804416276, 'num_layers': 2, 'dropout': 0.53579087768843}. Best is trial 2 with value: -0.8475344185491959.\n",
      "[I 2025-06-12 19:59:58,067] Trial 10 finished with value: -0.6666666666666666 and parameters: {'hidden_channels': 248, 'lr': 0.0707272845273937, 'num_layers': 4, 'dropout': 0.6565417237562793}. Best is trial 2 with value: -0.8475344185491959.\n",
      "[I 2025-06-12 20:00:10,662] Trial 11 finished with value: -0.8384034490144192 and parameters: {'hidden_channels': 124, 'lr': 0.015648292710799858, 'num_layers': 3, 'dropout': 0.010867164476452154}. Best is trial 2 with value: -0.8475344185491959.\n",
      "[I 2025-06-12 20:00:18,379] Trial 12 finished with value: -0.8515573181034303 and parameters: {'hidden_channels': 32, 'lr': 0.01345645780176007, 'num_layers': 4, 'dropout': 0.018360628596744415}. Best is trial 12 with value: -0.8515573181034303.\n",
      "[I 2025-06-12 20:00:27,398] Trial 13 finished with value: -0.8503639338712408 and parameters: {'hidden_channels': 36, 'lr': 0.012562281879151342, 'num_layers': 4, 'dropout': 0.3936695920443739}. Best is trial 12 with value: -0.8515573181034303.\n",
      "[I 2025-06-12 20:00:36,593] Trial 14 finished with value: -0.8494480369191062 and parameters: {'hidden_channels': 37, 'lr': 0.008672413824908352, 'num_layers': 4, 'dropout': 0.36565626836878823}. Best is trial 12 with value: -0.8515573181034303.\n",
      "[I 2025-06-12 20:00:45,051] Trial 15 finished with value: -0.8064918851435705 and parameters: {'hidden_channels': 33, 'lr': 0.09954218816778301, 'num_layers': 4, 'dropout': 0.3869595266560109}. Best is trial 12 with value: -0.8515573181034303.\n",
      "[I 2025-06-12 20:00:58,096] Trial 16 finished with value: -0.8263368898882124 and parameters: {'hidden_channels': 91, 'lr': 0.03161604957507381, 'num_layers': 4, 'dropout': 0.14029974109831053}. Best is trial 12 with value: -0.8515573181034303.\n",
      "[I 2025-06-12 20:01:06,779] Trial 17 finished with value: -0.8398032782297838 and parameters: {'hidden_channels': 55, 'lr': 0.006100509754534473, 'num_layers': 3, 'dropout': 0.4384116277082207}. Best is trial 12 with value: -0.8515573181034303.\n",
      "[I 2025-06-12 20:01:19,801] Trial 18 finished with value: -0.8051632124529359 and parameters: {'hidden_channels': 94, 'lr': 0.0009614727030708708, 'num_layers': 4, 'dropout': 0.27173620081328703}. Best is trial 12 with value: -0.8515573181034303.\n",
      "[I 2025-06-12 20:01:26,948] Trial 19 finished with value: -0.8462572272542733 and parameters: {'hidden_channels': 32, 'lr': 0.030472458737374863, 'num_layers': 3, 'dropout': 0.14647693185847496}. Best is trial 12 with value: -0.8515573181034303.\n",
      "[I 2025-06-12 20:01:47,044] Trial 20 finished with value: -0.8469860457857138 and parameters: {'hidden_channels': 74, 'lr': 0.01278157545988675, 'num_layers': 4, 'dropout': 0.4290968790809043}. Best is trial 12 with value: -0.8515573181034303.\n",
      "[I 2025-06-12 20:02:07,127] Trial 21 finished with value: -0.8519280565469942 and parameters: {'hidden_channels': 45, 'lr': 0.006982219313951923, 'num_layers': 4, 'dropout': 0.2912537231848333}. Best is trial 21 with value: -0.8519280565469942.\n",
      "[I 2025-06-12 20:02:25,518] Trial 22 finished with value: -0.845323816374849 and parameters: {'hidden_channels': 48, 'lr': 0.005320586288617037, 'num_layers': 4, 'dropout': 0.25050453868768296}. Best is trial 21 with value: -0.8519280565469942.\n",
      "[I 2025-06-12 20:02:47,874] Trial 23 finished with value: -0.8424383188228421 and parameters: {'hidden_channels': 53, 'lr': 0.003771350957970566, 'num_layers': 4, 'dropout': 0.003611972685782179}. Best is trial 21 with value: -0.8519280565469942.\n",
      "[I 2025-06-12 20:03:12,837] Trial 24 finished with value: -0.8472075278686687 and parameters: {'hidden_channels': 73, 'lr': 0.019798120915855567, 'num_layers': 4, 'dropout': 0.31360856895166367}. Best is trial 21 with value: -0.8519280565469942.\n",
      "[I 2025-06-12 20:03:38,762] Trial 25 finished with value: -0.8500698826818008 and parameters: {'hidden_channels': 102, 'lr': 0.009925522558008411, 'num_layers': 3, 'dropout': 0.09395584326391826}. Best is trial 21 with value: -0.8519280565469942.\n",
      "[I 2025-06-12 20:03:49,183] Trial 26 finished with value: -0.8401814300960512 and parameters: {'hidden_channels': 43, 'lr': 0.05340649089171083, 'num_layers': 4, 'dropout': 0.4037733864443019}. Best is trial 21 with value: -0.8519280565469942.\n",
      "[I 2025-06-12 20:04:05,418] Trial 27 finished with value: -0.8050668162738351 and parameters: {'hidden_channels': 75, 'lr': 0.0009679327092794776, 'num_layers': 4, 'dropout': 0.20853287707034993}. Best is trial 21 with value: -0.8519280565469942.\n",
      "[I 2025-06-12 20:04:15,375] Trial 28 finished with value: -0.8297783826090636 and parameters: {'hidden_channels': 56, 'lr': 0.02025486337230636, 'num_layers': 4, 'dropout': 0.4770564700403805}. Best is trial 21 with value: -0.8519280565469942.\n",
      "[I 2025-06-12 20:04:48,409] Trial 29 finished with value: -0.8514469096011448 and parameters: {'hidden_channels': 218, 'lr': 0.00417724162824141, 'num_layers': 4, 'dropout': 0.29210520791480116}. Best is trial 21 with value: -0.8519280565469942.\n"
     ]
    },
    {
     "name": "stdout",
     "output_type": "stream",
     "text": [
      "\n",
      "Best Hyperparameters Found:\n",
      "  Hidden Channels : 45\n",
      "  Learning Rate   : 0.00698\n",
      "  Num Layers      : 4\n",
      "  Dropout         : 0.29\n",
      "\n",
      "Performance Metrics:\n",
      "  F1 Score        : 0.8519\n",
      "  AUC             : 0.9184\n",
      "  Average Loss    : 1.2382\n"
     ]
    }
   ],
   "execution_count": 16
  },
  {
   "metadata": {},
   "cell_type": "markdown",
   "source": "## GAN",
   "id": "37997c88a51ce6ac"
  },
  {
   "metadata": {
    "ExecuteTime": {
     "end_time": "2025-06-12T19:03:05.695266Z",
     "start_time": "2025-06-12T18:46:41.240653Z"
    }
   },
   "cell_type": "code",
   "source": [
    "result = run_gan_optuna()\n",
    "\n",
    "print(\"\\nBest Hyperparameters Found:\")\n",
    "print(f\"  Hidden Channels : {result['best_params']['hidden_channels']}\")\n",
    "print(f\"  Learning Rate   : {result['best_params']['lr']:.5f}\")\n",
    "print(f\"  Dropout         : {result['best_params']['dropout']:.2f}\")\n",
    "\n",
    "print(\"\\nPerformance Metrics:\")\n",
    "print(f\"  F1 Score        : {result['f1']:.4f}\")\n",
    "print(f\"  AUC             : {result['auc']:.4f}\")\n",
    "print(f\"  Average Loss    : {result['loss']:.4f}\")"
   ],
   "id": "4f5295bc97251e76",
   "outputs": [
    {
     "name": "stderr",
     "output_type": "stream",
     "text": [
      "[I 2025-06-12 20:46:41,312] A new study created in memory with name: no-name-3e5781ab-4e10-4ab9-b7c8-f9434391b2cf\n",
      "[I 2025-06-12 20:47:24,826] Trial 0 finished with value: -0.7402626523401754 and parameters: {'hidden_channels': 510, 'lr': 5.430084496031334e-05, 'dropout': 0.12647607665839158}. Best is trial 0 with value: -0.7402626523401754.\n",
      "[I 2025-06-12 20:47:52,476] Trial 1 finished with value: -0.7410790092909298 and parameters: {'hidden_channels': 276, 'lr': 0.00021313926909560517, 'dropout': 0.5400292282797245}. Best is trial 1 with value: -0.7410790092909298.\n",
      "[I 2025-06-12 20:48:06,673] Trial 2 finished with value: -0.6666666666666666 and parameters: {'hidden_channels': 169, 'lr': 0.015543512682181305, 'dropout': 0.0010090038802316292}. Best is trial 1 with value: -0.7410790092909298.\n",
      "[I 2025-06-12 20:48:18,878] Trial 3 finished with value: -0.6994442335986525 and parameters: {'hidden_channels': 105, 'lr': 0.0024567710388621908, 'dropout': 0.168138006907391}. Best is trial 1 with value: -0.7410790092909298.\n",
      "[I 2025-06-12 20:48:42,172] Trial 4 finished with value: -0.6666666666666666 and parameters: {'hidden_channels': 227, 'lr': 0.05541309573955227, 'dropout': 0.05271771044390404}. Best is trial 1 with value: -0.7410790092909298.\n",
      "[I 2025-06-12 20:48:55,000] Trial 5 finished with value: -0.6666666666666666 and parameters: {'hidden_channels': 111, 'lr': 0.024011329549037768, 'dropout': 0.18567932949709268}. Best is trial 1 with value: -0.7410790092909298.\n",
      "[I 2025-06-12 20:49:29,928] Trial 6 finished with value: -0.6666666666666666 and parameters: {'hidden_channels': 340, 'lr': 0.0053764380414801525, 'dropout': 0.2090962364641011}. Best is trial 1 with value: -0.7410790092909298.\n",
      "[I 2025-06-12 20:50:06,195] Trial 7 finished with value: -0.7498790810157194 and parameters: {'hidden_channels': 373, 'lr': 0.0007241553993396624, 'dropout': 0.2777243125531766}. Best is trial 7 with value: -0.7498790810157194.\n",
      "[I 2025-06-12 20:50:19,201] Trial 8 finished with value: -0.6683295185554707 and parameters: {'hidden_channels': 139, 'lr': 0.0030096719447074644, 'dropout': 0.41076561747764934}. Best is trial 7 with value: -0.7498790810157194.\n",
      "[I 2025-06-12 20:50:46,271] Trial 9 finished with value: -0.728208214587058 and parameters: {'hidden_channels': 276, 'lr': 2.4098420436410545e-05, 'dropout': 0.6035620475640049}. Best is trial 7 with value: -0.7498790810157194.\n",
      "[I 2025-06-12 20:51:21,470] Trial 10 finished with value: -0.7480802125413982 and parameters: {'hidden_channels': 408, 'lr': 0.0003972051729667, 'dropout': 0.3275395705549663}. Best is trial 7 with value: -0.7498790810157194.\n",
      "[I 2025-06-12 20:51:58,641] Trial 11 finished with value: -0.745685845428002 and parameters: {'hidden_channels': 410, 'lr': 0.0003528001697686146, 'dropout': 0.3577344232057455}. Best is trial 7 with value: -0.7498790810157194.\n",
      "[I 2025-06-12 20:52:35,410] Trial 12 finished with value: -0.7458419707853252 and parameters: {'hidden_channels': 398, 'lr': 0.00044327448387340934, 'dropout': 0.30300039982799487}. Best is trial 7 with value: -0.7498790810157194.\n",
      "[I 2025-06-12 20:53:16,158] Trial 13 finished with value: -0.7408055833452432 and parameters: {'hidden_channels': 480, 'lr': 0.00011688046239053747, 'dropout': 0.47275024009099653}. Best is trial 7 with value: -0.7498790810157194.\n",
      "[I 2025-06-12 20:53:51,815] Trial 14 finished with value: -0.7471858801760234 and parameters: {'hidden_channels': 387, 'lr': 0.0009721097309785186, 'dropout': 0.2854006969191319}. Best is trial 7 with value: -0.7498790810157194.\n",
      "[I 2025-06-12 20:54:29,596] Trial 15 finished with value: -0.6877525629029438 and parameters: {'hidden_channels': 448, 'lr': 1.3979555207286698e-05, 'dropout': 0.6659373887618099}. Best is trial 7 with value: -0.7498790810157194.\n",
      "[I 2025-06-12 20:55:01,075] Trial 16 finished with value: -0.7479011554035601 and parameters: {'hidden_channels': 337, 'lr': 0.0009348052540726405, 'dropout': 0.4284895822097043}. Best is trial 7 with value: -0.7498790810157194.\n",
      "[I 2025-06-12 20:55:33,887] Trial 17 finished with value: -0.7275094169052283 and parameters: {'hidden_channels': 329, 'lr': 9.171953429889512e-05, 'dropout': 0.26728724771348716}. Best is trial 7 with value: -0.7498790810157194.\n",
      "[I 2025-06-12 20:56:12,283] Trial 18 finished with value: -0.6666666666666666 and parameters: {'hidden_channels': 445, 'lr': 0.00739597379415379, 'dropout': 0.357374201180564}. Best is trial 7 with value: -0.7498790810157194.\n",
      "[I 2025-06-12 20:56:47,611] Trial 19 finished with value: -0.7038303801048601 and parameters: {'hidden_channels': 375, 'lr': 0.0013930703158669831, 'dropout': 0.4992804605545604}. Best is trial 7 with value: -0.7498790810157194.\n",
      "[I 2025-06-12 20:57:12,404] Trial 20 finished with value: -0.7429654627008035 and parameters: {'hidden_channels': 220, 'lr': 0.00047350418932867494, 'dropout': 0.09843519566033238}. Best is trial 7 with value: -0.7498790810157194.\n",
      "[I 2025-06-12 20:57:48,511] Trial 21 finished with value: -0.7476052519508875 and parameters: {'hidden_channels': 345, 'lr': 0.0009209970961785814, 'dropout': 0.41081820902150334}. Best is trial 7 with value: -0.7498790810157194.\n",
      "[I 2025-06-12 20:58:22,148] Trial 22 finished with value: -0.745007267050654 and parameters: {'hidden_channels': 319, 'lr': 0.00020385529324297642, 'dropout': 0.4211789751196729}. Best is trial 7 with value: -0.7498790810157194.\n",
      "[I 2025-06-12 20:58:53,769] Trial 23 finished with value: -0.6866386144651787 and parameters: {'hidden_channels': 294, 'lr': 0.0017294280678349138, 'dropout': 0.25671335280102353}. Best is trial 7 with value: -0.7498790810157194.\n",
      "[I 2025-06-12 20:59:36,642] Trial 24 finished with value: -0.7463735942926304 and parameters: {'hidden_channels': 429, 'lr': 0.0005233758980435311, 'dropout': 0.3309970555701111}. Best is trial 7 with value: -0.7498790810157194.\n",
      "[I 2025-06-12 21:00:14,381] Trial 25 finished with value: -0.7278434984970426 and parameters: {'hidden_channels': 367, 'lr': 4.708083333217435e-05, 'dropout': 0.462484702615676}. Best is trial 7 with value: -0.7498790810157194.\n",
      "[I 2025-06-12 21:00:43,554] Trial 26 finished with value: -0.6666666666666666 and parameters: {'hidden_channels': 247, 'lr': 0.0047796672566052635, 'dropout': 0.23246458948247617}. Best is trial 7 with value: -0.7498790810157194.\n",
      "[I 2025-06-12 21:01:29,029] Trial 27 finished with value: -0.7488428863188679 and parameters: {'hidden_channels': 472, 'lr': 0.0007551162990240966, 'dropout': 0.5456451483761396}. Best is trial 7 with value: -0.7498790810157194.\n",
      "[I 2025-06-12 21:02:17,360] Trial 28 finished with value: -0.7447869719367827 and parameters: {'hidden_channels': 484, 'lr': 0.00018815458951259683, 'dropout': 0.5809337168235674}. Best is trial 7 with value: -0.7498790810157194.\n",
      "[I 2025-06-12 21:03:05,684] Trial 29 finished with value: -0.7100769416252001 and parameters: {'hidden_channels': 507, 'lr': 5.280439105070579e-05, 'dropout': 0.6659629593491858}. Best is trial 7 with value: -0.7498790810157194.\n"
     ]
    },
    {
     "name": "stdout",
     "output_type": "stream",
     "text": [
      "\n",
      "Best Hyperparameters Found:\n",
      "  Hidden Channels : 373\n",
      "  Learning Rate   : 0.00072\n",
      "  Dropout         : 0.28\n",
      "\n",
      "Performance Metrics:\n",
      "  F1 Score        : 0.7499\n",
      "  AUC             : 0.7727\n",
      "  Average Loss    : 0.1771\n"
     ]
    }
   ],
   "execution_count": 25
  }
 ],
 "metadata": {
  "kernelspec": {
   "display_name": "Python 3",
   "language": "python",
   "name": "python3"
  },
  "language_info": {
   "codemirror_mode": {
    "name": "ipython",
    "version": 2
   },
   "file_extension": ".py",
   "mimetype": "text/x-python",
   "name": "python",
   "nbconvert_exporter": "python",
   "pygments_lexer": "ipython2",
   "version": "2.7.6"
  }
 },
 "nbformat": 4,
 "nbformat_minor": 5
}
