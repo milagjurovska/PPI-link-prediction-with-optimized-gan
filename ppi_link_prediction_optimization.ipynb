{
  "nbformat": 4,
  "nbformat_minor": 0,
  "metadata": {
    "colab": {
      "provenance": [],
      "authorship_tag": "ABX9TyNPSf6fbeu0A2+y/xLTj4mY",
      "include_colab_link": true
    },
    "kernelspec": {
      "name": "python3",
      "display_name": "Python 3"
    },
    "language_info": {
      "name": "python"
    }
  },
  "cells": [
    {
      "cell_type": "markdown",
      "metadata": {
        "id": "view-in-github",
        "colab_type": "text"
      },
      "source": [
        "<a href=\"https://colab.research.google.com/github/milagjurovska/PPI-link-prediction-with-optimized-gcn/blob/main/ppi_link_prediction_optimization.ipynb\" target=\"_parent\"><img src=\"https://colab.research.google.com/assets/colab-badge.svg\" alt=\"Open In Colab\"/></a>"
      ]
    },
    {
      "cell_type": "code",
      "execution_count": 2,
      "metadata": {
        "id": "ty0i-ckSPxMN"
      },
      "outputs": [],
      "source": [
        "import numpy as np\n",
        "import pandas as pd\n",
        "import matplotlib.pyplot as plt\n",
        "import seaborn as sns\n",
        "import networkx as nx\n",
        "from torch_geometric.data import Data\n",
        "import torch\n",
        "from torch_geometric.transforms import RandomLinkSplit\n",
        "from sklearn.metrics import roc_auc_score, average_precision_score\n",
        "from torch_geometric.nn import GCNConv\n",
        "from torch_geometric.utils import from_networkx, to_networkx\n",
        "from sklearn.preprocessing import LabelEncoder\n",
        "import torch.optim as optim\n",
        "from sklearn.metrics import roc_auc_score\n",
        "from sklearn.metrics import f1_score"
      ]
    },
    {
      "cell_type": "code",
      "source": [
        "from google.colab import files\n",
        "uploaded = files.upload()"
      ],
      "metadata": {
        "colab": {
          "base_uri": "https://localhost:8080/",
          "height": 73
        },
        "id": "42ds3YK8ADf1",
        "outputId": "8f767d9e-2998-49c3-95cd-2ca4dbf66676"
      },
      "execution_count": 3,
      "outputs": [
        {
          "output_type": "display_data",
          "data": {
            "text/plain": [
              "<IPython.core.display.HTML object>"
            ],
            "text/html": [
              "\n",
              "     <input type=\"file\" id=\"files-49fd701f-7a87-48b4-aed9-3edb3468fa39\" name=\"files[]\" multiple disabled\n",
              "        style=\"border:none\" />\n",
              "     <output id=\"result-49fd701f-7a87-48b4-aed9-3edb3468fa39\">\n",
              "      Upload widget is only available when the cell has been executed in the\n",
              "      current browser session. Please rerun this cell to enable.\n",
              "      </output>\n",
              "      <script>// Copyright 2017 Google LLC\n",
              "//\n",
              "// Licensed under the Apache License, Version 2.0 (the \"License\");\n",
              "// you may not use this file except in compliance with the License.\n",
              "// You may obtain a copy of the License at\n",
              "//\n",
              "//      http://www.apache.org/licenses/LICENSE-2.0\n",
              "//\n",
              "// Unless required by applicable law or agreed to in writing, software\n",
              "// distributed under the License is distributed on an \"AS IS\" BASIS,\n",
              "// WITHOUT WARRANTIES OR CONDITIONS OF ANY KIND, either express or implied.\n",
              "// See the License for the specific language governing permissions and\n",
              "// limitations under the License.\n",
              "\n",
              "/**\n",
              " * @fileoverview Helpers for google.colab Python module.\n",
              " */\n",
              "(function(scope) {\n",
              "function span(text, styleAttributes = {}) {\n",
              "  const element = document.createElement('span');\n",
              "  element.textContent = text;\n",
              "  for (const key of Object.keys(styleAttributes)) {\n",
              "    element.style[key] = styleAttributes[key];\n",
              "  }\n",
              "  return element;\n",
              "}\n",
              "\n",
              "// Max number of bytes which will be uploaded at a time.\n",
              "const MAX_PAYLOAD_SIZE = 100 * 1024;\n",
              "\n",
              "function _uploadFiles(inputId, outputId) {\n",
              "  const steps = uploadFilesStep(inputId, outputId);\n",
              "  const outputElement = document.getElementById(outputId);\n",
              "  // Cache steps on the outputElement to make it available for the next call\n",
              "  // to uploadFilesContinue from Python.\n",
              "  outputElement.steps = steps;\n",
              "\n",
              "  return _uploadFilesContinue(outputId);\n",
              "}\n",
              "\n",
              "// This is roughly an async generator (not supported in the browser yet),\n",
              "// where there are multiple asynchronous steps and the Python side is going\n",
              "// to poll for completion of each step.\n",
              "// This uses a Promise to block the python side on completion of each step,\n",
              "// then passes the result of the previous step as the input to the next step.\n",
              "function _uploadFilesContinue(outputId) {\n",
              "  const outputElement = document.getElementById(outputId);\n",
              "  const steps = outputElement.steps;\n",
              "\n",
              "  const next = steps.next(outputElement.lastPromiseValue);\n",
              "  return Promise.resolve(next.value.promise).then((value) => {\n",
              "    // Cache the last promise value to make it available to the next\n",
              "    // step of the generator.\n",
              "    outputElement.lastPromiseValue = value;\n",
              "    return next.value.response;\n",
              "  });\n",
              "}\n",
              "\n",
              "/**\n",
              " * Generator function which is called between each async step of the upload\n",
              " * process.\n",
              " * @param {string} inputId Element ID of the input file picker element.\n",
              " * @param {string} outputId Element ID of the output display.\n",
              " * @return {!Iterable<!Object>} Iterable of next steps.\n",
              " */\n",
              "function* uploadFilesStep(inputId, outputId) {\n",
              "  const inputElement = document.getElementById(inputId);\n",
              "  inputElement.disabled = false;\n",
              "\n",
              "  const outputElement = document.getElementById(outputId);\n",
              "  outputElement.innerHTML = '';\n",
              "\n",
              "  const pickedPromise = new Promise((resolve) => {\n",
              "    inputElement.addEventListener('change', (e) => {\n",
              "      resolve(e.target.files);\n",
              "    });\n",
              "  });\n",
              "\n",
              "  const cancel = document.createElement('button');\n",
              "  inputElement.parentElement.appendChild(cancel);\n",
              "  cancel.textContent = 'Cancel upload';\n",
              "  const cancelPromise = new Promise((resolve) => {\n",
              "    cancel.onclick = () => {\n",
              "      resolve(null);\n",
              "    };\n",
              "  });\n",
              "\n",
              "  // Wait for the user to pick the files.\n",
              "  const files = yield {\n",
              "    promise: Promise.race([pickedPromise, cancelPromise]),\n",
              "    response: {\n",
              "      action: 'starting',\n",
              "    }\n",
              "  };\n",
              "\n",
              "  cancel.remove();\n",
              "\n",
              "  // Disable the input element since further picks are not allowed.\n",
              "  inputElement.disabled = true;\n",
              "\n",
              "  if (!files) {\n",
              "    return {\n",
              "      response: {\n",
              "        action: 'complete',\n",
              "      }\n",
              "    };\n",
              "  }\n",
              "\n",
              "  for (const file of files) {\n",
              "    const li = document.createElement('li');\n",
              "    li.append(span(file.name, {fontWeight: 'bold'}));\n",
              "    li.append(span(\n",
              "        `(${file.type || 'n/a'}) - ${file.size} bytes, ` +\n",
              "        `last modified: ${\n",
              "            file.lastModifiedDate ? file.lastModifiedDate.toLocaleDateString() :\n",
              "                                    'n/a'} - `));\n",
              "    const percent = span('0% done');\n",
              "    li.appendChild(percent);\n",
              "\n",
              "    outputElement.appendChild(li);\n",
              "\n",
              "    const fileDataPromise = new Promise((resolve) => {\n",
              "      const reader = new FileReader();\n",
              "      reader.onload = (e) => {\n",
              "        resolve(e.target.result);\n",
              "      };\n",
              "      reader.readAsArrayBuffer(file);\n",
              "    });\n",
              "    // Wait for the data to be ready.\n",
              "    let fileData = yield {\n",
              "      promise: fileDataPromise,\n",
              "      response: {\n",
              "        action: 'continue',\n",
              "      }\n",
              "    };\n",
              "\n",
              "    // Use a chunked sending to avoid message size limits. See b/62115660.\n",
              "    let position = 0;\n",
              "    do {\n",
              "      const length = Math.min(fileData.byteLength - position, MAX_PAYLOAD_SIZE);\n",
              "      const chunk = new Uint8Array(fileData, position, length);\n",
              "      position += length;\n",
              "\n",
              "      const base64 = btoa(String.fromCharCode.apply(null, chunk));\n",
              "      yield {\n",
              "        response: {\n",
              "          action: 'append',\n",
              "          file: file.name,\n",
              "          data: base64,\n",
              "        },\n",
              "      };\n",
              "\n",
              "      let percentDone = fileData.byteLength === 0 ?\n",
              "          100 :\n",
              "          Math.round((position / fileData.byteLength) * 100);\n",
              "      percent.textContent = `${percentDone}% done`;\n",
              "\n",
              "    } while (position < fileData.byteLength);\n",
              "  }\n",
              "\n",
              "  // All done.\n",
              "  yield {\n",
              "    response: {\n",
              "      action: 'complete',\n",
              "    }\n",
              "  };\n",
              "}\n",
              "\n",
              "scope.google = scope.google || {};\n",
              "scope.google.colab = scope.google.colab || {};\n",
              "scope.google.colab._files = {\n",
              "  _uploadFiles,\n",
              "  _uploadFilesContinue,\n",
              "};\n",
              "})(self);\n",
              "</script> "
            ]
          },
          "metadata": {}
        },
        {
          "output_type": "stream",
          "name": "stdout",
          "text": [
            "Saving PP-Pathways_ppi.csv to PP-Pathways_ppi (4).csv\n"
          ]
        }
      ]
    },
    {
      "cell_type": "markdown",
      "source": [
        "## Creating the graph"
      ],
      "metadata": {
        "id": "iiHdmlncCui5"
      }
    },
    {
      "cell_type": "code",
      "source": [
        "df = pd.read_csv(\"PP-Pathways_ppi.csv\", sep=',', header=None, names=['source', 'target'])\n",
        "\n",
        "df.dropna(subset=['source', 'target'], inplace=True)\n",
        "\n",
        "encoder = LabelEncoder()\n",
        "all_nodes = pd.concat([df['source'], df['target']], axis=0)\n",
        "encoder.fit(all_nodes)\n",
        "df['source'] = encoder.transform(df['source'])\n",
        "df['target'] = encoder.transform(df['target'])\n",
        "\n",
        "G = nx.from_pandas_edgelist(df, source='source', target='target')\n",
        "print(f\"Nodes: {G.number_of_nodes()}, Edges: {G.number_of_edges()}\")\n",
        "\n",
        "G_data = from_networkx(G)\n",
        "G_data.num_nodes = G.number_of_nodes()"
      ],
      "metadata": {
        "id": "EGNwZ6ulFJxM",
        "colab": {
          "base_uri": "https://localhost:8080/"
        },
        "outputId": "45e898e7-02ed-4159-ef2c-25032b0dd4f4"
      },
      "execution_count": 4,
      "outputs": [
        {
          "output_type": "stream",
          "name": "stdout",
          "text": [
            "Nodes: 21557, Edges: 342353\n"
          ]
        }
      ]
    },
    {
      "cell_type": "markdown",
      "source": [
        "## Splitting data into training, testing and validating data"
      ],
      "metadata": {
        "id": "h78o8fq8C7kz"
      }
    },
    {
      "cell_type": "code",
      "source": [
        "embed_size = 5\n",
        "X = torch.nn.Embedding(G.number_of_nodes(), embed_size).weight\n",
        "X = X.requires_grad_(True)\n",
        "G_data.x = X\n",
        "\n",
        "transform = RandomLinkSplit(\n",
        "  num_val=0.1,\n",
        "  num_test=0.2,\n",
        "  is_undirected=True,\n",
        "  disjoint_train_ratio=0.0,\n",
        "  neg_sampling_ratio=1.0,\n",
        "  add_negative_train_samples=True\n",
        ")\n",
        "train_data, val_data, test_data = transform(G_data)"
      ],
      "metadata": {
        "id": "ig3HM2H16j8i"
      },
      "execution_count": 5,
      "outputs": []
    },
    {
      "cell_type": "markdown",
      "source": [
        "## Creating the GCN model"
      ],
      "metadata": {
        "id": "e2_ZvVxJC2lY"
      }
    },
    {
      "cell_type": "code",
      "source": [
        "class GCNLinkPredictor(torch.nn.Module):\n",
        "  def __init__(self, in_channels, hidden_channels):\n",
        "      super().__init__()\n",
        "      self.conv1 = GCNConv(in_channels, hidden_channels)\n",
        "      self.conv2 = GCNConv(hidden_channels, hidden_channels)\n",
        "\n",
        "  def encode(self, x, edge_index):\n",
        "      x = self.conv1(x, edge_index).relu()\n",
        "      return self.conv2(x, edge_index)\n",
        "\n",
        "\n",
        "  def decode(self, z, edge_label_index):\n",
        "      src = z[edge_label_index[0]]\n",
        "      dst = z[edge_label_index[1]]\n",
        "      return (src * dst).sum(dim=-1)\n"
      ],
      "metadata": {
        "id": "_sW_j3FnF-Od"
      },
      "execution_count": 6,
      "outputs": []
    },
    {
      "cell_type": "code",
      "source": [
        "model = GCNLinkPredictor(in_channels=5, hidden_channels=256)\n",
        "optimizer = optim.Adam(model.parameters(), lr=0.01)"
      ],
      "metadata": {
        "id": "X0yYu8CI9hAg"
      },
      "execution_count": 7,
      "outputs": []
    },
    {
      "cell_type": "code",
      "source": [
        "def train():\n",
        "  model.train()\n",
        "  z = model.encode(train_data.x, train_data.edge_index)\n",
        "  optimizer.zero_grad()\n",
        "\n",
        "  edge_index = train_data.edge_label_index\n",
        "  edge_labels = train_data.edge_label\n",
        "  pos_mask = edge_labels == 1\n",
        "\n",
        "  pos_out = model.decode(z, edge_index[:, pos_mask])\n",
        "  neg_out = model.decode(z, edge_index[:, ~pos_mask])\n",
        "\n",
        "  eps = 1e-15\n",
        "  pos_loss = -torch.log(torch.sigmoid(pos_out) + eps).mean()\n",
        "  neg_loss = -torch.log(1 - torch.sigmoid(neg_out) + eps).mean()\n",
        "  total_loss = pos_loss + neg_loss\n",
        "\n",
        "  total_loss.backward()\n",
        "  optimizer.step()\n",
        "\n",
        "  return total_loss.item()"
      ],
      "metadata": {
        "id": "eaYl2PVQGRIC"
      },
      "execution_count": 8,
      "outputs": []
    },
    {
      "cell_type": "code",
      "source": [
        "@torch.no_grad()\n",
        "def test(data):\n",
        "  model.eval()\n",
        "  z = model.encode(data.x, data.edge_index)\n",
        "  scores = model.decode(z, data.edge_label_index)\n",
        "  probs = torch.sigmoid(scores)\n",
        "  return probs.cpu().numpy()"
      ],
      "metadata": {
        "id": "n7TAh6TT9yLv"
      },
      "execution_count": 9,
      "outputs": []
    },
    {
      "cell_type": "code",
      "source": [
        "print(\"\\n=== Before training ===\")\n",
        "test_probs = test(test_data)\n",
        "print(f\"Sample test predictions (first 5):\\n{test_probs[:5]}\")\n",
        "\n",
        "print(\"\\n=== After training ===\")\n",
        "for epoch in range(1, 7):\n",
        "  loss = train()\n",
        "  test_probs = test(test_data)\n",
        "  true_labels = test_data.edge_label.cpu().numpy()\n",
        "  auc = roc_auc_score(true_labels, test_probs)\n",
        "  test_preds = (test_probs >= 0.5).astype(int)\n",
        "  f1 = f1_score(true_labels, test_preds)\n",
        "  print(f\"Epoch {epoch}, Loss: {loss:.4f}, AUC score: {auc:.4f}, F1 score: {f1:.4f}\")\n",
        "  print(f\"Sample predictions: {test_probs[:5].tolist()}...\")\n"
      ],
      "metadata": {
        "id": "kmDVxhZMGk66",
        "colab": {
          "base_uri": "https://localhost:8080/"
        },
        "outputId": "6ac38357-163b-4427-c15a-fb50076824aa"
      },
      "execution_count": 10,
      "outputs": [
        {
          "output_type": "stream",
          "name": "stdout",
          "text": [
            "\n",
            "=== Before training ===\n",
            "Sample test predictions (first 5):\n",
            "[0.5223207  0.5043248  0.51440567 0.50635105 0.52099824]\n",
            "\n",
            "=== After training ===\n",
            "Epoch 1, Loss: 1.3796, AUC score: 0.7335, F1 score: 0.6667\n",
            "Sample predictions: [0.6776979565620422, 0.5590129494667053, 0.6165188550949097, 0.5706403255462646, 0.6880089044570923]...\n",
            "Epoch 2, Loss: 1.4315, AUC score: 0.7695, F1 score: 0.6715\n",
            "Sample predictions: [0.542576253414154, 0.512789249420166, 0.5313093066215515, 0.5176675915718079, 0.5499387383460999]...\n",
            "Epoch 3, Loss: 1.3576, AUC score: 0.7799, F1 score: 0.6667\n",
            "Sample predictions: [0.8036202788352966, 0.6052180528640747, 0.7256286144256592, 0.6090024709701538, 0.8410631418228149]...\n",
            "Epoch 4, Loss: 1.5019, AUC score: 0.7885, F1 score: 0.6667\n",
            "Sample predictions: [0.6257538199424744, 0.5383560061454773, 0.5903383493423462, 0.5425963401794434, 0.6510991454124451]...\n",
            "Epoch 5, Loss: 1.3381, AUC score: 0.8284, F1 score: 0.6707\n",
            "Sample predictions: [0.5530480742454529, 0.5156046748161316, 0.541334867477417, 0.5202707648277283, 0.5728174448013306]...\n",
            "Epoch 6, Loss: 1.3359, AUC score: 0.8375, F1 score: 0.6703\n",
            "Sample predictions: [0.5733175873756409, 0.5225152969360352, 0.5567137598991394, 0.5286068916320801, 0.6020354628562927]...\n"
          ]
        }
      ]
    }
  ]
}